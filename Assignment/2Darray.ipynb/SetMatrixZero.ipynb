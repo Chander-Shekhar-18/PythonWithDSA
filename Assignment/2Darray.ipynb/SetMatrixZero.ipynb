{
 "cells": [
  {
   "cell_type": "markdown",
   "metadata": {},
   "source": [
    "If the given grid is this:\n",
    "[7, 19, 3]\n",
    "[4, 21, 0]\n",
    "\n",
    "Then the modified grid will be:\n",
    "[7, 19, 0]\n",
    "[0, 0,  0]"
   ]
  },
  {
   "cell_type": "code",
   "execution_count": null,
   "metadata": {},
   "outputs": [],
   "source": []
  }
 ],
 "metadata": {
  "language_info": {
   "name": "python"
  }
 },
 "nbformat": 4,
 "nbformat_minor": 2
}
