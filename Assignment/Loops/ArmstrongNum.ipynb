{
 "cells": [
  {
   "cell_type": "code",
   "execution_count": 8,
   "metadata": {},
   "outputs": [
    {
     "name": "stdout",
     "output_type": "stream",
     "text": [
      "True\n"
     ]
    }
   ],
   "source": [
    "'''\n",
    "You are given an integer 'n'. Return 'true' if 'n' is an Armstrong number, and 'false' otherwise.\n",
    "\n",
    "\n",
    "An Armstrong number is a number (with 'k' digits) such that the sum of its digits raised to 'kth' power is equal to the number itself. For example, 371 is an Armstrong number because 3^3 + 7^3 + 1^3 = 371.\n",
    "'''\n",
    "\n",
    "n = 1634\n",
    "\n",
    "def noOfDigit(num):\n",
    "    count = 0\n",
    "    while num != 0:\n",
    "        count = count + 1\n",
    "        num = num // 10\n",
    "    return count\n",
    "\n",
    "digits = noOfDigit(n)\n",
    "\n",
    "def checkArmstrong(n):\n",
    "    padding = n\n",
    "    armStrongNumber = 0\n",
    "    while n != 0:\n",
    "        digit = n % 10\n",
    "        armStrongNumber = armStrongNumber + (digit ** digits)\n",
    "        n = n // 10\n",
    "    \n",
    "    if padding == armStrongNumber:\n",
    "        return True\n",
    "    else:\n",
    "        return False\n",
    "    \n",
    "ans = checkArmstrong(n)\n",
    "print(ans)\n"
   ]
  }
 ],
 "metadata": {
  "kernelspec": {
   "display_name": "Python 3",
   "language": "python",
   "name": "python3"
  },
  "language_info": {
   "codemirror_mode": {
    "name": "ipython",
    "version": 3
   },
   "file_extension": ".py",
   "mimetype": "text/x-python",
   "name": "python",
   "nbconvert_exporter": "python",
   "pygments_lexer": "ipython3",
   "version": "3.12.3"
  }
 },
 "nbformat": 4,
 "nbformat_minor": 2
}
