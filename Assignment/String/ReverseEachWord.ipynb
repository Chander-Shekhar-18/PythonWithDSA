{
 "cells": [
  {
   "cell_type": "markdown",
   "metadata": {},
   "source": [
    "Input Sentence: \"Hello I am Aadil\"\n",
    "\n",
    "The expected output will look, \"olleH I ma lidaA\"."
   ]
  },
  {
   "cell_type": "code",
   "execution_count": 17,
   "metadata": {},
   "outputs": [],
   "source": [
    "str = 'hello i am chander'"
   ]
  },
  {
   "cell_type": "code",
   "execution_count": 18,
   "metadata": {},
   "outputs": [
    {
     "data": {
      "text/plain": [
       "'olleh i ma rednahc'"
      ]
     },
     "execution_count": 18,
     "metadata": {},
     "output_type": "execute_result"
    }
   ],
   "source": [
    "def reverseWord(str):\n",
    "    list = str.split()\n",
    "    reverseList = [] \n",
    "\n",
    "    for word in list:\n",
    "        reversedWord = ''\n",
    "        for char in word:\n",
    "            reversedWord = char + reversedWord\n",
    "        reverseList.append(reversedWord)\n",
    "        # print(f'Reverserd words are : {reversedWord}')\n",
    "\n",
    "    reversedStr = ''\n",
    "\n",
    "    for word in reverseList:\n",
    "        if reversedStr == '':\n",
    "            reversedStr = word\n",
    "        else:\n",
    "            reversedStr = reversedStr + ' ' + word\n",
    "\n",
    "    return reversedStr\n",
    "\n",
    "reverseWord(str)"
   ]
  }
 ],
 "metadata": {
  "kernelspec": {
   "display_name": "Python 3",
   "language": "python",
   "name": "python3"
  },
  "language_info": {
   "codemirror_mode": {
    "name": "ipython",
    "version": 3
   },
   "file_extension": ".py",
   "mimetype": "text/x-python",
   "name": "python",
   "nbconvert_exporter": "python",
   "pygments_lexer": "ipython3",
   "version": "3.12.3"
  }
 },
 "nbformat": 4,
 "nbformat_minor": 2
}
