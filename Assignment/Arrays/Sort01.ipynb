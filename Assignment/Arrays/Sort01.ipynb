{
 "cells": [
  {
   "cell_type": "code",
   "execution_count": 5,
   "metadata": {},
   "outputs": [
    {
     "name": "stdout",
     "output_type": "stream",
     "text": [
      "[0, 0, 0, 0, 1, 1, 1]\n"
     ]
    }
   ],
   "source": [
    "'''\n",
    "Sample Input:\n",
    "0 1 1 0 1 0 1\n",
    "Sample Output:\n",
    "0 0 0 1 1 1 1\n",
    "'''\n",
    "\n",
    "list = [0,1,1,0,0,0,1]\n",
    "\n",
    "left = list[0]\n",
    "right = len(list) - 1\n",
    "\n",
    "while left < right:\n",
    "    while list[left] == 0 and left < right:\n",
    "        left = left + 1\n",
    "    \n",
    "    while list[right] == 1 and left < right:\n",
    "        right = right - 1\n",
    "\n",
    "    if left < right:\n",
    "        list[left] = 0\n",
    "        list[right] = 1\n",
    "        left = left + 1\n",
    "        right = right - 1\n",
    "\n",
    "print(list)"
   ]
  }
 ],
 "metadata": {
  "kernelspec": {
   "display_name": "Python 3",
   "language": "python",
   "name": "python3"
  },
  "language_info": {
   "codemirror_mode": {
    "name": "ipython",
    "version": 3
   },
   "file_extension": ".py",
   "mimetype": "text/x-python",
   "name": "python",
   "nbconvert_exporter": "python",
   "pygments_lexer": "ipython3",
   "version": "3.12.3"
  }
 },
 "nbformat": 4,
 "nbformat_minor": 2
}
