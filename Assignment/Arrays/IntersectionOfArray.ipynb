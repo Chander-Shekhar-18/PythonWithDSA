{
 "cells": [
  {
   "cell_type": "code",
   "execution_count": 15,
   "metadata": {},
   "outputs": [
    {
     "data": {
      "text/plain": [
       "[2, 1, 2]"
      ]
     },
     "execution_count": 15,
     "metadata": {},
     "output_type": "execute_result"
    }
   ],
   "source": [
    "arr1 = [2,6,1,2]\n",
    "arr2 = [1,2,3,4,2]\n",
    "\n",
    "def intersection(arr1, arr2):\n",
    "\n",
    "    list = []\n",
    "\n",
    "    for i in arr1:\n",
    "        if i in arr2:\n",
    "            list.append(i)\n",
    "            arr2.remove(i)\n",
    "    \n",
    "    return list\n",
    "\n",
    "intersection(arr1, arr2)\n"
   ]
  }
 ],
 "metadata": {
  "kernelspec": {
   "display_name": "Python 3",
   "language": "python",
   "name": "python3"
  },
  "language_info": {
   "codemirror_mode": {
    "name": "ipython",
    "version": 3
   },
   "file_extension": ".py",
   "mimetype": "text/x-python",
   "name": "python",
   "nbconvert_exporter": "python",
   "pygments_lexer": "ipython3",
   "version": "3.12.3"
  }
 },
 "nbformat": 4,
 "nbformat_minor": 2
}
