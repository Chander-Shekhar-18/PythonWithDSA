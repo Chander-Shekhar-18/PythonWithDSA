{
 "cells": [
  {
   "cell_type": "code",
   "execution_count": 6,
   "metadata": {},
   "outputs": [
    {
     "name": "stdout",
     "output_type": "stream",
     "text": [
      "Array before sorting : [45, 1, 9, 5, 4, 3, 11]\n"
     ]
    }
   ],
   "source": [
    "arr = [45, 1, 9, 5, 4, 3, 11]\n",
    "print(f'Array before sorting : {arr}')"
   ]
  },
  {
   "cell_type": "code",
   "execution_count": 28,
   "metadata": {},
   "outputs": [
    {
     "name": "stdout",
     "output_type": "stream",
     "text": [
      "Arrays after sorting : [1, 3, 4, 5, 9, 11, 45]\n"
     ]
    }
   ],
   "source": [
    "def selectionSort(arr):\n",
    "    for i in range(len(arr)):\n",
    "        minIdx = i\n",
    "\n",
    "        for j in range(i + 1, len(arr)):\n",
    "            if arr[minIdx] > arr[j]:\n",
    "                minIdx = j\n",
    "        swap(arr[i], arr[minIdx])\n",
    "        # arr[i], arr[minIdx] = arr[minIdx], arr[i]\n",
    "\n",
    "def swap(i, j):\n",
    "    i, j = j, i\n",
    "\n",
    "selectionSort(arr)\n",
    "\n",
    "print(f'Arrays after sorting : {arr}')"
   ]
  }
 ],
 "metadata": {
  "kernelspec": {
   "display_name": "Python 3",
   "language": "python",
   "name": "python3"
  },
  "language_info": {
   "codemirror_mode": {
    "name": "ipython",
    "version": 3
   },
   "file_extension": ".py",
   "mimetype": "text/x-python",
   "name": "python",
   "nbconvert_exporter": "python",
   "pygments_lexer": "ipython3",
   "version": "3.12.3"
  }
 },
 "nbformat": 4,
 "nbformat_minor": 2
}
