{
 "cells": [
  {
   "cell_type": "markdown",
   "id": "eae1a4c0-ada4-4ea6-8d89-0e75c8e4aad0",
   "metadata": {},
   "source": [
    "## Datatypes"
   ]
  },
  {
   "cell_type": "code",
   "execution_count": 7,
   "id": "3c71bf1e-7787-473a-9ecb-23b0322e29b0",
   "metadata": {},
   "outputs": [
    {
     "name": "stdout",
     "output_type": "stream",
     "text": [
      "5 is of type <class 'int'>\n",
      "2.0 is of type <class 'float'>\n",
      "(1+2j) is of type <class 'complex'>\n"
     ]
    }
   ],
   "source": [
    "#Numbers Data types\n",
    "\n",
    "num1 = 5\n",
    "print(num1, 'is of type', type(num1))\n",
    "\n",
    "num2 = 2.0\n",
    "print(num2, 'is of type', type(num2))\n",
    "\n",
    "num3 = 1+2j\n",
    "print(num3, 'is of type', type(num3))"
   ]
  },
  {
   "cell_type": "code",
   "execution_count": 8,
   "id": "ea08e777-9221-4da6-888a-7d7ab81db109",
   "metadata": {},
   "outputs": [
    {
     "name": "stdout",
     "output_type": "stream",
     "text": [
      "Python\n",
      "Python for beginners\n"
     ]
    }
   ],
   "source": [
    "# String Data Type\n",
    "name = 'Python'\n",
    "print(name)  \n",
    "\n",
    "message = 'Python for beginners'\n",
    "print(message)"
   ]
  },
  {
   "cell_type": "code",
   "execution_count": 10,
   "id": "f0f28c7d-6ae9-4560-bd04-4fde0e7c8f43",
   "metadata": {},
   "outputs": [
    {
     "name": "stdout",
     "output_type": "stream",
     "text": [
      "bool to int: 1\n",
      "bool to float: 0.0\n",
      "bool to complex: (1+0j)\n"
     ]
    }
   ],
   "source": [
    "# Boolean Data Type\n",
    "a=int(True)\n",
    "print (\"bool to int:\", a)\n",
    "a=float(False)\n",
    "print (\"bool to float:\", a)\n",
    "a=complex(True)\n",
    "print (\"bool to complex:\", a)"
   ]
  }
 ],
 "metadata": {
  "kernelspec": {
   "display_name": "Python 3 (ipykernel)",
   "language": "python",
   "name": "python3"
  },
  "language_info": {
   "codemirror_mode": {
    "name": "ipython",
    "version": 3
   },
   "file_extension": ".py",
   "mimetype": "text/x-python",
   "name": "python",
   "nbconvert_exporter": "python",
   "pygments_lexer": "ipython3",
   "version": "3.10.12"
  }
 },
 "nbformat": 4,
 "nbformat_minor": 5
}
