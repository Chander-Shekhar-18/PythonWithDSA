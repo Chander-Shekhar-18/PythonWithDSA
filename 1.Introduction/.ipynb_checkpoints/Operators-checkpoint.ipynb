{
 "cells": [
  {
   "cell_type": "code",
   "execution_count": 5,
   "id": "2dd2b814-a391-4793-bf4d-e03282d574d6",
   "metadata": {},
   "outputs": [
    {
     "name": "stdout",
     "output_type": "stream",
     "text": [
      "Sum is : 16\n",
      "Subtraction is : 4\n",
      "Multiplication is : 60\n",
      "Division is : 1.6666666666666667\n",
      "Floor division is : 1\n",
      "Modulo is : 4\n",
      "Power is : 1000000\n"
     ]
    }
   ],
   "source": [
    "# Arithmetic Operators\n",
    "\n",
    "a = 10\n",
    "b = 6\n",
    "#1. Addition\n",
    "sum = a + b\n",
    "print('Sum is :', sum)\n",
    "\n",
    "#2. Subtraction\n",
    "sub = a - b\n",
    "print('Subtraction is :', sub)\n",
    "\n",
    "#3. Multiplication\n",
    "mul = a * b\n",
    "print('Multiplication is :', mul)\n",
    "\n",
    "#4. Division\n",
    "div = a / b\n",
    "print('Division is :', div)\n",
    "\n",
    "#5. Floor division\n",
    "floorDivision = a // b\n",
    "print('Floor division is :', floorDivision)\n",
    "\n",
    "#6. Modulo\n",
    "mod = a % b\n",
    "print('Modulo is :', mod)\n",
    "\n",
    "#7. Power\n",
    "pow = a ** b\n",
    "print('Power is :', pow)"
   ]
  },
  {
   "cell_type": "code",
   "execution_count": 12,
   "id": "a7c1e70c-8789-40fa-8460-ab46a65b5c3b",
   "metadata": {},
   "outputs": [
    {
     "name": "stdout",
     "output_type": "stream",
     "text": [
      "1 is assigned to a.\n",
      "2 is added in a, and updated value is : 3\n",
      "1 is subtracted in a, and updated value is : 2\n",
      "2 is multiplied in a, and updated value is : 4\n",
      "a is divided by 2, and updated value is : 2.0\n"
     ]
    }
   ],
   "source": [
    "# Assignment operators\n",
    "\n",
    "#1. Assignment operator\n",
    "a = 1\n",
    "print(a, 'is assigned to a.')\n",
    "\n",
    "#2. Addition assignment\n",
    "a += 2\n",
    "print('2 is added in a, and updated value is :', a)\n",
    "\n",
    "#3. Subtraction assignment\n",
    "a -= 1\n",
    "print('1 is subtracted in a, and updated value is :', a)\n",
    "\n",
    "#4. Multipication assignment\n",
    "a *= 2\n",
    "print('2 is multiplied in a, and updated value is :', a)\n",
    "\n",
    "#5. Division assignment\n",
    "a /= 2\n",
    "print('a is divided by 2, and updated value is :', a)"
   ]
  },
  {
   "cell_type": "code",
   "execution_count": 13,
   "id": "9289dda6-e362-4f9a-818f-c68a6db0bed2",
   "metadata": {},
   "outputs": [
    {
     "name": "stdout",
     "output_type": "stream",
     "text": [
      "False\n",
      "True\n",
      "True\n",
      "False\n",
      "True\n",
      "False\n"
     ]
    }
   ],
   "source": [
    "# Comparison operators\n",
    "\n",
    "f = 5\n",
    "g = 4\n",
    "\n",
    "#1. is equal to\n",
    "print(f == g)\n",
    "\n",
    "#2. not equal to\n",
    "print(f != g)\n",
    "\n",
    "#3. greater than\n",
    "print(f > g)\n",
    "\n",
    "#4. less than\n",
    "print(f < g)\n",
    "\n",
    "#5. greater than or equal to\n",
    "print(f >= g)\n",
    "\n",
    "#6. less than or equal to\n",
    "print(f <= g)"
   ]
  },
  {
   "cell_type": "code",
   "execution_count": 16,
   "id": "fc6e7c08-48f7-4d8e-a2a2-d5299a01d0da",
   "metadata": {},
   "outputs": [
    {
     "name": "stdout",
     "output_type": "stream",
     "text": [
      "True\n",
      "False\n",
      "True\n",
      "False\n"
     ]
    }
   ],
   "source": [
    "# Logical operators\n",
    "\n",
    "# logical AND\n",
    "print(True and True)     \n",
    "print(True and False)    \n",
    "\n",
    "# logical OR\n",
    "print(True or False)     \n",
    "\n",
    "# logical NOT\n",
    "print(not True)       "
   ]
  },
  {
   "cell_type": "code",
   "execution_count": 18,
   "id": "352b9413-504e-40bb-8e7a-08ae87f4befd",
   "metadata": {},
   "outputs": [
    {
     "name": "stdout",
     "output_type": "stream",
     "text": [
      "False\n",
      "True\n",
      "True\n",
      "True\n"
     ]
    }
   ],
   "source": [
    "# Special operators\n",
    "\n",
    "#1. Identity operators\n",
    "x1 = 5\n",
    "y1 = 5\n",
    "x2 = 'Hello'\n",
    "y2 = 'Hello'\n",
    "\n",
    "print(x1 is not y1) \n",
    "print(x2 is y2) \n",
    "\n",
    "#2. Membership operators\n",
    "message = 'Hello world'\n",
    "print('H' in message) \n",
    "print('hello' not in message) "
   ]
  }
 ],
 "metadata": {
  "kernelspec": {
   "display_name": "Python 3 (ipykernel)",
   "language": "python",
   "name": "python3"
  },
  "language_info": {
   "codemirror_mode": {
    "name": "ipython",
    "version": 3
   },
   "file_extension": ".py",
   "mimetype": "text/x-python",
   "name": "python",
   "nbconvert_exporter": "python",
   "pygments_lexer": "ipython3",
   "version": "3.10.12"
  }
 },
 "nbformat": 4,
 "nbformat_minor": 5
}
