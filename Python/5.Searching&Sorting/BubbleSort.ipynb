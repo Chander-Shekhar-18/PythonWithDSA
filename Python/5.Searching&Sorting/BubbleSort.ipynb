{
 "cells": [
  {
   "cell_type": "code",
   "execution_count": 2,
   "metadata": {},
   "outputs": [
    {
     "name": "stdout",
     "output_type": "stream",
     "text": [
      "Array before sorting : [45, 1, 9, 5, 4, 3, 11]\n"
     ]
    }
   ],
   "source": [
    "arr = [45, 1, 9, 5, 4, 3, 11]\n",
    "print(f'Array before sorting : {arr}')"
   ]
  },
  {
   "cell_type": "code",
   "execution_count": 6,
   "metadata": {},
   "outputs": [
    {
     "name": "stdout",
     "output_type": "stream",
     "text": [
      "Array after sorting is : [1, 3, 4, 5, 9, 11, 45]\n"
     ]
    }
   ],
   "source": [
    "def bubbleSort(arr):\n",
    "    size = len(arr)\n",
    "\n",
    "    for i in range(size):\n",
    "# 'size - 1 - i' instead of this, we can use 'len(arr) - 1' but 'len(arr) - 1' is brute force approach but 'size - 1 - i' is optimized approach\n",
    "        for j in range(size - 1 - i):\n",
    "            if arr[j] > arr[j + 1]:\n",
    "                arr[j], arr[j + 1] = arr[j + 1], arr[j]\n",
    "\n",
    "bubbleSort(arr)\n",
    "\n",
    "print(f'Array after sorting is : {arr}')"
   ]
  }
 ],
 "metadata": {
  "kernelspec": {
   "display_name": "Python 3",
   "language": "python",
   "name": "python3"
  },
  "language_info": {
   "codemirror_mode": {
    "name": "ipython",
    "version": 3
   },
   "file_extension": ".py",
   "mimetype": "text/x-python",
   "name": "python",
   "nbconvert_exporter": "python",
   "pygments_lexer": "ipython3",
   "version": "3.12.3"
  }
 },
 "nbformat": 4,
 "nbformat_minor": 2
}
