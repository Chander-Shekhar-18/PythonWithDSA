{
 "cells": [
  {
   "cell_type": "code",
   "execution_count": 2,
   "id": "18717647-f5bd-410b-af4f-6b5f8f20529c",
   "metadata": {},
   "outputs": [
    {
     "name": "stdout",
     "output_type": "stream",
     "text": [
      "1\n",
      "2\n",
      "3\n",
      "4\n",
      "5\n",
      "6\n",
      "7\n",
      "8\n",
      "9\n",
      "This is else for while loop\n"
     ]
    }
   ],
   "source": [
    "# else with while loop\n",
    "\n",
    "i = 1\n",
    "while i < 10:\n",
    "    print(i)\n",
    "    i = i + 1\n",
    "else:\n",
    "    print('This is else for while loop')"
   ]
  },
  {
   "cell_type": "code",
   "execution_count": 3,
   "id": "6f3725fb-326d-4c0e-92ae-ad2b32bcf49c",
   "metadata": {},
   "outputs": [
    {
     "name": "stdout",
     "output_type": "stream",
     "text": [
      "1\n",
      "2\n",
      "3\n",
      "4\n",
      "5\n",
      "6\n",
      "7\n",
      "8\n",
      "9\n",
      "This is else for for loop\n"
     ]
    }
   ],
   "source": [
    "# else with for loop\n",
    "for i in range(1, 10):\n",
    "    print(i)\n",
    "else:\n",
    "    print('This is else for for loop')"
   ]
  },
  {
   "cell_type": "code",
   "execution_count": 4,
   "id": "1e37c491-55ff-4519-8f3e-43b4d14b2b5d",
   "metadata": {},
   "outputs": [
    {
     "name": "stdout",
     "output_type": "stream",
     "text": [
      "1\n",
      "2\n"
     ]
    }
   ],
   "source": [
    "# code inside else will not be executed if while/for loop is finished because of break statement\n",
    "\n",
    "for i in range(1, 10):\n",
    "    if i == 3:\n",
    "        break\n",
    "    print(i)\n",
    "else:\n",
    "    print('This else will not be printed')"
   ]
  },
  {
   "cell_type": "code",
   "execution_count": 7,
   "id": "6d1ff2ad-3bed-49cc-9e94-6dc019add1b1",
   "metadata": {},
   "outputs": [
    {
     "name": "stdin",
     "output_type": "stream",
     "text": [
      " 7\n"
     ]
    },
    {
     "name": "stdout",
     "output_type": "stream",
     "text": [
      "It is a prime number\n"
     ]
    }
   ],
   "source": [
    "# most optimized code for checking if a number is prime or not\n",
    "\n",
    "n = int(input())\n",
    "\n",
    "for d in range(2, n):\n",
    "    if n % d == 0:\n",
    "        break\n",
    "else:\n",
    "    print('It is a prime number')"
   ]
  }
 ],
 "metadata": {
  "kernelspec": {
   "display_name": "Python 3 (ipykernel)",
   "language": "python",
   "name": "python3"
  },
  "language_info": {
   "codemirror_mode": {
    "name": "ipython",
    "version": 3
   },
   "file_extension": ".py",
   "mimetype": "text/x-python",
   "name": "python",
   "nbconvert_exporter": "python",
   "pygments_lexer": "ipython3",
   "version": "3.10.12"
  }
 },
 "nbformat": 4,
 "nbformat_minor": 5
}
