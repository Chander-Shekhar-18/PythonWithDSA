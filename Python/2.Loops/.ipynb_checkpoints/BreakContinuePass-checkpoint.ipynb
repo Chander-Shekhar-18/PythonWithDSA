{
 "cells": [
  {
   "cell_type": "code",
   "execution_count": 12,
   "id": "9c4f2288-a4a9-4fbc-97a3-cee1d214f1e2",
   "metadata": {},
   "outputs": [
    {
     "name": "stdout",
     "output_type": "stream",
     "text": [
      "s\n",
      "h\n",
      "e\n",
      "k\n"
     ]
    }
   ],
   "source": [
    "# break\n",
    "'''\n",
    "The break statement ebables a program to skip over a part of the code.\n",
    "A break statement terminates the very loop it lies within\n",
    "'''\n",
    "\n",
    "for c in 'shekchar':\n",
    "    if c == 'c':\n",
    "        break\n",
    "    print(c)"
   ]
  },
  {
   "cell_type": "code",
   "execution_count": 13,
   "id": "46a296e2-37b2-4d5e-9478-64797e26a360",
   "metadata": {},
   "outputs": [
    {
     "data": {
      "text/plain": [
       "'\\nThere are two ways to break out the loop :\\n1. if condition is false\\n2. if you hit the break statement\\n'"
      ]
     },
     "execution_count": 13,
     "metadata": {},
     "output_type": "execute_result"
    }
   ],
   "source": [
    "'''\n",
    "There are two ways to break out the loop :\n",
    "1. if condition is false\n",
    "2. if you hit the break statement\n",
    "'''"
   ]
  },
  {
   "cell_type": "code",
   "execution_count": 14,
   "id": "4fa3a9b0-ea85-4fac-82c5-28221917f7e9",
   "metadata": {},
   "outputs": [
    {
     "name": "stdout",
     "output_type": "stream",
     "text": [
      "s\n",
      "h\n",
      "e\n",
      "k\n",
      "h\n",
      "a\n",
      "r\n"
     ]
    }
   ],
   "source": [
    "# contiune\n",
    "\n",
    "'''\n",
    "A continue keyword is a control flow statement used within loops to skip the remaining code for the current iteration and immediately\n",
    "proceed to the next iteration.\n",
    "'''\n",
    "\n",
    "for c in 'shekchar':\n",
    "    if c == 'c':\n",
    "        continue\n",
    "    print(c)"
   ]
  },
  {
   "cell_type": "code",
   "execution_count": 15,
   "id": "6b0201be-c265-4eb6-a410-23978b73def7",
   "metadata": {},
   "outputs": [
    {
     "name": "stdout",
     "output_type": "stream",
     "text": [
      "s\n",
      "h\n",
      "e\n",
      "k\n",
      "c\n",
      "h\n",
      "a\n",
      "r\n"
     ]
    }
   ],
   "source": [
    "# pass\n",
    "'''\n",
    "1. pass keyword is a null statement.\n",
    "2. It is generally used as a placeholder for future code.\n",
    "'''\n",
    "for c in 'shekchar':\n",
    "    if c == 'c':\n",
    "        pass\n",
    "    print(c)"
   ]
  }
 ],
 "metadata": {
  "kernelspec": {
   "display_name": "Python 3 (ipykernel)",
   "language": "python",
   "name": "python3"
  },
  "language_info": {
   "codemirror_mode": {
    "name": "ipython",
    "version": 3
   },
   "file_extension": ".py",
   "mimetype": "text/x-python",
   "name": "python",
   "nbconvert_exporter": "python",
   "pygments_lexer": "ipython3",
   "version": "3.10.12"
  }
 },
 "nbformat": 4,
 "nbformat_minor": 5
}
