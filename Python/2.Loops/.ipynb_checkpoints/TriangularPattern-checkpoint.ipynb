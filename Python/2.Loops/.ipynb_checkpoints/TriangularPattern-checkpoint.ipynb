{
 "cells": [
  {
   "cell_type": "code",
   "execution_count": 1,
   "id": "e0630c1a-6276-45fe-8508-e4078a831d40",
   "metadata": {},
   "outputs": [
    {
     "name": "stdout",
     "output_type": "stream",
     "text": [
      "1\n",
      "12\n",
      "123\n",
      "1234\n"
     ]
    }
   ],
   "source": [
    "# 1\n",
    "# 12\n",
    "# 123\n",
    "# 1234\n",
    "\n",
    "n = 4\n",
    "row = 1\n",
    "\n",
    "while row <= n:\n",
    "    col = 1\n",
    "    while col <= row:\n",
    "        print(col, end = '')\n",
    "        col = col + 1\n",
    "    print()\n",
    "    row = row + 1"
   ]
  },
  {
   "cell_type": "code",
   "execution_count": 2,
   "id": "08ebfb5b-434b-4ada-adfa-7262c99701c0",
   "metadata": {},
   "outputs": [
    {
     "name": "stdout",
     "output_type": "stream",
     "text": [
      "1\n",
      "23\n",
      "345\n",
      "4567\n"
     ]
    }
   ],
   "source": [
    "# 1\n",
    "# 23\n",
    "# 345\n",
    "# 4567\n",
    "\n",
    "n = 4\n",
    "row = 1\n",
    "\n",
    "while row <= n:\n",
    "    col = 1\n",
    "    count = row\n",
    "    while col <= row:\n",
    "        print(count, end = '')\n",
    "        col = col + 1\n",
    "        count = count + 1\n",
    "    print()\n",
    "    row = row + 1"
   ]
  },
  {
   "cell_type": "code",
   "execution_count": 1,
   "id": "b71a8c46-e673-4fc1-af22-3bfa5ad857d4",
   "metadata": {},
   "outputs": [
    {
     "name": "stdout",
     "output_type": "stream",
     "text": [
      "1 \n",
      "2 3 \n",
      "4 5 6 \n",
      "7 8 9 10 \n"
     ]
    }
   ],
   "source": [
    "# 1\n",
    "# 23\n",
    "# 456\n",
    "# 78910\n",
    "\n",
    "n = 4\n",
    "row = 1\n",
    "count = 1 \n",
    "\n",
    "while row <= n:\n",
    "    col = 1\n",
    "    while col <= row:\n",
    "        print(count, end = ' ')\n",
    "        count = count + 1\n",
    "        col = col + 1\n",
    "    print()\n",
    "    row = row + 1"
   ]
  },
  {
   "cell_type": "code",
   "execution_count": 13,
   "id": "72b75db4-aa8b-4132-b7b5-47e192b468d1",
   "metadata": {},
   "outputs": [
    {
     "name": "stdout",
     "output_type": "stream",
     "text": [
      "****\n",
      "***\n",
      "**\n",
      "*\n"
     ]
    }
   ],
   "source": [
    "# ****\n",
    "# ***\n",
    "# **\n",
    "# *\n",
    "\n",
    "n = 4\n",
    "row = 1\n",
    "\n",
    "while row <= n:\n",
    "    col = 1\n",
    "    while col <= n - row + 1:\n",
    "        print('*', end = '')\n",
    "        col = col + 1\n",
    "    print()\n",
    "    row = row + 1"
   ]
  },
  {
   "cell_type": "code",
   "execution_count": 22,
   "id": "e918a101-dd35-488c-b808-d4c359faa774",
   "metadata": {},
   "outputs": [
    {
     "name": "stdout",
     "output_type": "stream",
     "text": [
      "****\n",
      "***\n",
      "**\n",
      "*\n"
     ]
    }
   ],
   "source": [
    "n = 4\n",
    "\n",
    "while n >= 1:\n",
    "    col = 0\n",
    "    while col < n:\n",
    "        print('*', end = '')\n",
    "        col = col + 1\n",
    "    print()\n",
    "    n = n - 1"
   ]
  }
 ],
 "metadata": {
  "kernelspec": {
   "display_name": "Python 3 (ipykernel)",
   "language": "python",
   "name": "python3"
  },
  "language_info": {
   "codemirror_mode": {
    "name": "ipython",
    "version": 3
   },
   "file_extension": ".py",
   "mimetype": "text/x-python",
   "name": "python",
   "nbconvert_exporter": "python",
   "pygments_lexer": "ipython3",
   "version": "3.10.12"
  }
 },
 "nbformat": 4,
 "nbformat_minor": 5
}
