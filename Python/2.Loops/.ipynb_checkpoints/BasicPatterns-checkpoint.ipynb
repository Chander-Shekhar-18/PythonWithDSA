{
 "cells": [
  {
   "cell_type": "code",
   "execution_count": 2,
   "id": "ea182fd8-a56d-4351-a5a6-40b521a3e1ab",
   "metadata": {},
   "outputs": [
    {
     "name": "stdout",
     "output_type": "stream",
     "text": [
      "****\n",
      "****\n",
      "****\n",
      "****\n"
     ]
    }
   ],
   "source": [
    "# ****\n",
    "# ****\n",
    "# ****\n",
    "# ****\n",
    "\n",
    "n = 4\n",
    "i = 1\n",
    "\n",
    "while i <= n:\n",
    "    j = 1\n",
    "    while j <= n:\n",
    "        print('*', end = '')\n",
    "        j += 1\n",
    "    print()\n",
    "    i += 1"
   ]
  },
  {
   "cell_type": "code",
   "execution_count": 5,
   "id": "0d7e0d42-9745-4528-b918-6900625e2f00",
   "metadata": {},
   "outputs": [
    {
     "name": "stdin",
     "output_type": "stream",
     "text": [
      " 3\n"
     ]
    },
    {
     "name": "stdout",
     "output_type": "stream",
     "text": [
      "333\n",
      "333\n",
      "333\n"
     ]
    }
   ],
   "source": [
    "# print n ,n times\n",
    "# 4444\n",
    "# 4444\n",
    "# 4444\n",
    "# 4444\n",
    "\n",
    "n = int(input())\n",
    "i = 1\n",
    "\n",
    "while i <= n:\n",
    "    j = 1\n",
    "    while j <= n:\n",
    "        print(n, end = '')\n",
    "        j += 1\n",
    "    print()\n",
    "    i += 1"
   ]
  },
  {
   "cell_type": "code",
   "execution_count": 10,
   "id": "8a2a2eaf-f8ab-4ea3-9bc5-57c97663404d",
   "metadata": {},
   "outputs": [
    {
     "name": "stdout",
     "output_type": "stream",
     "text": [
      "1111\n",
      "2222\n",
      "3333\n",
      "4444\n"
     ]
    }
   ],
   "source": [
    "# 1111\n",
    "# 2222\n",
    "# 3333\n",
    "# 4444\n",
    "\n",
    "n = 4\n",
    "i = 1\n",
    "\n",
    "while i <= n:\n",
    "    j = 1\n",
    "    while j <= n:\n",
    "        print(i, end = '')\n",
    "        j += 1\n",
    "    print()\n",
    "    i += 1"
   ]
  },
  {
   "cell_type": "code",
   "execution_count": null,
   "id": "e3d55903-c75e-46e0-8d31-8e6ce905e1ce",
   "metadata": {},
   "outputs": [],
   "source": [
    "# 1234\n",
    "# 1234\n",
    "# 1234\n",
    "# 1234\n",
    "\n",
    "n = 4\n",
    "row = 1\n",
    "\n",
    "while row <= n:\n",
    "    col = 1\n",
    "    while col <=n:\n",
    "        print(col, end = '')\n",
    "        col += 1\n",
    "    print()\n",
    "    row += 1"
   ]
  },
  {
   "cell_type": "code",
   "execution_count": 1,
   "id": "472b7f0d-aabc-417f-957a-490555efc01c",
   "metadata": {},
   "outputs": [
    {
     "name": "stdout",
     "output_type": "stream",
     "text": [
      "4321\n",
      "4321\n",
      "4321\n",
      "4321\n"
     ]
    }
   ],
   "source": [
    "# 4321\n",
    "# 4321\n",
    "# 4321\n",
    "# 4321\n",
    "\n",
    "n = 4\n",
    "row = 1\n",
    "\n",
    "while row <= n:\n",
    "    col = n\n",
    "    while col > 0:\n",
    "        print(col, end = '')\n",
    "        col = col - 1\n",
    "    print()\n",
    "    row = row + 1"
   ]
  }
 ],
 "metadata": {
  "kernelspec": {
   "display_name": "Python 3 (ipykernel)",
   "language": "python",
   "name": "python3"
  },
  "language_info": {
   "codemirror_mode": {
    "name": "ipython",
    "version": 3
   },
   "file_extension": ".py",
   "mimetype": "text/x-python",
   "name": "python",
   "nbconvert_exporter": "python",
   "pygments_lexer": "ipython3",
   "version": "3.10.12"
  }
 },
 "nbformat": 4,
 "nbformat_minor": 5
}
