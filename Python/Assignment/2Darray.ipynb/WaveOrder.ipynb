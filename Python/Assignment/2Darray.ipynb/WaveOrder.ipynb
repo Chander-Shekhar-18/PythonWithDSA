{
 "cells": [
  {
   "cell_type": "markdown",
   "metadata": {},
   "source": [
    "For a given two-dimensional integer array of size (N x M), print the array in a sine wave order, i.e, print the first column top to bottom, next column bottom to top and so on.\n",
    "\n",
    "Sample Input:\n",
    "\n",
    "1  2  3  4 \n",
    "\n",
    "5  6  7  8 \n",
    "\n",
    "9 10 11 12\n",
    "\n",
    "Sample Output:\n",
    "1 5 9 10 6 2 3 7 11 12 8 4"
   ]
  },
  {
   "cell_type": "code",
   "execution_count": 13,
   "metadata": {},
   "outputs": [],
   "source": [
    "def wavePrint(input_array):\n",
    "    row = len(input_array)\n",
    "    col = len(input_array[0])\n",
    "\n",
    "    if row == 0 or col == 0:\n",
    "        return\n",
    "\n",
    "    for i in range(col):\n",
    "        if i % 2 == 0:\n",
    "            for j in range(row):\n",
    "                print(input_array[j][i], end = ' ')\n",
    "        else:\n",
    "            for j in range(row - 1, -1, -1):\n",
    "                print(input_array[j][i], end = ' ')"
   ]
  },
  {
   "cell_type": "code",
   "execution_count": 14,
   "metadata": {},
   "outputs": [
    {
     "name": "stdout",
     "output_type": "stream",
     "text": [
      "1 5 9 10 6 2 3 7 11 12 8 4 "
     ]
    }
   ],
   "source": [
    "matrix = [[1, 2, 3, 4],\n",
    "          [5, 6, 7, 8],\n",
    "          [9, 10, 11, 12]]\n",
    "\n",
    "wavePrint(matrix)"
   ]
  },
  {
   "cell_type": "code",
   "execution_count": 15,
   "metadata": {},
   "outputs": [
    {
     "data": {
      "text/plain": [
       "[1, 5, 9, 10, 6, 2, 3, 7, 11, 12, 8, 4]"
      ]
     },
     "execution_count": 15,
     "metadata": {},
     "output_type": "execute_result"
    }
   ],
   "source": [
    "# another approach\n",
    "\n",
    "def printWave(arr, rowLen, colLen):\n",
    "    ans = []\n",
    "\n",
    "    for col in range(colLen):\n",
    "        if col % 2 == 0:\n",
    "            for row in range(rowLen):\n",
    "                ans.append(arr[row][col])\n",
    "        else:\n",
    "            for row in range(rowLen - 1, -1, -1):\n",
    "                ans.append(arr[row][col])\n",
    "    \n",
    "    return ans\n",
    "\n",
    "printWave(matrix, len(matrix), len(matrix[0]))"
   ]
  }
 ],
 "metadata": {
  "kernelspec": {
   "display_name": "Python 3",
   "language": "python",
   "name": "python3"
  },
  "language_info": {
   "codemirror_mode": {
    "name": "ipython",
    "version": 3
   },
   "file_extension": ".py",
   "mimetype": "text/x-python",
   "name": "python",
   "nbconvert_exporter": "python",
   "pygments_lexer": "ipython3",
   "version": "3.12.3"
  }
 },
 "nbformat": 4,
 "nbformat_minor": 2
}
