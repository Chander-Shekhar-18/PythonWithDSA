{
 "cells": [
  {
   "cell_type": "markdown",
   "metadata": {},
   "source": [
    "If the given grid is this:\n",
    "[7, 19, 3]\n",
    "[4, 21, 0]\n",
    "\n",
    "Then the modified grid will be:\n",
    "[7, 19, 0]\n",
    "[0, 0,  0]"
   ]
  },
  {
   "cell_type": "code",
   "execution_count": 21,
   "metadata": {},
   "outputs": [],
   "source": [
    "from math import *\n",
    "from collections import *\n",
    "from sys import *\n",
    "\n",
    "from typing import List\n",
    "\n",
    "def setZeros(matrix: List[List[int]]) -> None:\n",
    "\n",
    "    row = [False] * len(matrix)\n",
    "    col = [False] * len(matrix[0])\n",
    "    \n",
    "    for i in range(len(matrix)):\n",
    "        for j in range(len(matrix[0])):\n",
    "            if matrix[i][j] == 0:\n",
    "                row[i] = True\n",
    "                col[j] = True\n",
    "\n",
    "    for i in range(len(matrix)):\n",
    "        if row[i] == True:\n",
    "            for j in range(len(matrix[0])):\n",
    "                matrix[i][j] = 0\n",
    "\n",
    "    for i in range(len(matrix[0])):\n",
    "        if col[i] == True:\n",
    "            for j in range(len(matrix)):\n",
    "                matrix[j][i] = 0\n",
    "\n",
    "                "
   ]
  },
  {
   "cell_type": "code",
   "execution_count": 20,
   "metadata": {},
   "outputs": [
    {
     "name": "stdout",
     "output_type": "stream",
     "text": [
      "2\n",
      "3\n",
      "[False, True]\n",
      "[False, False, True]\n",
      "[[7, 19, 0], [0, 0, 0]]\n"
     ]
    }
   ],
   "source": [
    "matrix = [\n",
    "    [7, 19, 3],\n",
    "    [4, 21, 0]\n",
    "]\n",
    "\n",
    "print(len(matrix))\n",
    "print(len(matrix[0]))\n",
    "\n",
    "setZeros(matrix)\n",
    "\n",
    "print(matrix)"
   ]
  }
 ],
 "metadata": {
  "kernelspec": {
   "display_name": "Python 3",
   "language": "python",
   "name": "python3"
  },
  "language_info": {
   "codemirror_mode": {
    "name": "ipython",
    "version": 3
   },
   "file_extension": ".py",
   "mimetype": "text/x-python",
   "name": "python",
   "nbconvert_exporter": "python",
   "pygments_lexer": "ipython3",
   "version": "3.12.3"
  }
 },
 "nbformat": 4,
 "nbformat_minor": 2
}
