{
 "cells": [
  {
   "cell_type": "code",
   "execution_count": 1,
   "metadata": {},
   "outputs": [],
   "source": [
    "def boundaryTraversal(arr, rowLen, colLen):\n",
    "    ans = []\n",
    "\n",
    "    for i in range(rowLen):\n",
    "        for j in range(colLen):\n",
    "            if i == 0 or i == rowLen - 1 or j == 0 or j == colLen - 1:\n",
    "                ans.append(arr[i][j])\n",
    "    \n",
    "    return ans"
   ]
  },
  {
   "cell_type": "code",
   "execution_count": 3,
   "metadata": {},
   "outputs": [
    {
     "data": {
      "text/plain": [
       "[1, 2, 3, 4, 5, 8, 9, 12, 13, 14, 15, 16]"
      ]
     },
     "execution_count": 3,
     "metadata": {},
     "output_type": "execute_result"
    }
   ],
   "source": [
    "arr = [[1, 2, 3, 4],\n",
    "       [5, 6, 7, 8], \n",
    "       [9, 10, 11, 12], \n",
    "       [13, 14, 15, 16]]\n",
    "boundaryTraversal(arr, len(arr), len(arr[0]))"
   ]
  }
 ],
 "metadata": {
  "kernelspec": {
   "display_name": "Python 3",
   "language": "python",
   "name": "python3"
  },
  "language_info": {
   "codemirror_mode": {
    "name": "ipython",
    "version": 3
   },
   "file_extension": ".py",
   "mimetype": "text/x-python",
   "name": "python",
   "nbconvert_exporter": "python",
   "pygments_lexer": "ipython3",
   "version": "3.12.3"
  }
 },
 "nbformat": 4,
 "nbformat_minor": 2
}
