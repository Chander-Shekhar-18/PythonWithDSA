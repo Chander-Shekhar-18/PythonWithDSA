{
 "cells": [
  {
   "cell_type": "code",
   "execution_count": 12,
   "metadata": {},
   "outputs": [],
   "source": [
    "def countSum(arr, mRows, nCols):\n",
    "    maxRowSum = 0\n",
    "    maxColSum = 0\n",
    "\n",
    "    maxRowIndex = 0\n",
    "    maxColIndex = 0\n",
    "\n",
    "    rowSum = [0] * mRows\n",
    "    colSum = [0] * nCols\n",
    "\n",
    "    for i in range(mRows):\n",
    "        for j in range(nCols):\n",
    "            rowSum[i] += arr[i][j]\n",
    "            colSum[j] += arr[i][j]\n",
    "\n",
    "    for i in range(mRows):\n",
    "        if rowSum[i] > maxRowSum:\n",
    "            maxRowSum = rowSum[i]\n",
    "            maxRowIndex = i\n",
    "    \n",
    "    for i in range(nCols):\n",
    "        maxColSum = max(maxColSum, colSum[i])\n",
    "        maxColIndex = i\n",
    "\n",
    "    if maxRowSum >= maxColSum:\n",
    "        print(f'Rows number is : {maxRowIndex} and sum is : {maxRowSum}')\n",
    "    else:\n",
    "        print(f'Columns number is : {maxColIndex} and sum is : {maxColSum}')\n"
   ]
  },
  {
   "cell_type": "code",
   "execution_count": 15,
   "metadata": {},
   "outputs": [
    {
     "name": "stdout",
     "output_type": "stream",
     "text": [
      "Rows number is : 0 and sum is : 14\n"
     ]
    }
   ],
   "source": [
    "arr = [[11, 3], \n",
    "       [2, 3]]\n",
    "\n",
    "countSum(arr, 2, 2)"
   ]
  }
 ],
 "metadata": {
  "kernelspec": {
   "display_name": "Python 3",
   "language": "python",
   "name": "python3"
  },
  "language_info": {
   "codemirror_mode": {
    "name": "ipython",
    "version": 3
   },
   "file_extension": ".py",
   "mimetype": "text/x-python",
   "name": "python",
   "nbconvert_exporter": "python",
   "pygments_lexer": "ipython3",
   "version": "3.12.3"
  }
 },
 "nbformat": 4,
 "nbformat_minor": 2
}
