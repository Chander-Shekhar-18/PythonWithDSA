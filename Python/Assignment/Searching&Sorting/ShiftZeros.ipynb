{
 "cells": [
  {
   "cell_type": "code",
   "execution_count": 1,
   "metadata": {},
   "outputs": [
    {
     "data": {
      "text/plain": [
       "'\\nSample Input:\\n2 0 0 1 3 0 0\\nSample Output:\\n2 1 3 0 0 0 0\\n'"
      ]
     },
     "execution_count": 1,
     "metadata": {},
     "output_type": "execute_result"
    }
   ],
   "source": [
    "'''\n",
    "Sample Input:\n",
    "2 0 0 1 3 0 0\n",
    "Sample Output:\n",
    "2 1 3 0 0 0 0\n",
    "'''"
   ]
  },
  {
   "cell_type": "code",
   "execution_count": 70,
   "metadata": {},
   "outputs": [],
   "source": [
    "arr = [2, 0, 0, 1, 3, 0, 0, 4, 0]"
   ]
  },
  {
   "cell_type": "code",
   "execution_count": 13,
   "metadata": {},
   "outputs": [],
   "source": [
    "# using two lists : Brute force approach\n",
    "\n",
    "def shiftingZerosTwoList(arr):\n",
    "    nonZero = []\n",
    "    zero = []\n",
    "\n",
    "    for i in arr:\n",
    "        if i != 0:\n",
    "            nonZero.append(i)\n",
    "    for i in arr:\n",
    "        if i == 0:\n",
    "            zero.append(i)\n",
    "    \n",
    "    return nonZero + zero"
   ]
  },
  {
   "cell_type": "code",
   "execution_count": 14,
   "metadata": {},
   "outputs": [
    {
     "name": "stdout",
     "output_type": "stream",
     "text": [
      "Array after shifting zeros : [2, 1, 3, 0, 0, 0, 0]\n"
     ]
    }
   ],
   "source": [
    "print(f'Array after shifting zeros : {shiftingZerosTwoList(arr)}')"
   ]
  },
  {
   "cell_type": "code",
   "execution_count": 74,
   "metadata": {},
   "outputs": [],
   "source": [
    "# optimized approach\n",
    "\n",
    "# arr = [2, 0, 0, 1, 3, 0, 0]\n",
    "\n",
    "def shiftingZeros(arr):\n",
    "    non_zero_index = 0\n",
    "    \n",
    "    for i in range(len(arr)):\n",
    "        if arr[i] != 0:\n",
    "            arr[non_zero_index] = arr[i]\n",
    "            non_zero_index += 1\n",
    "            print(f'Non zero index is : {non_zero_index}')\n",
    "    \n",
    "    for i in range(non_zero_index, len(arr)):\n",
    "        print(f'Non zero index : {non_zero_index}')\n",
    "        arr[i] = 0\n",
    "\n",
    "    return arr"
   ]
  },
  {
   "cell_type": "code",
   "execution_count": 77,
   "metadata": {},
   "outputs": [
    {
     "name": "stdout",
     "output_type": "stream",
     "text": [
      "Non zero index is : 1\n",
      "Non zero index is : 2\n",
      "Non zero index is : 3\n",
      "Non zero index is : 4\n",
      "Non zero index : 4\n",
      "Non zero index : 4\n",
      "Non zero index : 4\n",
      "Non zero index : 4\n",
      "Non zero index : 4\n",
      "Array after shifting zeros : [2, 1, 3, 4, 0, 0, 0, 0, 0]\n"
     ]
    }
   ],
   "source": [
    "print(f'Array after shifting zeros : {shiftingZeros(arr)}')"
   ]
  }
 ],
 "metadata": {
  "kernelspec": {
   "display_name": "Python 3",
   "language": "python",
   "name": "python3"
  },
  "language_info": {
   "codemirror_mode": {
    "name": "ipython",
    "version": 3
   },
   "file_extension": ".py",
   "mimetype": "text/x-python",
   "name": "python",
   "nbconvert_exporter": "python",
   "pygments_lexer": "ipython3",
   "version": "3.12.3"
  }
 },
 "nbformat": 4,
 "nbformat_minor": 2
}
