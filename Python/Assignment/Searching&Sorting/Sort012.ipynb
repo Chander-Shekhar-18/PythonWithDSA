{
 "cells": [
  {
   "cell_type": "markdown",
   "metadata": {},
   "source": [
    "You are given an integer array/list(ARR) of size N. It contains only 0s, 1s and 2s. Write a solution to sort this array/list in a 'single scan'.\n",
    "\n",
    "'Single Scan' refers to iterating over the array/list just once or to put it in other words, you will be visiting each element in the array/list just once."
   ]
  },
  {
   "cell_type": "code",
   "execution_count": 1,
   "metadata": {},
   "outputs": [],
   "source": [
    "def Sorting01(arr):\n",
    "    zeroIdx = 0\n",
    "    oneIdx = 0\n",
    "    twoIdx = 0\n",
    "\n",
    "    for i in arr:\n",
    "        if i == 0:\n",
    "            zeroIdx = zeroIdx + 1\n",
    "        elif i == 1:\n",
    "            oneIdx = oneIdx + 1\n",
    "        else:\n",
    "            twoIdx = twoIdx + 1\n",
    "\n",
    "    for i in range(0, zeroIdx):\n",
    "        arr[i] = 0\n",
    "    for i in range(zeroIdx, oneIdx):\n",
    "        arr[i] = 1\n",
    "          \n"
   ]
  },
  {
   "cell_type": "code",
   "execution_count": 3,
   "metadata": {},
   "outputs": [
    {
     "name": "stdout",
     "output_type": "stream",
     "text": [
      "[0, 0, 1, 0, 0, 1]\n"
     ]
    }
   ],
   "source": [
    "arr = [1, 1, 2, 0, 0 ,1]\n",
    "Sorting01(arr)\n",
    "\n",
    "print(arr)"
   ]
  }
 ],
 "metadata": {
  "kernelspec": {
   "display_name": "Python 3",
   "language": "python",
   "name": "python3"
  },
  "language_info": {
   "codemirror_mode": {
    "name": "ipython",
    "version": 3
   },
   "file_extension": ".py",
   "mimetype": "text/x-python",
   "name": "python",
   "nbconvert_exporter": "python",
   "pygments_lexer": "ipython3",
   "version": "3.12.3"
  }
 },
 "nbformat": 4,
 "nbformat_minor": 2
}
