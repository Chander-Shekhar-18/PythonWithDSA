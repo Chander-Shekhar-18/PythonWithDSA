{
 "cells": [
  {
   "cell_type": "code",
   "execution_count": 3,
   "metadata": {},
   "outputs": [
    {
     "data": {
      "text/plain": [
       "8"
      ]
     },
     "execution_count": 3,
     "metadata": {},
     "output_type": "execute_result"
    }
   ],
   "source": [
    "'''\n",
    "Sample Input:\n",
    "4 3 10 9 2\n",
    "Sample Output:\n",
    "9\n",
    "'''\n",
    "\n",
    "arr = [4, 3, 10, 8, 2]\n",
    "\n",
    "def secondLargest(arr):\n",
    "    first = float('-inf')\n",
    "    second = float('-inf')\n",
    "\n",
    "    for i in range(len(arr)):\n",
    "        if arr[i] > first:\n",
    "            second = first\n",
    "            first = arr[i]\n",
    "        elif arr[i] > second and i != first:\n",
    "            second = arr[i]\n",
    "    \n",
    "    return second\n",
    "\n",
    "secondLargest(arr)"
   ]
  },
  {
   "cell_type": "code",
   "execution_count": 5,
   "metadata": {},
   "outputs": [
    {
     "data": {
      "text/plain": [
       "8"
      ]
     },
     "execution_count": 5,
     "metadata": {},
     "output_type": "execute_result"
    }
   ],
   "source": [
    "def findSecondLargest(arr):\n",
    "    firstLar = secondLar = float('-inf')\n",
    "\n",
    "    for num in arr:\n",
    "        if num > firstLar:\n",
    "            secondLar = firstLar\n",
    "            firstLar = num\n",
    "        elif num > secondLar and num != firstLar:\n",
    "            secondLar = num\n",
    "    \n",
    "    return secondLar\n",
    "\n",
    "findSecondLargest(arr)"
   ]
  }
 ],
 "metadata": {
  "kernelspec": {
   "display_name": "Python 3",
   "language": "python",
   "name": "python3"
  },
  "language_info": {
   "codemirror_mode": {
    "name": "ipython",
    "version": 3
   },
   "file_extension": ".py",
   "mimetype": "text/x-python",
   "name": "python",
   "nbconvert_exporter": "python",
   "pygments_lexer": "ipython3",
   "version": "3.12.3"
  }
 },
 "nbformat": 4,
 "nbformat_minor": 2
}
