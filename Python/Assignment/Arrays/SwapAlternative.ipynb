{
 "cells": [
  {
   "cell_type": "markdown",
   "metadata": {},
   "source": [
    "You have been given an array/list(ARR) of size N. You need to swap every pair of alternate elements in the array/list.\n",
    "You don't need to print or return anything, just change in the input array itself.\n",
    "\n",
    "Sample Input 1 :\n",
    "9 3 6 12 4 32\n",
    "\n",
    "Sample Output 1 :\n",
    "3 9 12 6 32 4"
   ]
  },
  {
   "cell_type": "code",
   "execution_count": 7,
   "metadata": {},
   "outputs": [
    {
     "name": "stdout",
     "output_type": "stream",
     "text": [
      "[3, 9, 12, 6, 32, 4]\n"
     ]
    }
   ],
   "source": [
    "numbers = [9, 3, 6, 12, 4, 32]\n",
    "\n",
    "def swapAlternative(arr):\n",
    "    for i in range(0, len(arr) - 1, 2):\n",
    "        arr[i], arr[i + 1] = arr[i + 1], arr[i]\n",
    "\n",
    "swapAlternative(numbers)\n",
    "\n",
    "print(numbers)"
   ]
  },
  {
   "cell_type": "code",
   "execution_count": 8,
   "metadata": {},
   "outputs": [
    {
     "name": "stdout",
     "output_type": "stream",
     "text": [
      "[3, 9, 12, 6, 32, 4]\n"
     ]
    }
   ],
   "source": [
    "numbers = [9, 3, 6, 12, 4, 32]\n",
    "\n",
    "def swapAlternative(arr):\n",
    "    for i in range(0, len(arr) - 1, 2):\n",
    "        temp = arr[i]\n",
    "        arr[i] = arr[i + 1]\n",
    "        arr[i + 1] = temp\n",
    "\n",
    "swapAlternative(numbers)\n",
    "\n",
    "print(numbers)"
   ]
  }
 ],
 "metadata": {
  "kernelspec": {
   "display_name": "Python 3",
   "language": "python",
   "name": "python3"
  },
  "language_info": {
   "codemirror_mode": {
    "name": "ipython",
    "version": 3
   },
   "file_extension": ".py",
   "mimetype": "text/x-python",
   "name": "python",
   "nbconvert_exporter": "python",
   "pygments_lexer": "ipython3",
   "version": "3.12.3"
  }
 },
 "nbformat": 4,
 "nbformat_minor": 2
}
