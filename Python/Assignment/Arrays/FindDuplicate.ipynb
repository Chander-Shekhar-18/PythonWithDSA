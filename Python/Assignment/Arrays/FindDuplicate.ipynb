{
 "cells": [
  {
   "cell_type": "code",
   "execution_count": 7,
   "metadata": {},
   "outputs": [
    {
     "data": {
      "text/plain": [
       "7"
      ]
     },
     "execution_count": 7,
     "metadata": {},
     "output_type": "execute_result"
    }
   ],
   "source": [
    "list = [0, 7, 2, 5, 4, 7, 1, 3, 6]\n",
    "\n",
    "def unique(list):\n",
    "    for i in range(len(list)):\n",
    "        isDuplicate = False\n",
    "        \n",
    "        for j in range(len(list)):\n",
    "            if i != j and list[i] == list[j]:\n",
    "                isDuplicate = True\n",
    "                break\n",
    "            \n",
    "        if isDuplicate:\n",
    "            return list[i]\n",
    "        \n",
    "unique(list)"
   ]
  }
 ],
 "metadata": {
  "kernelspec": {
   "display_name": "Python 3",
   "language": "python",
   "name": "python3"
  },
  "language_info": {
   "codemirror_mode": {
    "name": "ipython",
    "version": 3
   },
   "file_extension": ".py",
   "mimetype": "text/x-python",
   "name": "python",
   "nbconvert_exporter": "python",
   "pygments_lexer": "ipython3",
   "version": "3.12.3"
  }
 },
 "nbformat": 4,
 "nbformat_minor": 2
}
