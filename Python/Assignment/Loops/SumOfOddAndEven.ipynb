{
 "cells": [
  {
   "cell_type": "code",
   "execution_count": 1,
   "metadata": {},
   "outputs": [
    {
     "name": "stdout",
     "output_type": "stream",
     "text": [
      "Sum of even digits are 12\n",
      "Sum of odd digits are 9\n"
     ]
    }
   ],
   "source": [
    "n = 123456\n",
    "\n",
    "oddSum = 0\n",
    "evenSum = 0\n",
    "\n",
    "while n != 0:\n",
    "    digit = n % 10\n",
    "    if digit % 2 == 0:\n",
    "        evenSum = evenSum + digit\n",
    "    else:\n",
    "        oddSum = oddSum + digit\n",
    "    \n",
    "    n = n // 10\n",
    "\n",
    "print(f'Sum of even digits are {evenSum}')\n",
    "print(f'Sum of odd digits are {oddSum}')"
   ]
  }
 ],
 "metadata": {
  "kernelspec": {
   "display_name": "Python 3",
   "language": "python",
   "name": "python3"
  },
  "language_info": {
   "codemirror_mode": {
    "name": "ipython",
    "version": 3
   },
   "file_extension": ".py",
   "mimetype": "text/x-python",
   "name": "python",
   "nbconvert_exporter": "python",
   "pygments_lexer": "ipython3",
   "version": "3.12.3"
  }
 },
 "nbformat": 4,
 "nbformat_minor": 2
}
