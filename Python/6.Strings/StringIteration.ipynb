{
 "cells": [
  {
   "cell_type": "code",
   "execution_count": 6,
   "metadata": {},
   "outputs": [
    {
     "name": "stdout",
     "output_type": "stream",
     "text": [
      "C h a n d e r S h e k h a r "
     ]
    }
   ],
   "source": [
    "# Accessing the element directly from a string\n",
    "\n",
    "name = 'ChanderShekhar'\n",
    "\n",
    "for char in name:\n",
    "    print(char, end = ' ')"
   ]
  },
  {
   "cell_type": "code",
   "execution_count": 5,
   "metadata": {},
   "outputs": [
    {
     "name": "stdout",
     "output_type": "stream",
     "text": [
      "C,h,a,n,d,e,r,S,h,e,k,h,a,r,"
     ]
    }
   ],
   "source": [
    "# Accessing the element by their indexes\n",
    "\n",
    "for char in range(len(name)):\n",
    "    print(name[char], end = ',')"
   ]
  }
 ],
 "metadata": {
  "kernelspec": {
   "display_name": "Python 3",
   "language": "python",
   "name": "python3"
  },
  "language_info": {
   "codemirror_mode": {
    "name": "ipython",
    "version": 3
   },
   "file_extension": ".py",
   "mimetype": "text/x-python",
   "name": "python",
   "nbconvert_exporter": "python",
   "pygments_lexer": "ipython3",
   "version": "3.12.3"
  }
 },
 "nbformat": 4,
 "nbformat_minor": 2
}
