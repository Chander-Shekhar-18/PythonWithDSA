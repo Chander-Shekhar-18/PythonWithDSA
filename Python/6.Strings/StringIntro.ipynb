{
 "cells": [
  {
   "cell_type": "code",
   "execution_count": 1,
   "metadata": {},
   "outputs": [],
   "source": [
    "# Creating a string\n",
    "\n",
    "s = 'Chander'"
   ]
  },
  {
   "cell_type": "code",
   "execution_count": 2,
   "metadata": {},
   "outputs": [
    {
     "name": "stdout",
     "output_type": "stream",
     "text": [
      "My name is Chander\n"
     ]
    }
   ],
   "source": [
    "# printing a string\n",
    "\n",
    "print(f'My name is {s}')"
   ]
  },
  {
   "cell_type": "code",
   "execution_count": 4,
   "metadata": {},
   "outputs": [
    {
     "name": "stdout",
     "output_type": "stream",
     "text": [
      "This is the example of the multiline string : My \n",
      "name \n",
      "is \n",
      "Chander\n",
      "Shekhar\n"
     ]
    }
   ],
   "source": [
    "# Multiline string\n",
    "\n",
    "intro = '''My \n",
    "name \n",
    "is \n",
    "Chander\n",
    "Shekhar'''\n",
    "\n",
    "print(f'This is the example of the multiline string : {intro}')"
   ]
  },
  {
   "cell_type": "markdown",
   "metadata": {},
   "source": [
    "String Indexing :\n",
    "1. Positive indexing\n",
    "2. Negative indexing"
   ]
  },
  {
   "cell_type": "code",
   "execution_count": 5,
   "metadata": {},
   "outputs": [
    {
     "name": "stdout",
     "output_type": "stream",
     "text": [
      "C\n",
      "a\n"
     ]
    }
   ],
   "source": [
    "# Positive Indexing\n",
    "\n",
    "name = 'ChanderShekhar'\n",
    "\n",
    "print(name[0])\n",
    "print(name[2])"
   ]
  },
  {
   "cell_type": "code",
   "execution_count": 6,
   "metadata": {},
   "outputs": [
    {
     "name": "stdout",
     "output_type": "stream",
     "text": [
      "r\n",
      "a\n"
     ]
    }
   ],
   "source": [
    "# Negative Indexing\n",
    "\n",
    "print(name[-1])\n",
    "print(name[-2])"
   ]
  }
 ],
 "metadata": {
  "kernelspec": {
   "display_name": "Python 3",
   "language": "python",
   "name": "python3"
  },
  "language_info": {
   "codemirror_mode": {
    "name": "ipython",
    "version": 3
   },
   "file_extension": ".py",
   "mimetype": "text/x-python",
   "name": "python",
   "nbconvert_exporter": "python",
   "pygments_lexer": "ipython3",
   "version": "3.12.3"
  }
 },
 "nbformat": 4,
 "nbformat_minor": 2
}
