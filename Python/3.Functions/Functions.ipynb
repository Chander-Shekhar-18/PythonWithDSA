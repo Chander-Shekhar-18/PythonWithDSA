{
 "cells": [
  {
   "cell_type": "code",
   "execution_count": 1,
   "id": "e32d7e6c-a7d5-4349-94ff-c42cc24affee",
   "metadata": {},
   "outputs": [],
   "source": [
    "# basic structure of a function\n",
    "\n",
    "# defining a function\n",
    "def add(a, b):\n",
    "    sum = a + b\n",
    "    return sum"
   ]
  },
  {
   "cell_type": "code",
   "execution_count": 2,
   "id": "298a5e86-fd85-4172-b7bb-07e577a5929f",
   "metadata": {},
   "outputs": [
    {
     "data": {
      "text/plain": [
       "10"
      ]
     },
     "execution_count": 2,
     "metadata": {},
     "output_type": "execute_result"
    }
   ],
   "source": [
    "# calling a function\n",
    "add(5,5)"
   ]
  },
  {
   "cell_type": "markdown",
   "id": "85bf7b1a-7fc4-4edf-964a-5fafbd98ec5f",
   "metadata": {},
   "source": [
    "## Scope of a variable"
   ]
  },
  {
   "cell_type": "code",
   "execution_count": 4,
   "id": "cdc113dc-8f94-4fd9-979c-9ded4f3bf410",
   "metadata": {},
   "outputs": [
    {
     "name": "stdout",
     "output_type": "stream",
     "text": [
      "Global variable : 10\n",
      "Local variable : 12\n"
     ]
    }
   ],
   "source": [
    "# global and local variable\n",
    "\n",
    "a1 = 10 \n",
    "\n",
    "def fun1():\n",
    "    b1 = 12\n",
    "    print('Local variable :', b1)\n",
    "\n",
    "print('Global variable :', a1)\n",
    "fun1()"
   ]
  },
  {
   "cell_type": "code",
   "execution_count": 6,
   "id": "518098eb-9869-46ea-8f78-8cdec2c15494",
   "metadata": {},
   "outputs": [
    {
     "name": "stdout",
     "output_type": "stream",
     "text": [
      "Global variable : 12\n"
     ]
    },
    {
     "ename": "NameError",
     "evalue": "name 'b2' is not defined",
     "output_type": "error",
     "traceback": [
      "\u001b[0;31m---------------------------------------------------------------------------\u001b[0m",
      "\u001b[0;31mNameError\u001b[0m                                 Traceback (most recent call last)",
      "Cell \u001b[0;32mIn[6], line 9\u001b[0m\n\u001b[1;32m      6\u001b[0m     b2 \u001b[38;5;241m=\u001b[39m \u001b[38;5;241m9\u001b[39m\n\u001b[1;32m      8\u001b[0m \u001b[38;5;28mprint\u001b[39m(\u001b[38;5;124m'\u001b[39m\u001b[38;5;124mGlobal variable :\u001b[39m\u001b[38;5;124m'\u001b[39m, a2)\n\u001b[0;32m----> 9\u001b[0m \u001b[38;5;28mprint\u001b[39m(\u001b[38;5;124m'\u001b[39m\u001b[38;5;124mLocal variable :\u001b[39m\u001b[38;5;124m'\u001b[39m, \u001b[43mb2\u001b[49m)\n",
      "\u001b[0;31mNameError\u001b[0m: name 'b2' is not defined"
     ]
    }
   ],
   "source": [
    "# we can't print a local variable outside the function\n",
    "\n",
    "a2 = 12\n",
    "\n",
    "def fun2():\n",
    "    b2 = 9\n",
    "\n",
    "print('Global variable :', a2)\n",
    "print('Local variable :', b2)"
   ]
  },
  {
   "cell_type": "code",
   "execution_count": 7,
   "id": "040a2ccb-955a-49bf-b1dd-a42b5b24fe3e",
   "metadata": {},
   "outputs": [
    {
     "name": "stdout",
     "output_type": "stream",
     "text": [
      "Local variable : 12\n",
      "Global variable : 3\n"
     ]
    }
   ],
   "source": [
    "# we can access global variable defined before the function call\n",
    "\n",
    "def fun3():\n",
    "    b3 = 12\n",
    "    print('Local variable :', b3)\n",
    "    print('Global variable :', a3)\n",
    "\n",
    "a3 = 3\n",
    "\n",
    "fun3()"
   ]
  },
  {
   "cell_type": "code",
   "execution_count": 8,
   "id": "22e01376-41f5-4662-95a9-f0fc8dc0f1c1",
   "metadata": {},
   "outputs": [
    {
     "name": "stdout",
     "output_type": "stream",
     "text": [
      "Global varible : 4\n",
      "Local variable : 5\n",
      "id of local variable : 124521276244336\n",
      "no change in global variable : 4\n",
      "id of global variable : 124521276244304\n"
     ]
    }
   ],
   "source": [
    "# we can't change the value of global variable inside a function\n",
    "\n",
    "a4 = 4\n",
    "\n",
    "def fun4():\n",
    "    a4 = 5\n",
    "    print('Local variable :', a4)\n",
    "    print('id of local variable :', id(a4))\n",
    "\n",
    "print('Global varible :', a4)\n",
    "fun4()\n",
    "print('no change in global variable :', a4)\n",
    "print('id of global variable :', id(a4))"
   ]
  },
  {
   "cell_type": "code",
   "execution_count": 9,
   "id": "0914d6a3-c17a-4b30-9de7-f5b25b4dd270",
   "metadata": {},
   "outputs": [
    {
     "name": "stdout",
     "output_type": "stream",
     "text": [
      "Global varible : 4\n",
      "Local variable : 5\n",
      "id of local variable : 124521276244336\n",
      "no change in global variable : 5\n",
      "id of global variable : 124521276244336\n"
     ]
    }
   ],
   "source": [
    "# we can change the value of global variable inside a function by explicitly telling that it is global variable\n",
    "\n",
    "a4 = 4\n",
    "\n",
    "def fun4():\n",
    "    global a4\n",
    "    a4 = 5\n",
    "    print('Local variable :', a4)\n",
    "    print('id of local variable :', id(a4))\n",
    "\n",
    "print('Global varible :', a4)\n",
    "fun4()\n",
    "print('no change in global variable :', a4)\n",
    "print('id of global variable :', id(a4))"
   ]
  }
 ],
 "metadata": {
  "kernelspec": {
   "display_name": "Python 3 (ipykernel)",
   "language": "python",
   "name": "python3"
  },
  "language_info": {
   "codemirror_mode": {
    "name": "ipython",
    "version": 3
   },
   "file_extension": ".py",
   "mimetype": "text/x-python",
   "name": "python",
   "nbconvert_exporter": "python",
   "pygments_lexer": "ipython3",
   "version": "3.12.3"
  }
 },
 "nbformat": 4,
 "nbformat_minor": 5
}
