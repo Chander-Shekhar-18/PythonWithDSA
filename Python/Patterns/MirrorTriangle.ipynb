{
 "cells": [
  {
   "cell_type": "code",
   "execution_count": 57,
   "id": "c9d99feb-1106-42ec-a68c-a3493c9b6438",
   "metadata": {},
   "outputs": [
    {
     "name": "stdout",
     "output_type": "stream",
     "text": [
      "        1 \n",
      "      2 3 2 \n",
      "    3 4 5 4 3 \n",
      "  4 5 6 7 6 5 4 \n",
      "5 6 7 8 9 8 7 6 5 \n"
     ]
    }
   ],
   "source": [
    "n = 5\n",
    "for i in range(1, n+1):\n",
    "    for j in range(n-i):\n",
    "        print(\" \", end=\" \")\n",
    "    for k in range(i, 2*i):\n",
    "        print(k, end=\" \")\n",
    "    for l in range(2*i-2, i-1, -1):\n",
    "        print(l, end=\" \")\n",
    "    print()"
   ]
  },
  {
   "cell_type": "code",
   "execution_count": 58,
   "id": "f7b4dbad-1c1e-4e12-9fca-3c01d7de2854",
   "metadata": {},
   "outputs": [
    {
     "name": "stdout",
     "output_type": "stream",
     "text": [
      "        1 \n",
      "      2 3 2 \n",
      "    3 4 5 4 3 \n",
      "  4 5 6 7 6 5 4 \n",
      "5 6 7 8 9 8 7 6 5 \n"
     ]
    }
   ],
   "source": [
    "n = 5\n",
    "i = 1\n",
    "while i <= n:\n",
    "    j = 0\n",
    "    while j < n-i:\n",
    "        print(\" \", end=\" \")\n",
    "        j += 1\n",
    "    k = i\n",
    "    while k < 2*i:\n",
    "        print(k, end=\" \")\n",
    "        k += 1\n",
    "    l = 2*i-2\n",
    "    while l >= i:\n",
    "        print(l, end=\" \")\n",
    "        l -= 1\n",
    "    print()\n",
    "    i += 1\n"
   ]
  },
  {
   "cell_type": "code",
   "execution_count": null,
   "id": "7babecca-dded-44e4-9d52-2176605ccbd4",
   "metadata": {},
   "outputs": [],
   "source": []
  },
  {
   "cell_type": "code",
   "execution_count": 72,
   "id": "65676f8f-5037-459c-a88c-e7d210e9f988",
   "metadata": {},
   "outputs": [
    {
     "name": "stdin",
     "output_type": "stream",
     "text": [
      " 4\n"
     ]
    },
    {
     "name": "stdout",
     "output_type": "stream",
     "text": [
      "    * \n",
      "  * * * \n",
      "* * * * * \n",
      "* * * * * * * \n"
     ]
    }
   ],
   "source": [
    "n = int(input())\n",
    "i = 1\n",
    "while i <= n:\n",
    "    j = 1\n",
    "    while j < n-i:\n",
    "        print(\" \", end=\" \")\n",
    "        j = j + 1\n",
    "    k = i\n",
    "    while k < 2*i:\n",
    "        print(\"*\", end=\" \")\n",
    "        k = k + 1\n",
    "    l = 2*i-2\n",
    "    while l >= i:\n",
    "        print(\"*\", end=\" \")\n",
    "        l = l - 1\n",
    "    print()\n",
    "    i = i + 1\n",
    "\n"
   ]
  },
  {
   "cell_type": "code",
   "execution_count": 16,
   "id": "e65f6afb-97ae-4a95-acb3-d03b82343955",
   "metadata": {},
   "outputs": [
    {
     "name": "stdin",
     "output_type": "stream",
     "text": [
      " 4\n"
     ]
    },
    {
     "name": "stdout",
     "output_type": "stream",
     "text": [
      "*000*000*\n",
      "0*00*00*0\n",
      "00*0*0*00\n",
      "000***000\n"
     ]
    }
   ],
   "source": [
    "N = int(input())\n",
    "for i in range(N):\n",
    "    for j in range(N):\n",
    "        if j == i:\n",
    "            print(\"*\", end=\"\")\n",
    "        else:\n",
    "            print(\"0\", end=\"\")\n",
    "    print(\"*\", end=\"\")\n",
    "    for j in range(N):\n",
    "        if j == N - i - 1:\n",
    "            print(\"*\", end=\"\")\n",
    "        else:\n",
    "            print(\"0\", end=\"\")\n",
    "    print(\"\")"
   ]
  },
  {
   "cell_type": "code",
   "execution_count": 19,
   "id": "683a1fdd-d0c6-426e-bc0d-1e7854c0ea21",
   "metadata": {},
   "outputs": [
    {
     "name": "stdin",
     "output_type": "stream",
     "text": [
      " 5\n"
     ]
    },
    {
     "name": "stdout",
     "output_type": "stream",
     "text": [
      "    1\n",
      "   212\n",
      "  32123\n",
      " 4321234\n",
      "543212345\n"
     ]
    }
   ],
   "source": [
    "N = int(input())\n",
    "for i in range(1, N + 1):\n",
    "    for j in range(N - i):\n",
    "        print(' ', end='')\n",
    "    for j in range(i, 0, -1):\n",
    "        print(j, end='')\n",
    "    for j in range(2, i + 1):\n",
    "        print(j, end='')\n",
    "    print()"
   ]
  },
  {
   "cell_type": "code",
   "execution_count": 64,
   "id": "201ba2dd-8ef9-40f1-8e3e-f9af086a0fd1",
   "metadata": {},
   "outputs": [
    {
     "name": "stdin",
     "output_type": "stream",
     "text": [
      " 11\n"
     ]
    },
    {
     "name": "stdout",
     "output_type": "stream",
     "text": [
      "* \n",
      " * * \n",
      "  * * * \n",
      "   * * * * \n",
      "    * * * * * \n",
      "     * * * * * * \n",
      "    * * * * * \n",
      "   * * * * \n",
      "  * * * \n",
      " * * \n",
      "* \n"
     ]
    }
   ],
   "source": [
    "N = int(input())\n",
    "for i in range(1, (N//2) + 2):\n",
    "    print(' ' * (i-1) + '* ' * i)\n",
    "for i in range((N//2), 0, -1):\n",
    "    print(' ' * (i-1) + '* ' * i)"
   ]
  },
  {
   "cell_type": "code",
   "execution_count": 16,
   "id": "6bd7ffc3-6a6e-4048-bca6-1a284fac0d26",
   "metadata": {},
   "outputs": [
    {
     "name": "stdout",
     "output_type": "stream",
     "text": [
      "123456\n",
      " 23456\n",
      "  3456\n",
      "   456\n",
      "    56\n",
      "     6\n",
      "    56\n",
      "   456\n",
      "  3456\n",
      " 23456\n",
      "123456\n"
     ]
    }
   ],
   "source": [
    "n=int(input())\n",
    "for i in range(1, n+1):\n",
    "    print(\" \" * (i-1), end=\"\")\n",
    "    for j in range(i, n+1):\n",
    "        print(j, end=\"\")\n",
    "    print()\n",
    "for i in range(n-1, 0, -1):\n",
    "    print(\" \" * (i-1), end=\"\")\n",
    "    for j in range(i, n+1):\n",
    "        print(j, end=\"\")\n",
    "    print()"
   ]
  },
  {
   "cell_type": "code",
   "execution_count": 8,
   "id": "2ff638ed-5d21-4be1-ab08-965fe4052924",
   "metadata": {},
   "outputs": [
    {
     "name": "stdin",
     "output_type": "stream",
     "text": [
      " 4\n"
     ]
    },
    {
     "name": "stdout",
     "output_type": "stream",
     "text": [
      "4444444\n",
      "4333334\n",
      "4322234\n",
      "4321234\n",
      "4322234\n",
      "4333334\n",
      "4444444\n"
     ]
    }
   ],
   "source": [
    "n = int(input())\n",
    "pattern = [[0 for _ in range(2*n-1)] for _ in range(2*n-1)]\n",
    "for i in range(n):\n",
    "    for j in range(i, 2*n-i-1):\n",
    "        pattern[i][j] = pattern[j][i] = pattern[2*n-i-2][j] = pattern[j][2*n-i-2] = n - i\n",
    "for i in range(2*n-1):\n",
    "    for j in range(2*n-1):\n",
    "        print(pattern[i][j], end=\"\")\n",
    "    print()"
   ]
  },
  {
   "cell_type": "code",
   "execution_count": 30,
   "id": "dfab1555-2ba1-4e53-97ec-7f3d4041ca35",
   "metadata": {},
   "outputs": [
    {
     "name": "stdout",
     "output_type": "stream",
     "text": [
      " 1  2  3  4  5 \n",
      "10  9  8  7  6 \n",
      "11 12 13 14 15 \n",
      "20 19 18 17 16 \n",
      "21 22 23 24 25 \n"
     ]
    }
   ],
   "source": [
    "def print_pattern(N):\n",
    "    num = 1\n",
    "    matrix = [[0]*N for _ in range(N)]\n",
    "\n",
    "    # Fill the matrix.\n",
    "    for i in range(N):\n",
    "        if i % 2 == 0:\n",
    "            for j in range(N):\n",
    "                matrix[i][j] = num\n",
    "                num += 1\n",
    "        else:\n",
    "            for j in range(N-1, -1, -1):\n",
    "                matrix[i][j] = num\n",
    "                num += 1\n",
    "\n",
    "    # Print the pattern.\n",
    "    for i in range(N):\n",
    "        for j in range(N):\n",
    "            print(f\"{matrix[i][j]:2d}\", end=\" \")\n",
    "        print()\n",
    "\n",
    "# Test the function.\n",
    "print_pattern(5)\n"
   ]
  },
  {
   "cell_type": "code",
   "execution_count": null,
   "id": "6c1d1770-bff5-4dd5-a681-40425550372e",
   "metadata": {},
   "outputs": [],
   "source": []
  }
 ],
 "metadata": {
  "kernelspec": {
   "display_name": "Python 3 (ipykernel)",
   "language": "python",
   "name": "python3"
  },
  "language_info": {
   "codemirror_mode": {
    "name": "ipython",
    "version": 3
   },
   "file_extension": ".py",
   "mimetype": "text/x-python",
   "name": "python",
   "nbconvert_exporter": "python",
   "pygments_lexer": "ipython3",
   "version": "3.10.12"
  }
 },
 "nbformat": 4,
 "nbformat_minor": 5
}
