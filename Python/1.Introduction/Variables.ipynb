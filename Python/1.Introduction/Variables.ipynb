{
 "cells": [
  {
   "cell_type": "markdown",
   "id": "e9db6d51-be6b-4ae1-b767-5915f0484da5",
   "metadata": {},
   "source": [
    "## Variables"
   ]
  },
  {
   "cell_type": "code",
   "execution_count": 2,
   "id": "d1b8b854-9ef5-4fb9-8c9a-1fa39906f2e5",
   "metadata": {},
   "outputs": [
    {
     "name": "stdout",
     "output_type": "stream",
     "text": [
      "Chander\n",
      "23\n"
     ]
    }
   ],
   "source": [
    "name = 'Chander'\n",
    "age = 23\n",
    "\n",
    "print(name)\n",
    "print(age)"
   ]
  },
  {
   "cell_type": "raw",
   "id": "8f9c10d5-dfa8-4c18-96d3-1d8de19b156a",
   "metadata": {},
   "source": [
    "Naming a Variable\n",
    "You must keep the following points in your mind while naming a variable:-\n",
    "● Variable names can contain letters, numbers, and underscores.\n",
    "● They cannot contain spaces.\n",
    "● Variable names cannot start with a number.\n",
    "4\n",
    "● Variable names are case sensitive. For example:- The variable names Temp and\n",
    "temp are different.\n",
    "● While writing a program, creating self-explanatory variable names help a lot in\n",
    "increasing the readability of the code. However, too long names can clutter up the\n",
    "program and make it difficult to read."
   ]
  }
 ],
 "metadata": {
  "kernelspec": {
   "display_name": "Python 3 (ipykernel)",
   "language": "python",
   "name": "python3"
  },
  "language_info": {
   "codemirror_mode": {
    "name": "ipython",
    "version": 3
   },
   "file_extension": ".py",
   "mimetype": "text/x-python",
   "name": "python",
   "nbconvert_exporter": "python",
   "pygments_lexer": "ipython3",
   "version": "3.10.12"
  }
 },
 "nbformat": 4,
 "nbformat_minor": 5
}
