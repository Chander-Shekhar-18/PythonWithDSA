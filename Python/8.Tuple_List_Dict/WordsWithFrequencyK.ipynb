{
 "cells": [
  {
   "cell_type": "code",
   "execution_count": 1,
   "metadata": {},
   "outputs": [],
   "source": [
    "str = 'chander chander shekhar mango apple chander shekhar'\n",
    "k = 3"
   ]
  },
  {
   "cell_type": "code",
   "execution_count": 4,
   "metadata": {},
   "outputs": [],
   "source": [
    "def findFrequency(str, k):\n",
    "    words = str.split()\n",
    "\n",
    "    d = {}\n",
    "\n",
    "    for word in words:\n",
    "        # Both code will work fine\n",
    "\n",
    "        # if word in d:\n",
    "        #     d[word] = d[word] + 1\n",
    "        # else:\n",
    "        #     d[word] = 1\n",
    "\n",
    "        if word in words:\n",
    "            d[word] = d.get(word, 0) + 1\n",
    "    \n",
    "    for i in d:\n",
    "        if d[i] == k:\n",
    "            print(i)"
   ]
  },
  {
   "cell_type": "code",
   "execution_count": 5,
   "metadata": {},
   "outputs": [
    {
     "name": "stdout",
     "output_type": "stream",
     "text": [
      "chander\n"
     ]
    }
   ],
   "source": [
    "findFrequency(str, k)"
   ]
  }
 ],
 "metadata": {
  "kernelspec": {
   "display_name": "Python 3",
   "language": "python",
   "name": "python3"
  },
  "language_info": {
   "codemirror_mode": {
    "name": "ipython",
    "version": 3
   },
   "file_extension": ".py",
   "mimetype": "text/x-python",
   "name": "python",
   "nbconvert_exporter": "python",
   "pygments_lexer": "ipython3",
   "version": "3.12.3"
  }
 },
 "nbformat": 4,
 "nbformat_minor": 2
}
