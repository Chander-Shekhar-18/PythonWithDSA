{
 "cells": [
  {
   "cell_type": "code",
   "execution_count": 34,
   "metadata": {},
   "outputs": [
    {
     "name": "stdout",
     "output_type": "stream",
     "text": [
      "[0, 1, 2, 3]\n",
      "[4, 5, 6, 7]\n",
      "[8, 9, 10, 11]\n",
      "[12, 13, 14, 15]\n"
     ]
    }
   ],
   "source": [
    "# Creating an empty 2D list\n",
    "\n",
    "row = 4\n",
    "col = 4\n",
    "\n",
    "arr = [[row] * col for _ in range(row)]\n",
    "\n",
    "count = 0\n",
    "\n",
    "for i in range(row):\n",
    "    for j in range(col):\n",
    "        arr[i][j] = count\n",
    "        count = count + 1\n",
    "\n",
    "for i in arr:\n",
    "    print(i)"
   ]
  },
  {
   "cell_type": "code",
   "execution_count": 41,
   "metadata": {},
   "outputs": [
    {
     "name": "stdout",
     "output_type": "stream",
     "text": [
      "[1, 2, 3]\n",
      "[4, 78, 6]\n",
      "[7, 8, 9]\n"
     ]
    }
   ],
   "source": [
    "# Updating values in the 2D list\n",
    "\n",
    "t = [[1,2,3],[4,5,6],[7,8,9]]\n",
    "\n",
    "t[1][1] = 78\n",
    "\n",
    "for ele in t:\n",
    "    print(ele)\n",
    "                                                                            "
   ]
  },
  {
   "cell_type": "code",
   "execution_count": 42,
   "metadata": {},
   "outputs": [
    {
     "name": "stdout",
     "output_type": "stream",
     "text": [
      "[1, 2, 3]\n",
      "[99, 99, 99]\n",
      "[4, 5, 6]\n",
      "[7, 8, 9]\n"
     ]
    }
   ],
   "source": [
    "# inserting a whole list in 2D array\n",
    "\n",
    "s = [[1,2,3],[4,5,6],[7,8,9]]\n",
    "\n",
    "s.insert(1, [99, 99, 99])\n",
    "\n",
    "for i in s:\n",
    "    print(i)"
   ]
  }
 ],
 "metadata": {
  "kernelspec": {
   "display_name": "Python 3",
   "language": "python",
   "name": "python3"
  },
  "language_info": {
   "codemirror_mode": {
    "name": "ipython",
    "version": 3
   },
   "file_extension": ".py",
   "mimetype": "text/x-python",
   "name": "python",
   "nbconvert_exporter": "python",
   "pygments_lexer": "ipython3",
   "version": "3.12.3"
  }
 },
 "nbformat": 4,
 "nbformat_minor": 2
}
