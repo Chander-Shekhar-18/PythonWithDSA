{
 "cells": [
  {
   "cell_type": "code",
   "execution_count": 2,
   "metadata": {},
   "outputs": [
    {
     "name": "stdout",
     "output_type": "stream",
     "text": [
      "11 12 5 2 \n",
      "10 6 \n",
      "10 8 12 \n",
      "12 \n"
     ]
    }
   ],
   "source": [
    "# Printing a 2D matrix\n",
    "\n",
    "T = [[11, 12, 5, 2], [10, 6], [10, 8, 12], [12]]\n",
    "\n",
    "for row in T:\n",
    "    for col in row:\n",
    "        print(col, end=' ')\n",
    "    print()"
   ]
  },
  {
   "cell_type": "code",
   "execution_count": 5,
   "metadata": {},
   "outputs": [
    {
     "name": "stdout",
     "output_type": "stream",
     "text": [
      "The matrix is:\n",
      "[1, 2]\n",
      "[3, 8]\n"
     ]
    }
   ],
   "source": [
    "# Take input for the number of rows and columns\n",
    "rows = int(input(\"Enter the number of rows: \"))\n",
    "cols = int(input(\"Enter the number of columns: \"))\n",
    "\n",
    "# Create an empty 2D matrix\n",
    "matrix = []\n",
    "\n",
    "# Take input for each element of the matrix\n",
    "for i in range(rows):\n",
    "    row = []\n",
    "    for j in range(cols):\n",
    "        element = int(input(f\"Enter the element at row {i+1}, column {j+1}: \"))\n",
    "        row.append(element)\n",
    "    matrix.append(row)\n",
    "\n",
    "# Print the matrix\n",
    "print(\"The matrix is:\")\n",
    "for row in matrix:\n",
    "    print(row)"
   ]
  }
 ],
 "metadata": {
  "kernelspec": {
   "display_name": "Python 3",
   "language": "python",
   "name": "python3"
  },
  "language_info": {
   "codemirror_mode": {
    "name": "ipython",
    "version": 3
   },
   "file_extension": ".py",
   "mimetype": "text/x-python",
   "name": "python",
   "nbconvert_exporter": "python",
   "pygments_lexer": "ipython3",
   "version": "3.12.3"
  }
 },
 "nbformat": 4,
 "nbformat_minor": 2
}
