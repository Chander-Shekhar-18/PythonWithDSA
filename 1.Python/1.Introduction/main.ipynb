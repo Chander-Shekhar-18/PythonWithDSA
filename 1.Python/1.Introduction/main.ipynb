{
 "cells": [
  {
   "cell_type": "code",
   "execution_count": 1,
   "id": "1ea5321b",
   "metadata": {},
   "outputs": [
    {
     "name": "stdout",
     "output_type": "stream",
     "text": [
      "Hello Chander Shekhar\n"
     ]
    }
   ],
   "source": [
    "print('Hello Chander Shekhar')"
   ]
  },
  {
   "cell_type": "code",
   "execution_count": 3,
   "id": "f3d22cd2",
   "metadata": {},
   "outputs": [
    {
     "name": "stdout",
     "output_type": "stream",
     "text": [
      "My name is Chander Shekhar\n"
     ]
    }
   ],
   "source": [
    "def printName(name):\n",
    "    print(f'My name is {name}')\n",
    "\n",
    "printName('Chander Shekhar')"
   ]
  }
 ],
 "metadata": {
  "kernelspec": {
   "display_name": "Python 3",
   "language": "python",
   "name": "python3"
  },
  "language_info": {
   "codemirror_mode": {
    "name": "ipython",
    "version": 3
   },
   "file_extension": ".py",
   "mimetype": "text/x-python",
   "name": "python",
   "nbconvert_exporter": "python",
   "pygments_lexer": "ipython3",
   "version": "3.12.3"
  }
 },
 "nbformat": 4,
 "nbformat_minor": 5
}
