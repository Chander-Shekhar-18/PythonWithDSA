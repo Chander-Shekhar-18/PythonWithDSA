{
 "cells": [
  {
   "cell_type": "code",
   "execution_count": 4,
   "id": "cb3b8b58-ba42-43a9-8739-b77972b5e150",
   "metadata": {},
   "outputs": [
    {
     "name": "stdin",
     "output_type": "stream",
     "text": [
      "Enter your name : Chander\n",
      "Enter your age : 23\n"
     ]
    },
    {
     "name": "stdout",
     "output_type": "stream",
     "text": [
      "Data type of Chander is <class 'str'>\n",
      "Data type of 23 is <class 'str'>\n",
      "Chander\n",
      "23\n"
     ]
    },
    {
     "data": {
      "text/plain": [
       "'23'"
      ]
     },
     "execution_count": 4,
     "metadata": {},
     "output_type": "execute_result"
    }
   ],
   "source": [
    "# User input\n",
    "# By default, output of input() function is string.\n",
    "name = input('Enter your name :')\n",
    "age = input('Enter your age :')\n",
    "\n",
    "print('Data type of', name, 'is', type(name))\n",
    "print('Data type of', age, 'is', type(name))\n",
    "\n",
    "print(name)\n",
    "print(age)\n",
    "age"
   ]
  },
  {
   "cell_type": "code",
   "execution_count": 7,
   "id": "f82e774f-9ce0-4bc0-966f-fb6322f0d18e",
   "metadata": {},
   "outputs": [
    {
     "name": "stdin",
     "output_type": "stream",
     "text": [
      "Enter a number : 5\n"
     ]
    },
    {
     "name": "stdout",
     "output_type": "stream",
     "text": [
      "Datatype of 5 is <class 'int'>\n",
      "5\n"
     ]
    },
    {
     "name": "stdin",
     "output_type": "stream",
     "text": [
      "Enter a floating point number : 5.4\n"
     ]
    },
    {
     "name": "stdout",
     "output_type": "stream",
     "text": [
      "Datatype of 5.4 is <class 'float'>\n",
      "5.4\n"
     ]
    }
   ],
   "source": [
    "# Changing datatype from string to int and float\n",
    "\n",
    "num = int(input('Enter a number :'))\n",
    "print('Datatype of', num, 'is', type(num))\n",
    "print(num)\n",
    "\n",
    "num = float(input('Enter a floating point number :'))\n",
    "print('Datatype of', num, 'is', type(num))\n",
    "print(num)"
   ]
  }
 ],
 "metadata": {
  "kernelspec": {
   "display_name": "Python 3 (ipykernel)",
   "language": "python",
   "name": "python3"
  },
  "language_info": {
   "codemirror_mode": {
    "name": "ipython",
    "version": 3
   },
   "file_extension": ".py",
   "mimetype": "text/x-python",
   "name": "python",
   "nbconvert_exporter": "python",
   "pygments_lexer": "ipython3",
   "version": "3.10.12"
  }
 },
 "nbformat": 4,
 "nbformat_minor": 5
}
