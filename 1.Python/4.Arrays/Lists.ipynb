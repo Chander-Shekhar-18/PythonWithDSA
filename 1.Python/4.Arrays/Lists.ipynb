{
 "cells": [
  {
   "cell_type": "code",
   "execution_count": 2,
   "metadata": {},
   "outputs": [
    {
     "name": "stdout",
     "output_type": "stream",
     "text": [
      "<class 'list'>\n"
     ]
    }
   ],
   "source": [
    "# decalaring a list\n",
    "\n",
    "list = [1, 2, 3, 4, 5, 6]\n",
    "\n",
    "# type \n",
    "print(type(list))"
   ]
  },
  {
   "cell_type": "code",
   "execution_count": 3,
   "metadata": {},
   "outputs": [
    {
     "name": "stdout",
     "output_type": "stream",
     "text": [
      "[1, 2, 3, 4, 5, 6]\n"
     ]
    }
   ],
   "source": [
    "# Printing list\n",
    "\n",
    "print(list)"
   ]
  },
  {
   "cell_type": "code",
   "execution_count": 1,
   "metadata": {},
   "outputs": [
    {
     "name": "stdout",
     "output_type": "stream",
     "text": [
      "Type of myArr is <class 'array.array'>\n"
     ]
    },
    {
     "ename": "NameError",
     "evalue": "name 'List' is not defined",
     "output_type": "error",
     "traceback": [
      "\u001b[0;31m---------------------------------------------------------------------------\u001b[0m",
      "\u001b[0;31mNameError\u001b[0m                                 Traceback (most recent call last)",
      "Cell \u001b[0;32mIn[1], line 10\u001b[0m\n\u001b[1;32m      7\u001b[0m myArr \u001b[38;5;241m=\u001b[39m arr\u001b[38;5;241m.\u001b[39marray(\u001b[38;5;124m'\u001b[39m\u001b[38;5;124mu\u001b[39m\u001b[38;5;124m'\u001b[39m, [\u001b[38;5;124m'\u001b[39m\u001b[38;5;124mc\u001b[39m\u001b[38;5;124m'\u001b[39m,\u001b[38;5;124m'\u001b[39m\u001b[38;5;124mh\u001b[39m\u001b[38;5;124m'\u001b[39m,\u001b[38;5;124m'\u001b[39m\u001b[38;5;124ma\u001b[39m\u001b[38;5;124m'\u001b[39m,\u001b[38;5;124m'\u001b[39m\u001b[38;5;124mn\u001b[39m\u001b[38;5;124m'\u001b[39m,\u001b[38;5;124m'\u001b[39m\u001b[38;5;124md\u001b[39m\u001b[38;5;124m'\u001b[39m,\u001b[38;5;124m'\u001b[39m\u001b[38;5;124me\u001b[39m\u001b[38;5;124m'\u001b[39m,\u001b[38;5;124m'\u001b[39m\u001b[38;5;124mr\u001b[39m\u001b[38;5;124m'\u001b[39m])\n\u001b[1;32m      8\u001b[0m \u001b[38;5;28mprint\u001b[39m(\u001b[38;5;124mf\u001b[39m\u001b[38;5;124m'\u001b[39m\u001b[38;5;124mType of myArr is \u001b[39m\u001b[38;5;132;01m{\u001b[39;00m\u001b[38;5;28mtype\u001b[39m(myArr)\u001b[38;5;132;01m}\u001b[39;00m\u001b[38;5;124m'\u001b[39m)\n\u001b[0;32m---> 10\u001b[0m myList \u001b[38;5;241m=\u001b[39m \u001b[43mList\u001b[49m(myArr)\n\u001b[1;32m     11\u001b[0m \u001b[38;5;28mprint\u001b[39m(\u001b[38;5;124mf\u001b[39m\u001b[38;5;124m'\u001b[39m\u001b[38;5;124mType of myList is \u001b[39m\u001b[38;5;132;01m{\u001b[39;00m\u001b[38;5;28mtype\u001b[39m(myList)\u001b[38;5;132;01m}\u001b[39;00m\u001b[38;5;124m'\u001b[39m)\n",
      "\u001b[0;31mNameError\u001b[0m: name 'List' is not defined"
     ]
    }
   ],
   "source": [
    "'''\n",
    "Any collection of elements can be converted to list using list() method\n",
    "'''\n",
    "\n",
    "import array as arr\n",
    "\n",
    "myArr = arr.array('u', ['c','h','a','n','d','e','r'])\n",
    "print(f'Type of myArr is {type(myArr)}')\n",
    "\n",
    "myList = List(myArr)\n",
    "print(f'Type of myList is {type(myList)}')"
   ]
  },
  {
   "cell_type": "code",
   "execution_count": 8,
   "metadata": {},
   "outputs": [
    {
     "name": "stdout",
     "output_type": "stream",
     "text": [
      "[1, 2, 3, 4, 5, 6, 100]\n"
     ]
    }
   ],
   "source": [
    "# Adding element in a list\n",
    "\n",
    "list.append(100)\n",
    "print(list)"
   ]
  },
  {
   "cell_type": "code",
   "execution_count": 9,
   "metadata": {},
   "outputs": [
    {
     "name": "stdout",
     "output_type": "stream",
     "text": [
      "First element of the list is 1\n",
      "Second element of the list is 2\n"
     ]
    }
   ],
   "source": [
    "# Printing element in a list\n",
    "\n",
    "print(f'First element of the list is {list[0]}')\n",
    "print(f'Second element of the list is {list[1]}')"
   ]
  },
  {
   "cell_type": "code",
   "execution_count": 11,
   "metadata": {},
   "outputs": [
    {
     "name": "stdout",
     "output_type": "stream",
     "text": [
      "Last element of the list is 100\n",
      "Second last element of the list is 6\n"
     ]
    }
   ],
   "source": [
    "# List also support negative indexing, -1 means last index\n",
    "\n",
    "print(f'Last element of the list is {list[-1]}')\n",
    "print(f'Second last element of the list is {list[-2]}')"
   ]
  },
  {
   "cell_type": "code",
   "execution_count": 13,
   "metadata": {},
   "outputs": [
    {
     "name": "stdout",
     "output_type": "stream",
     "text": [
      "[1, 1.2, 'Shekhar', 'Chander']\n"
     ]
    }
   ],
   "source": [
    "# List can store multiple type of data\n",
    "\n",
    "randomList = [1, 1.2, 'Shekhar', 'Chander']\n",
    "\n",
    "print(randomList)"
   ]
  },
  {
   "cell_type": "code",
   "execution_count": 20,
   "metadata": {},
   "outputs": [
    {
     "name": "stdout",
     "output_type": "stream",
     "text": [
      "Present item in the list are :  [1, 2, 3, 4, 5, 6, 100]\n",
      "Last element will be removed successfully. 100\n",
      "Present item in the list after deleting :  [1, 2, 3, 4, 5, 6]\n"
     ]
    }
   ],
   "source": [
    "# Removing items from a list\n",
    "\n",
    "print('Present item in the list are : ', list)\n",
    "print(f'Last element will be removed successfully. {list.pop()}')\n",
    "print('Present item in the list after deleting : ', list)"
   ]
  },
  {
   "cell_type": "code",
   "execution_count": 2,
   "metadata": {},
   "outputs": [
    {
     "name": "stdout",
     "output_type": "stream",
     "text": [
      "[9, 8, 7, 6, 5, 4, 3, 2]\n",
      "[10, 9, 8, 7, 6, 5, 4, 3, 2]\n",
      "[10, 9, 8, 7, 6, 5, 4, 3, 2, 1, 0]\n"
     ]
    }
   ],
   "source": [
    "'''\n",
    "Adding in a list:\n",
    "1. Append() : add element at the last\n",
    "2. insert() : add element at any index\n",
    "3. extend() : Extend the first list with second list\n",
    "'''\n",
    "\n",
    "numbers = [9,8,7,6,5,4,3]\n",
    "\n",
    "numbers.append(2)\n",
    "print(numbers)\n",
    "\n",
    "numbers.insert(0, 10)\n",
    "print(f'{numbers}')\n",
    "\n",
    "extraNums = [1, 0]\n",
    "\n",
    "numbers.extend(extraNums)\n",
    "print(numbers)"
   ]
  },
  {
   "cell_type": "code",
   "execution_count": 3,
   "metadata": {},
   "outputs": [
    {
     "name": "stdout",
     "output_type": "stream",
     "text": [
      "Last element is removed by pop() : [10, 9, 8, 7, 6, 5, 4, 3, 2, 1]\n",
      "10 is removed from the list : [9, 8, 7, 6, 5, 4, 3, 2, 1]\n",
      "All the elements of the list are removed by clear()\n"
     ]
    }
   ],
   "source": [
    "'''\n",
    "Removing element from the list :\n",
    "1. pop() : remove the last element\n",
    "2. remove() : remove the first occurance of an element\n",
    "3. clear() : remove all the elements\n",
    "'''\n",
    "\n",
    "tempList = [10, 9, 8, 7, 6, 5, 4, 3, 2, 1, 0]\n",
    "\n",
    "tempList.pop()\n",
    "print(f'Last element is removed by pop() : {tempList}')\n",
    "\n",
    "tempList.remove(10)\n",
    "print(f'10 is removed from the list : {tempList}')\n",
    "\n",
    "tempList.clear()\n",
    "print(f'All the elements of the list are removed by clear()')"
   ]
  },
  {
   "cell_type": "code",
   "execution_count": 5,
   "metadata": {},
   "outputs": [
    {
     "name": "stdout",
     "output_type": "stream",
     "text": [
      "[10, 9, 8, 7, 6, 5, 4, 3, 2, 1]\n"
     ]
    }
   ],
   "source": [
    "'''\n",
    "copy() : it will create a copy of the list\n",
    "'''\n",
    "\n",
    "myList = [10, 9, 8, 7, 6, 5, 4, 3, 2, 1, 0]\n",
    "myList2 = myList\n",
    "\n",
    "myList2.pop()\n",
    "\n",
    "print(myList)"
   ]
  },
  {
   "cell_type": "code",
   "execution_count": 6,
   "metadata": {},
   "outputs": [
    {
     "name": "stdout",
     "output_type": "stream",
     "text": [
      "Last element of myList is not removed : [10, 9, 8, 7, 6, 5, 4, 3, 2, 1]\n",
      "Last element of myList2 is removed : [10, 9, 8, 7, 6, 5, 4, 3, 2]\n"
     ]
    }
   ],
   "source": [
    "# we remove the last element of the myList2 but last element of the myList is also removed because myList2 stores the address of the myList\n",
    "# to avoid such problem we use copy() method\n",
    "\n",
    "myList2 = myList.copy()\n",
    "\n",
    "myList2.pop()\n",
    "\n",
    "print(f'Last element of myList is not removed : {myList}')\n",
    "print(f'Last element of myList2 is removed : {myList2}')"
   ]
  },
  {
   "cell_type": "code",
   "execution_count": 7,
   "metadata": {},
   "outputs": [
    {
     "name": "stdout",
     "output_type": "stream",
     "text": [
      "[9, 8, 7, 6, 5, 4, 3, 2]\n",
      "All the elements except last 2 : [10, 9, 8, 7, 6, 5, 4, 3]\n",
      "All the elements except first two : [8, 7, 6, 5, 4, 3, 2, 1]\n"
     ]
    }
   ],
   "source": [
    "'''\n",
    "Slicing : when we want to access a specific part of a list for example all the elements except first and last\n",
    "'''\n",
    "\n",
    "sliceList = [10, 9, 8, 7, 6, 5, 4, 3, 2, 1]\n",
    "\n",
    "# it will print all the elements except first and last\n",
    "print(sliceList[1:len(sliceList) - 1])\n",
    "\n",
    "# or you can use sliceList[1: -1]\n",
    "\n",
    "print(f'All the elements except last 2 : {sliceList[: -2]}')\n",
    "\n",
    "print(f'All the elements except first two : {sliceList[2:]}')"
   ]
  }
 ],
 "metadata": {
  "kernelspec": {
   "display_name": "Python 3",
   "language": "python",
   "name": "python3"
  },
  "language_info": {
   "codemirror_mode": {
    "name": "ipython",
    "version": 3
   },
   "file_extension": ".py",
   "mimetype": "text/x-python",
   "name": "python",
   "nbconvert_exporter": "python",
   "pygments_lexer": "ipython3",
   "version": "3.12.3"
  }
 },
 "nbformat": 4,
 "nbformat_minor": 2
}
