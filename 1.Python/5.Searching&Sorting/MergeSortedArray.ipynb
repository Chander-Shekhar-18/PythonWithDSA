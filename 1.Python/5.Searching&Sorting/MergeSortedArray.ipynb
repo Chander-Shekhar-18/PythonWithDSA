{
 "cells": [
  {
   "cell_type": "code",
   "execution_count": 1,
   "metadata": {},
   "outputs": [],
   "source": [
    "arr1 = [1, 3, 5, 7, 9]\n",
    "arr2 = [2, 4, 6, 8, 10]"
   ]
  },
  {
   "cell_type": "code",
   "execution_count": 11,
   "metadata": {},
   "outputs": [],
   "source": [
    "def mergeSortedArrays(arr1, arr2):\n",
    "    i, j = 0, 0\n",
    "\n",
    "    len1, len2 = len(arr1), len(arr2)\n",
    "\n",
    "    newArray = []\n",
    "\n",
    "    while (i < len1 and j < len2) :\n",
    "        if arr1[i] < arr2[j]:\n",
    "            newArray.append(arr1[i])\n",
    "            i = i + 1\n",
    "        else:\n",
    "            newArray.append(arr2[j])\n",
    "            j = j + 1\n",
    "    \n",
    "    while (i < len1):\n",
    "        newArray.append(arr1[i])\n",
    "        i = i + 1\n",
    "    \n",
    "    while (j < len2):\n",
    "        newArray.append(arr2[j])\n",
    "        j = j + 1\n",
    "\n",
    "    return newArray"
   ]
  },
  {
   "cell_type": "code",
   "execution_count": 12,
   "metadata": {},
   "outputs": [
    {
     "name": "stdout",
     "output_type": "stream",
     "text": [
      "Merged array is : [1, 2, 3, 4, 5, 6, 7, 8, 9, 10]\n"
     ]
    }
   ],
   "source": [
    "print(f'Merged array is : {mergeSortedArrays(arr1, arr2)}')"
   ]
  }
 ],
 "metadata": {
  "kernelspec": {
   "display_name": "Python 3",
   "language": "python",
   "name": "python3"
  },
  "language_info": {
   "codemirror_mode": {
    "name": "ipython",
    "version": 3
   },
   "file_extension": ".py",
   "mimetype": "text/x-python",
   "name": "python",
   "nbconvert_exporter": "python",
   "pygments_lexer": "ipython3",
   "version": "3.12.3"
  }
 },
 "nbformat": 4,
 "nbformat_minor": 2
}
