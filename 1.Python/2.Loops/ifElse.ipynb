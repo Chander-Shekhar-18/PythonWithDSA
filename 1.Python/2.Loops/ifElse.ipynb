{
 "cells": [
  {
   "cell_type": "code",
   "execution_count": 1,
   "id": "d667a87d-e347-4546-a6d4-dacff5f689a3",
   "metadata": {},
   "outputs": [
    {
     "name": "stdout",
     "output_type": "stream",
     "text": [
      "I am inside if\n"
     ]
    }
   ],
   "source": [
    "a = True\n",
    "\n",
    "if a :\n",
    "    print('I am inside if')\n",
    "else:\n",
    "    print('I am inside else')"
   ]
  },
  {
   "cell_type": "code",
   "execution_count": 3,
   "id": "56ee1eb4-33d3-4ae6-a092-ffc07fc386b4",
   "metadata": {},
   "outputs": [
    {
     "name": "stdin",
     "output_type": "stream",
     "text": [
      "Enter a number : 7\n"
     ]
    },
    {
     "name": "stdout",
     "output_type": "stream",
     "text": [
      "N is Odd\n"
     ]
    }
   ],
   "source": [
    "# Check if a number is odd or even\n",
    "\n",
    "n = int(input('Enter a number :'))\n",
    "r = n % 2\n",
    "isEven = r == 0\n",
    "\n",
    "if isEven :\n",
    "    print('N is Even')\n",
    "else:\n",
    "    print('N is Odd')"
   ]
  },
  {
   "cell_type": "code",
   "execution_count": 4,
   "id": "d5e8f60f-9b90-49c8-a416-eb5d074df73f",
   "metadata": {},
   "outputs": [
    {
     "name": "stdin",
     "output_type": "stream",
     "text": [
      "Enter a number : 10\n"
     ]
    },
    {
     "name": "stdout",
     "output_type": "stream",
     "text": [
      "n is Even\n"
     ]
    }
   ],
   "source": [
    "# 1st optimization in odd/even code\n",
    "\n",
    "n = int(input('Enter a number :'))\n",
    "\n",
    "isEven = n % 2 == 0\n",
    "\n",
    "if isEven :\n",
    "    print('n is Even')\n",
    "else:\n",
    "    print('N is Odd')"
   ]
  },
  {
   "cell_type": "code",
   "execution_count": 5,
   "id": "77988c40-a33c-4f2f-9d2c-818f46e662d2",
   "metadata": {},
   "outputs": [
    {
     "name": "stdin",
     "output_type": "stream",
     "text": [
      "Enter a number : 121\n"
     ]
    },
    {
     "name": "stdout",
     "output_type": "stream",
     "text": [
      "N is Odd\n"
     ]
    }
   ],
   "source": [
    "# 2nd optimization is odd/even code\n",
    "\n",
    "n = int(input('Enter a number :'))\n",
    "\n",
    "if n % 2 == 0:\n",
    "    print('N is Even')\n",
    "else:\n",
    "    print('N is Odd')"
   ]
  },
  {
   "cell_type": "code",
   "execution_count": 7,
   "id": "97e40af6-a709-4692-b3a1-542b3cc94420",
   "metadata": {},
   "outputs": [
    {
     "name": "stdin",
     "output_type": "stream",
     "text": [
      "Enter first number : 45\n",
      "Enter second number : 0\n"
     ]
    },
    {
     "name": "stdout",
     "output_type": "stream",
     "text": [
      "No. they are not greater than 10\n"
     ]
    }
   ],
   "source": [
    "# Check if a number is greater than 10 or not\n",
    "\n",
    "a = int(input('Enter first number :'))\n",
    "b = int(input('Enter second number :'))\n",
    "\n",
    "if a > 10 and b > 10:\n",
    "    print('Both are greater than 10')\n",
    "else:\n",
    "    print('No. they are not greater than 10')"
   ]
  },
  {
   "cell_type": "markdown",
   "id": "0378d4db-7e74-49ad-8aee-b9318b99821f",
   "metadata": {},
   "source": [
    "# elif"
   ]
  },
  {
   "cell_type": "code",
   "execution_count": 8,
   "id": "4ddb2702-9ca9-4317-903e-9c7a94ec0c3e",
   "metadata": {},
   "outputs": [
    {
     "name": "stdin",
     "output_type": "stream",
     "text": [
      "Enter the first number : 15\n",
      "Enter the second number : 16\n",
      "Enter the thrid number : 20\n"
     ]
    },
    {
     "name": "stdout",
     "output_type": "stream",
     "text": [
      "c is largest\n"
     ]
    }
   ],
   "source": [
    "# find the largest of three numbers\n",
    "\n",
    "a = int(input('Enter the first number :'))\n",
    "b = int(input('Enter the second number :'))\n",
    "c = int(input('Enter the thrid number :'))\n",
    "\n",
    "if a >= b and a >= c:\n",
    "    print('a is largest')\n",
    "elif b >= a and b >= c:\n",
    "    print('b is largest')\n",
    "else:\n",
    "    print('c is largest')"
   ]
  }
 ],
 "metadata": {
  "kernelspec": {
   "display_name": "Python 3 (ipykernel)",
   "language": "python",
   "name": "python3"
  },
  "language_info": {
   "codemirror_mode": {
    "name": "ipython",
    "version": 3
   },
   "file_extension": ".py",
   "mimetype": "text/x-python",
   "name": "python",
   "nbconvert_exporter": "python",
   "pygments_lexer": "ipython3",
   "version": "3.10.12"
  }
 },
 "nbformat": 4,
 "nbformat_minor": 5
}
