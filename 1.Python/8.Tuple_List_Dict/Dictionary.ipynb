{
 "cells": [
  {
   "cell_type": "markdown",
   "metadata": {},
   "source": [
    "-> A dictionary is a unordered collection of key value pair"
   ]
  },
  {
   "cell_type": "code",
   "execution_count": 21,
   "metadata": {},
   "outputs": [
    {
     "data": {
      "text/plain": [
       "dict"
      ]
     },
     "execution_count": 21,
     "metadata": {},
     "output_type": "execute_result"
    }
   ],
   "source": [
    "# Creating a empty dictionary\n",
    "a = {}\n",
    "\n",
    "type(a)"
   ]
  },
  {
   "cell_type": "code",
   "execution_count": 32,
   "metadata": {},
   "outputs": [
    {
     "name": "stdout",
     "output_type": "stream",
     "text": [
      "{1: 3, 2: 4, 3: 7}\n"
     ]
    }
   ],
   "source": [
    "nums = {1 : 3, \n",
    "        2 : 4,\n",
    "        3 : 7}\n",
    "\n",
    "print(nums)"
   ]
  },
  {
   "cell_type": "code",
   "execution_count": 28,
   "metadata": {},
   "outputs": [
    {
     "name": "stdout",
     "output_type": "stream",
     "text": [
      "{1: 2, 3: 4, 9: 8}\n"
     ]
    }
   ],
   "source": [
    "# converting a list into a dictionary\n",
    "my_list = [(1, 2), (3, 4), (9, 8)]\n",
    "\n",
    "c = __builtins__.dict(my_list)\n",
    "\n",
    "print(c)"
   ]
  },
  {
   "cell_type": "code",
   "execution_count": 29,
   "metadata": {},
   "outputs": [
    {
     "name": "stdout",
     "output_type": "stream",
     "text": [
      "{1: None, 2: None, 5: None}\n"
     ]
    }
   ],
   "source": [
    "# creating a dictionary fromkeys method\n",
    "\n",
    "d = dict.fromkeys([1, 2, 5])\n",
    "print(d)"
   ]
  },
  {
   "cell_type": "code",
   "execution_count": 30,
   "metadata": {},
   "outputs": [
    {
     "name": "stdout",
     "output_type": "stream",
     "text": [
      "{1: 'Chander', 2: 'Chander', 5: 'Chander'}\n"
     ]
    }
   ],
   "source": [
    "# We can also pass default value instead on none\n",
    "d = dict.fromkeys([1, 2, 5], 'Chander')\n",
    "print(d)"
   ]
  },
  {
   "cell_type": "code",
   "execution_count": 31,
   "metadata": {},
   "outputs": [
    {
     "data": {
      "text/plain": [
       "3"
      ]
     },
     "execution_count": 31,
     "metadata": {},
     "output_type": "execute_result"
    }
   ],
   "source": [
    "# length of the dictionary\n",
    "len(d)"
   ]
  },
  {
   "cell_type": "code",
   "execution_count": 35,
   "metadata": {},
   "outputs": [
    {
     "name": "stdout",
     "output_type": "stream",
     "text": [
      "Marks of roll number 1 is : 36\n"
     ]
    },
    {
     "ename": "KeyError",
     "evalue": "45",
     "output_type": "error",
     "traceback": [
      "\u001b[0;31m---------------------------------------------------------------------------\u001b[0m",
      "\u001b[0;31mKeyError\u001b[0m                                  Traceback (most recent call last)",
      "Cell \u001b[0;32mIn[35], line 11\u001b[0m\n\u001b[1;32m      8\u001b[0m \u001b[38;5;28mprint\u001b[39m(\u001b[38;5;124mf\u001b[39m\u001b[38;5;124m'\u001b[39m\u001b[38;5;124mMarks of roll number 1 is : \u001b[39m\u001b[38;5;132;01m{\u001b[39;00mmarks[\u001b[38;5;241m1\u001b[39m]\u001b[38;5;132;01m}\u001b[39;00m\u001b[38;5;124m'\u001b[39m)\n\u001b[1;32m     10\u001b[0m \u001b[38;5;66;03m# But it will throw error if key is not present\u001b[39;00m\n\u001b[0;32m---> 11\u001b[0m \u001b[38;5;28mprint\u001b[39m(\u001b[38;5;124mf\u001b[39m\u001b[38;5;124m'\u001b[39m\u001b[38;5;124mMarks of roll number 45 is : \u001b[39m\u001b[38;5;132;01m{\u001b[39;00m\u001b[43mmarks\u001b[49m\u001b[43m[\u001b[49m\u001b[38;5;241;43m45\u001b[39;49m\u001b[43m]\u001b[49m\u001b[38;5;132;01m}\u001b[39;00m\u001b[38;5;124m'\u001b[39m)\n",
      "\u001b[0;31mKeyError\u001b[0m: 45"
     ]
    }
   ],
   "source": [
    "# Accessing value\n",
    "marks = {1 : 36, \n",
    "         2 : 39,\n",
    "         3 : 44,\n",
    "         4 : 89}\n",
    "\n",
    "# We can use 2 method for accessing : 1st is by key and 2nd is .get() method\n",
    "print(f'Marks of roll number 1 is : {marks[1]}')\n",
    "\n",
    "# But it will throw error if key is not present\n",
    "print(f'Marks of roll number 45 is : {marks[45]}')"
   ]
  },
  {
   "cell_type": "code",
   "execution_count": 41,
   "metadata": {},
   "outputs": [
    {
     "name": "stdout",
     "output_type": "stream",
     "text": [
      "Marks of roll number 4 is : 89\n",
      "Marks of roll number 45 is : None\n",
      "Marks of roll number 45 is : Not present\n"
     ]
    }
   ],
   "source": [
    "# Accessing using .get() method, it require key as an argument\n",
    "print(f'Marks of roll number 4 is : {marks.get(4)}')\n",
    "\n",
    "# It will not throw any error even if key is not present, it will return none\n",
    "print(f'Marks of roll number 45 is : {marks.get(45)}')\n",
    "\n",
    "# But we can change that none value to some default value\n",
    "print(f'Marks of roll number 45 is : {marks.get(45, 'Not present')}')"
   ]
  },
  {
   "cell_type": "code",
   "execution_count": 43,
   "metadata": {},
   "outputs": [
    {
     "name": "stdout",
     "output_type": "stream",
     "text": [
      "All the roll numbers or keys are : dict_keys([1, 2, 3, 4])\n"
     ]
    }
   ],
   "source": [
    "# accessing all the keys, it will return a list\n",
    "print(f'All the roll numbers or keys are : {marks.keys()}')"
   ]
  },
  {
   "cell_type": "code",
   "execution_count": 45,
   "metadata": {},
   "outputs": [
    {
     "name": "stdout",
     "output_type": "stream",
     "text": [
      "All the roll numbers or keys are : dict_values([36, 39, 44, 89])\n"
     ]
    }
   ],
   "source": [
    "# accessing all the values, it will return a list\n",
    "print(f'All the roll numbers or keys are : {marks.values()}')"
   ]
  },
  {
   "cell_type": "code",
   "execution_count": 51,
   "metadata": {},
   "outputs": [
    {
     "name": "stdout",
     "output_type": "stream",
     "text": [
      "All the roll numbers and marks are : dict_items([(1, 36), (2, 39), (3, 44), (4, 89)])\n"
     ]
    }
   ],
   "source": [
    "# accessing all the key value pair, it will return a list\n",
    "print(f'All the roll numbers and marks are : {marks.items()}')"
   ]
  },
  {
   "cell_type": "code",
   "execution_count": 52,
   "metadata": {},
   "outputs": [
    {
     "name": "stdout",
     "output_type": "stream",
     "text": [
      "1\n",
      "2\n",
      "3\n",
      "4\n"
     ]
    }
   ],
   "source": [
    "# Iterating over a doctionary, it will print keys\n",
    "\n",
    "for i in marks:\n",
    "    print(i)"
   ]
  },
  {
   "cell_type": "code",
   "execution_count": 49,
   "metadata": {},
   "outputs": [
    {
     "name": "stdout",
     "output_type": "stream",
     "text": [
      "36\n",
      "39\n",
      "44\n",
      "89\n"
     ]
    }
   ],
   "source": [
    "# Iterating over a dictionary by values\n",
    "for i in marks.values():\n",
    "    print(i)"
   ]
  },
  {
   "cell_type": "code",
   "execution_count": 54,
   "metadata": {},
   "outputs": [
    {
     "data": {
      "text/plain": [
       "False"
      ]
     },
     "execution_count": 54,
     "metadata": {},
     "output_type": "execute_result"
    }
   ],
   "source": [
    "# Checking if the dictionary contains a given key or not\n",
    "\n",
    "6 in marks"
   ]
  },
  {
   "cell_type": "code",
   "execution_count": 55,
   "metadata": {},
   "outputs": [
    {
     "name": "stdout",
     "output_type": "stream",
     "text": [
      "{1: 36, 2: 39, 3: 44, 4: 89, 5: 78}\n"
     ]
    }
   ],
   "source": [
    "# Adding data to the dictionary\n",
    "marks[5] = 78\n",
    "\n",
    "print(marks)"
   ]
  },
  {
   "cell_type": "code",
   "execution_count": 56,
   "metadata": {},
   "outputs": [
    {
     "name": "stdout",
     "output_type": "stream",
     "text": [
      "{1: 63, 2: 39, 3: 44, 4: 89, 5: 78}\n"
     ]
    }
   ],
   "source": [
    "# Updating the value\n",
    "marks[1] = 63\n",
    "\n",
    "print(marks)"
   ]
  },
  {
   "cell_type": "code",
   "execution_count": 57,
   "metadata": {},
   "outputs": [
    {
     "name": "stdout",
     "output_type": "stream",
     "text": [
      "{2: 39, 3: 44, 4: 89, 5: 78}\n"
     ]
    }
   ],
   "source": [
    "# Removing the data\n",
    "marks.pop(1)\n",
    "\n",
    "print(marks)"
   ]
  },
  {
   "cell_type": "code",
   "execution_count": 58,
   "metadata": {},
   "outputs": [
    {
     "name": "stdout",
     "output_type": "stream",
     "text": [
      "{}\n"
     ]
    }
   ],
   "source": [
    "# Clear a dictionary, it will only remove key/value pair but dictionary still remain there\n",
    "nums = {1 : 3, \n",
    "        2 : 4,\n",
    "        3 : 7}\n",
    "\n",
    "nums.clear()\n",
    "\n",
    "print(nums)"
   ]
  },
  {
   "cell_type": "code",
   "execution_count": 59,
   "metadata": {},
   "outputs": [
    {
     "ename": "NameError",
     "evalue": "name 'nums' is not defined",
     "output_type": "error",
     "traceback": [
      "\u001b[0;31m---------------------------------------------------------------------------\u001b[0m",
      "\u001b[0;31mNameError\u001b[0m                                 Traceback (most recent call last)",
      "Cell \u001b[0;32mIn[59], line 5\u001b[0m\n\u001b[1;32m      1\u001b[0m \u001b[38;5;66;03m# Deleting a dictionary\u001b[39;00m\n\u001b[1;32m      3\u001b[0m \u001b[38;5;28;01mdel\u001b[39;00m nums\n\u001b[0;32m----> 5\u001b[0m \u001b[38;5;28mprint\u001b[39m(\u001b[43mnums\u001b[49m)\n",
      "\u001b[0;31mNameError\u001b[0m: name 'nums' is not defined"
     ]
    }
   ],
   "source": [
    "# Deleting a dictionary\n",
    "\n",
    "del nums\n",
    "\n",
    "print(nums)"
   ]
  },
  {
   "cell_type": "code",
   "execution_count": null,
   "metadata": {},
   "outputs": [],
   "source": [
    "nums1 = [4,9,5]\n",
    "nums2 = []"
   ]
  }
 ],
 "metadata": {
  "kernelspec": {
   "display_name": "Python 3",
   "language": "python",
   "name": "python3"
  },
  "language_info": {
   "codemirror_mode": {
    "name": "ipython",
    "version": 3
   },
   "file_extension": ".py",
   "mimetype": "text/x-python",
   "name": "python",
   "nbconvert_exporter": "python",
   "pygments_lexer": "ipython3",
   "version": "3.12.3"
  }
 },
 "nbformat": 4,
 "nbformat_minor": 2
}
