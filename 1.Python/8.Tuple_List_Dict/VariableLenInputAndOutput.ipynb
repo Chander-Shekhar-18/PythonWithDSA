{
 "cells": [
  {
   "cell_type": "markdown",
   "metadata": {},
   "source": [
    "-> For variable length input and output we use tuple"
   ]
  },
  {
   "cell_type": "code",
   "execution_count": 5,
   "metadata": {},
   "outputs": [],
   "source": [
    "# Example of variable length input\n",
    "\n",
    "def sum (a, b, *extraVariable):\n",
    "    print(a)\n",
    "    print(b)\n",
    "\n",
    "    ans = a + b\n",
    "\n",
    "    for i in extraVariable:\n",
    "        ans += i\n",
    "    \n",
    "    print(ans)"
   ]
  },
  {
   "cell_type": "code",
   "execution_count": 6,
   "metadata": {},
   "outputs": [
    {
     "name": "stdout",
     "output_type": "stream",
     "text": [
      "1\n",
      "2\n",
      "21\n"
     ]
    }
   ],
   "source": [
    "sum(1, 2, 3, 4, 5, 6)"
   ]
  },
  {
   "cell_type": "code",
   "execution_count": 7,
   "metadata": {},
   "outputs": [],
   "source": [
    "# Example of variable length output\n",
    "\n",
    "def outputs(a, b, *extraVariables):\n",
    "    return a + b, a * b, a / b, a - b"
   ]
  },
  {
   "cell_type": "code",
   "execution_count": 9,
   "metadata": {},
   "outputs": [
    {
     "name": "stdout",
     "output_type": "stream",
     "text": [
      "(5, 4, 4.0, 3)\n"
     ]
    }
   ],
   "source": [
    "print(outputs(4, 1))"
   ]
  }
 ],
 "metadata": {
  "kernelspec": {
   "display_name": "Python 3",
   "language": "python",
   "name": "python3"
  },
  "language_info": {
   "codemirror_mode": {
    "name": "ipython",
    "version": 3
   },
   "file_extension": ".py",
   "mimetype": "text/x-python",
   "name": "python",
   "nbconvert_exporter": "python",
   "pygments_lexer": "ipython3",
   "version": "3.12.3"
  }
 },
 "nbformat": 4,
 "nbformat_minor": 2
}
