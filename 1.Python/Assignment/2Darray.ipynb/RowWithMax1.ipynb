{
 "cells": [
  {
   "cell_type": "code",
   "execution_count": 28,
   "metadata": {},
   "outputs": [],
   "source": [
    "matrix = [[0, 0, 0, 0], [0, 1, 1, 0], [1, 1, 1, 1], [0, 1, 1, 0]]"
   ]
  },
  {
   "cell_type": "code",
   "execution_count": 26,
   "metadata": {},
   "outputs": [],
   "source": [
    "def checkMaxOne(matrix, row, col):\n",
    "    maxCount = 0\n",
    "    for i in range(row):\n",
    "        countOne = 0\n",
    "        for j in range(col):\n",
    "            if matrix[i][j] == 1:\n",
    "                countOne += 1\n",
    "            \n",
    "            if countOne > maxCount:\n",
    "                maxCount = countOne\n",
    "                row = i\n",
    "    return row"
   ]
  },
  {
   "cell_type": "code",
   "execution_count": 31,
   "metadata": {},
   "outputs": [
    {
     "name": "stdout",
     "output_type": "stream",
     "text": [
      "Maximum number of 1 in the row is : 2\n"
     ]
    }
   ],
   "source": [
    "print(f'Maximum number of 1 in the row is : {checkMaxOne(matrix, 4, 4)}')"
   ]
  }
 ],
 "metadata": {
  "kernelspec": {
   "display_name": "Python 3",
   "language": "python",
   "name": "python3"
  },
  "language_info": {
   "codemirror_mode": {
    "name": "ipython",
    "version": 3
   },
   "file_extension": ".py",
   "mimetype": "text/x-python",
   "name": "python",
   "nbconvert_exporter": "python",
   "pygments_lexer": "ipython3",
   "version": "3.12.3"
  }
 },
 "nbformat": 4,
 "nbformat_minor": 2
}
