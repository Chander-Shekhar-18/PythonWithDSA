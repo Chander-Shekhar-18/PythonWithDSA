{
 "cells": [
  {
   "cell_type": "code",
   "execution_count": 14,
   "metadata": {},
   "outputs": [],
   "source": [
    "def isElementPresent(mat, m, n, target):\n",
    "    i = 0\n",
    "    j = n - 1\n",
    "\n",
    "    while i < m and j >= 0:\n",
    "        if mat[i][j] == target:\n",
    "            return True\n",
    "        elif mat[i][j] > target:\n",
    "            j = j -1\n",
    "        else:\n",
    "            i = i + 1\n",
    "    \n",
    "    return False"
   ]
  },
  {
   "cell_type": "code",
   "execution_count": 15,
   "metadata": {},
   "outputs": [
    {
     "name": "stdout",
     "output_type": "stream",
     "text": [
      "True\n"
     ]
    }
   ],
   "source": [
    "mat = [[1, 4], [4, 8]]\n",
    "\n",
    "print(isElementPresent(mat, len(mat), len(mat[0]), 8))"
   ]
  }
 ],
 "metadata": {
  "kernelspec": {
   "display_name": "Python 3",
   "language": "python",
   "name": "python3"
  },
  "language_info": {
   "codemirror_mode": {
    "name": "ipython",
    "version": 3
   },
   "file_extension": ".py",
   "mimetype": "text/x-python",
   "name": "python",
   "nbconvert_exporter": "python",
   "pygments_lexer": "ipython3",
   "version": "3.12.3"
  }
 },
 "nbformat": 4,
 "nbformat_minor": 2
}
