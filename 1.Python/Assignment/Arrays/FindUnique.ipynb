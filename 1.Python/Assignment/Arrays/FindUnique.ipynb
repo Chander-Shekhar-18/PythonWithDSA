{
 "cells": [
  {
   "cell_type": "code",
   "execution_count": 2,
   "metadata": {},
   "outputs": [
    {
     "data": {
      "text/plain": [
       "'\\nSample Input:\\n2 3 1 6 3 6 2\\nSample Output:\\n1\\nExplanation: The array is [2, 3, 1, 6, 3, 6, 2]. Here, the numbers 2, 3, and 6 are present twice, and the number 1 is present only once. So, the unique number in this array is 1.\\n'"
      ]
     },
     "execution_count": 2,
     "metadata": {},
     "output_type": "execute_result"
    }
   ],
   "source": [
    "'''\n",
    "Sample Input:\n",
    "2 3 1 6 3 6 2\n",
    "Sample Output:\n",
    "1\n",
    "Explanation: The array is [2, 3, 1, 6, 3, 6, 2]. Here, the numbers 2, 3, and 6 are present twice, and the number 1 is present only once. So, the unique number in this array is 1.\n",
    "'''"
   ]
  },
  {
   "cell_type": "code",
   "execution_count": 12,
   "metadata": {},
   "outputs": [
    {
     "data": {
      "text/plain": [
       "[2, 1, 3, 6]"
      ]
     },
     "execution_count": 12,
     "metadata": {},
     "output_type": "execute_result"
    }
   ],
   "source": [
    "list = [2,1,3,6,3,6,2]\n",
    "\n",
    "def findUnique(list):\n",
    "    uniqueElements = []\n",
    "    for ele in list:\n",
    "        if ele not in uniqueElements:\n",
    "            uniqueElements.append(ele)\n",
    "    return uniqueElements\n",
    "\n",
    "findUnique(list)"
   ]
  },
  {
   "cell_type": "code",
   "execution_count": 20,
   "metadata": {},
   "outputs": [
    {
     "data": {
      "text/plain": [
       "1"
      ]
     },
     "execution_count": 20,
     "metadata": {},
     "output_type": "execute_result"
    }
   ],
   "source": [
    "def unique(list):\n",
    "    for i in range(len(list)):\n",
    "        isDuplicate = False\n",
    "        \n",
    "        for j in range(len(list)):\n",
    "            if i != j and list[i] == list[j]:\n",
    "                isDuplicate = True\n",
    "                break\n",
    "        if not isDuplicate:\n",
    "            return list[i]\n",
    "        \n",
    "unique(list)"
   ]
  }
 ],
 "metadata": {
  "kernelspec": {
   "display_name": "Python 3",
   "language": "python",
   "name": "python3"
  },
  "language_info": {
   "codemirror_mode": {
    "name": "ipython",
    "version": 3
   },
   "file_extension": ".py",
   "mimetype": "text/x-python",
   "name": "python",
   "nbconvert_exporter": "python",
   "pygments_lexer": "ipython3",
   "version": "3.12.3"
  }
 },
 "nbformat": 4,
 "nbformat_minor": 2
}
