{
 "cells": [
  {
   "cell_type": "code",
   "execution_count": 16,
   "metadata": {},
   "outputs": [
    {
     "name": "stdout",
     "output_type": "stream",
     "text": [
      "Total number of triplates are 5\n"
     ]
    }
   ],
   "source": [
    "numbers = [1, 2, 3, 4, 5, 6, 7]\n",
    "\n",
    "def countTripletSum(arr, target):\n",
    "    count = 0\n",
    "\n",
    "    for i in range(len(arr) - 1):\n",
    "        for j in range(i + 1, len(arr) - 1):\n",
    "            for k in range(j + 1, len(arr)):\n",
    "                if arr[i] + arr[j] + arr[k] == target:\n",
    "                    count += 1\n",
    "    \n",
    "    return count\n",
    "\n",
    "ans = countTripletSum(numbers, 12)\n",
    "\n",
    "print(f'Total number of triplates are {ans}')"
   ]
  }
 ],
 "metadata": {
  "kernelspec": {
   "display_name": "Python 3",
   "language": "python",
   "name": "python3"
  },
  "language_info": {
   "codemirror_mode": {
    "name": "ipython",
    "version": 3
   },
   "file_extension": ".py",
   "mimetype": "text/x-python",
   "name": "python",
   "nbconvert_exporter": "python",
   "pygments_lexer": "ipython3",
   "version": "3.12.3"
  }
 },
 "nbformat": 4,
 "nbformat_minor": 2
}
