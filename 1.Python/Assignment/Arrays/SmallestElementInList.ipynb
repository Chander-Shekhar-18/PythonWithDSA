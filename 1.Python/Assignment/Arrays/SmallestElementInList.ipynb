{
 "cells": [
  {
   "cell_type": "code",
   "execution_count": 12,
   "metadata": {},
   "outputs": [
    {
     "name": "stdout",
     "output_type": "stream",
     "text": [
      "Smallest Element in the list is 1\n"
     ]
    }
   ],
   "source": [
    "list = [78, 9, 4, 44, 1, 100]\n",
    "\n",
    "smallestElement = list[0]\n",
    "\n",
    "for i in list:\n",
    "    if i <= smallestElement:\n",
    "        smallestElement = i\n",
    "\n",
    "print(f'Smallest Element in the list is {smallestElement}')"
   ]
  },
  {
   "cell_type": "code",
   "execution_count": 11,
   "metadata": {},
   "outputs": [
    {
     "name": "stdout",
     "output_type": "stream",
     "text": [
      "Smallest Element in the list is 1\n"
     ]
    }
   ],
   "source": [
    "list = [78, 9, 4, 44, 1, 100]\n",
    "\n",
    "smallestElement = list[0]\n",
    "\n",
    "for i in list:\n",
    "    smallestElement = min(i, smallestElement)\n",
    "\n",
    "print(f'Smallest Element in the list is {smallestElement}')"
   ]
  }
 ],
 "metadata": {
  "kernelspec": {
   "display_name": "Python 3",
   "language": "python",
   "name": "python3"
  },
  "language_info": {
   "codemirror_mode": {
    "name": "ipython",
    "version": 3
   },
   "file_extension": ".py",
   "mimetype": "text/x-python",
   "name": "python",
   "nbconvert_exporter": "python",
   "pygments_lexer": "ipython3",
   "version": "3.12.3"
  }
 },
 "nbformat": 4,
 "nbformat_minor": 2
}
