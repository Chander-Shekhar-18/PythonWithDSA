{
 "cells": [
  {
   "cell_type": "code",
   "execution_count": 1,
   "metadata": {},
   "outputs": [
    {
     "name": "stdout",
     "output_type": "stream",
     "text": [
      "Largest Element is the list is 123\n"
     ]
    }
   ],
   "source": [
    "list = [89, 45, 6, 100, 53, 123]\n",
    "\n",
    "largestElement = list[0]\n",
    "\n",
    "for i in list:\n",
    "    if i >= largestElement:\n",
    "        largestElement = i\n",
    "\n",
    "print(f'Largest Element is the list is {largestElement}')"
   ]
  },
  {
   "cell_type": "code",
   "execution_count": 2,
   "metadata": {},
   "outputs": [
    {
     "name": "stdout",
     "output_type": "stream",
     "text": [
      "Largest Element in the list is 123\n"
     ]
    }
   ],
   "source": [
    "list = [89, 45, 6, 100, 53, 123]\n",
    "\n",
    "largestElement = list[0]\n",
    "\n",
    "for i in list:\n",
    "    largestElement = max(i, largestElement)\n",
    "\n",
    "print(f'Largest Element in the list is {largestElement}')"
   ]
  }
 ],
 "metadata": {
  "kernelspec": {
   "display_name": "Python 3",
   "language": "python",
   "name": "python3"
  },
  "language_info": {
   "codemirror_mode": {
    "name": "ipython",
    "version": 3
   },
   "file_extension": ".py",
   "mimetype": "text/x-python",
   "name": "python",
   "nbconvert_exporter": "python",
   "pygments_lexer": "ipython3",
   "version": "3.12.3"
  }
 },
 "nbformat": 4,
 "nbformat_minor": 2
}
