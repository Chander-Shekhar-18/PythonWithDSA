{
 "cells": [
  {
   "cell_type": "code",
   "execution_count": 8,
   "metadata": {},
   "outputs": [
    {
     "name": "stdout",
     "output_type": "stream",
     "text": [
      "4321\n"
     ]
    }
   ],
   "source": [
    "n = 1234\n",
    "\n",
    "revNum = 0\n",
    "\n",
    "while n != 0:\n",
    "    dig = n % 10\n",
    "    revNum = (revNum * 10) + dig\n",
    "    n = n // 10\n",
    "\n",
    "print(revNum)\n",
    "\n",
    "'''\n",
    "1: (0 * 10) + 4 = 4\n",
    "2: (4 * 10) + 3 = 43\n",
    "3: (43 * 10) + 2 = 432\n",
    "4: (432 * 10) + 1 = 4321\n",
    "'''"
   ]
  }
 ],
 "metadata": {
  "kernelspec": {
   "display_name": "Python 3",
   "language": "python",
   "name": "python3"
  },
  "language_info": {
   "codemirror_mode": {
    "name": "ipython",
    "version": 3
   },
   "file_extension": ".py",
   "mimetype": "text/x-python",
   "name": "python",
   "nbconvert_exporter": "python",
   "pygments_lexer": "ipython3",
   "version": "3.12.3"
  }
 },
 "nbformat": 4,
 "nbformat_minor": 2
}
