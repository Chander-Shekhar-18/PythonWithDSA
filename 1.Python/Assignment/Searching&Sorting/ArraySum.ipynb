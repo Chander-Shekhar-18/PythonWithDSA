{
 "cells": [
  {
   "cell_type": "markdown",
   "metadata": {},
   "source": [
    "Two random integer arrays/lists have been given as ARR1 and ARR2 of size N and M respectively. Both the arrays/lists contain numbers from 0 to 9(i.e. single digit integer is present at every index). ThTwo random integer arrays/lists have been given as ARR1 and ARR2 of size N and M respectively. Both the arrays/lists contain numbers from 0 to 9(i.e. single digit integer is present at every index). The idea here is to represent each array/list as an integer in itself of digits N and M.\n",
    "\n",
    "You need to find the sum of both the input arrays/list treating them as two integers and put the result in another array/list i.e. output array/list will also contain only single digit at every index.e idea here is to represent each array/list as an integer in itself of digits N and M.\n",
    "\n",
    "You need to find the sum of both the input arrays/list treating them as two integers and put the result in another array/list i.e. output array/list will also contain only single digit at every index."
   ]
  },
  {
   "cell_type": "code",
   "execution_count": 73,
   "metadata": {},
   "outputs": [],
   "source": [
    "def SumOfArrays(arr1, arr2):\n",
    "    ans = []\n",
    "    carry = 0\n",
    "\n",
    "    # Reverse the arrays to start addition from least significant digit\n",
    "    arr1 = arr1[::-1]\n",
    "    arr2 = arr2[::-1]\n",
    "\n",
    "    for i in range(len(arr1)):\n",
    "        temp = arr1[i] + arr2[i] + carry\n",
    "        ans.append(temp % 10)  # Append the last digit to the answer\n",
    "        carry = temp // 10  # Update the carry\n",
    "\n",
    "    if carry != 0:\n",
    "        ans.append(carry)  # If there is any remaining carry, append it to the answer\n",
    "\n",
    "    ans = ans[::-1]  # Reverse the answer array to get the final result\n",
    "\n",
    "    return ans\n"
   ]
  },
  {
   "cell_type": "code",
   "execution_count": 74,
   "metadata": {},
   "outputs": [
    {
     "name": "stdout",
     "output_type": "stream",
     "text": [
      "[1, 3, 8, 0]\n"
     ]
    }
   ],
   "source": [
    "arr1 = [6, 2, 4]\n",
    "arr2 = [7, 5, 6]\n",
    "\n",
    "print(SumOfArrays(arr1, arr2))"
   ]
  }
 ],
 "metadata": {
  "kernelspec": {
   "display_name": "Python 3",
   "language": "python",
   "name": "python3"
  },
  "language_info": {
   "codemirror_mode": {
    "name": "ipython",
    "version": 3
   },
   "file_extension": ".py",
   "mimetype": "text/x-python",
   "name": "python",
   "nbconvert_exporter": "python",
   "pygments_lexer": "ipython3",
   "version": "3.12.3"
  }
 },
 "nbformat": 4,
 "nbformat_minor": 2
}
