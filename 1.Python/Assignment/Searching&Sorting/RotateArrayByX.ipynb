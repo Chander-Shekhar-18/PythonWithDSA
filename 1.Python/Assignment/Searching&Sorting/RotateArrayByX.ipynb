{
 "cells": [
  {
   "cell_type": "code",
   "execution_count": 42,
   "metadata": {},
   "outputs": [],
   "source": [
    "arr = [1, 2, 3, 4, 5, 6, 7]\n",
    "x = 3"
   ]
  },
  {
   "cell_type": "code",
   "execution_count": 27,
   "metadata": {},
   "outputs": [],
   "source": [
    "# def rotateArray(arr, x):\n",
    "#     count = 0\n",
    "\n",
    "#     while count < x:\n",
    "#         last = arr[0]\n",
    "\n",
    "#         for i in range(len(arr) - 1):\n",
    "#             arr[i] = arr[i + 1]\n",
    "#         arr[len(arr) - 1] = last\n",
    "\n",
    "#         count = count + 1\n",
    "\n",
    "def rotateArray(arr, x):\n",
    "    count = 0\n",
    "\n",
    "    while count < x:\n",
    "        last = arr[len(arr) - 1]  # Store the last element\n",
    "\n",
    "        for i in range(len(arr) - 1, 0, -1):  # Start from the end\n",
    "            arr[i] = arr[i - 1]  # Shift elements to the right\n",
    "        arr[0] = last  # Place the last element at the start\n",
    "\n",
    "        count = count + 1"
   ]
  },
  {
   "cell_type": "code",
   "execution_count": 29,
   "metadata": {},
   "outputs": [
    {
     "name": "stdout",
     "output_type": "stream",
     "text": [
      "[5, 6, 7, 1, 2, 3, 4]\n"
     ]
    }
   ],
   "source": [
    "rotateArray(arr, x)\n",
    "\n",
    "print(arr)"
   ]
  },
  {
   "cell_type": "code",
   "execution_count": 40,
   "metadata": {},
   "outputs": [],
   "source": [
    "# Rotate array using temperary array\n",
    "\n",
    "def rotateArrayUsingList(arr, x):\n",
    "    newArr = []\n",
    "\n",
    "    for i in range(len(arr) - 1, x, -1):\n",
    "        newArr.append(arr[i])\n",
    "\n",
    "    for i in range(0, len(arr) - x):\n",
    "        newArr.append(arr[i])\n",
    "    \n",
    "    return newArr"
   ]
  },
  {
   "cell_type": "code",
   "execution_count": 43,
   "metadata": {},
   "outputs": [
    {
     "name": "stdout",
     "output_type": "stream",
     "text": [
      "[7, 6, 5, 1, 2, 3, 4]\n"
     ]
    }
   ],
   "source": [
    "print(rotateArrayUsingList(arr, x))"
   ]
  }
 ],
 "metadata": {
  "kernelspec": {
   "display_name": "Python 3",
   "language": "python",
   "name": "python3"
  },
  "language_info": {
   "codemirror_mode": {
    "name": "ipython",
    "version": 3
   },
   "file_extension": ".py",
   "mimetype": "text/x-python",
   "name": "python",
   "nbconvert_exporter": "python",
   "pygments_lexer": "ipython3",
   "version": "3.12.3"
  }
 },
 "nbformat": 4,
 "nbformat_minor": 2
}
