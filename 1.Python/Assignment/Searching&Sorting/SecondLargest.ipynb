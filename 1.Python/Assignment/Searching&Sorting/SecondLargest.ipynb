{
 "cells": [
  {
   "cell_type": "markdown",
   "metadata": {},
   "source": [
    "You have been given a random integer array/list(ARR) of size N. You are required to find and return the second largest element present in the array/list."
   ]
  },
  {
   "cell_type": "code",
   "execution_count": 2,
   "metadata": {},
   "outputs": [],
   "source": [
    "def SecondLargest(arr, n):\n",
    "    firstLar = secondLar = float('-inf')\n",
    "\n",
    "    for num in arr:\n",
    "        if num > firstLar:\n",
    "            secondLar = firstLar\n",
    "            firstLar = num\n",
    "        elif num > secondLar and num != firstLar:\n",
    "            secondLar = num\n",
    "    \n",
    "    return secondLar"
   ]
  },
  {
   "cell_type": "code",
   "execution_count": 3,
   "metadata": {},
   "outputs": [
    {
     "name": "stdout",
     "output_type": "stream",
     "text": [
      "Second Largest number is : 9\n"
     ]
    }
   ],
   "source": [
    "arr = [4, 3, 10, 9, 2]\n",
    "\n",
    "print(f'Second Largest number is : {SecondLargest(arr, len(arr))}')"
   ]
  }
 ],
 "metadata": {
  "kernelspec": {
   "display_name": "Python 3",
   "language": "python",
   "name": "python3"
  },
  "language_info": {
   "codemirror_mode": {
    "name": "ipython",
    "version": 3
   },
   "file_extension": ".py",
   "mimetype": "text/x-python",
   "name": "python",
   "nbconvert_exporter": "python",
   "pygments_lexer": "ipython3",
   "version": "3.12.3"
  }
 },
 "nbformat": 4,
 "nbformat_minor": 2
}
