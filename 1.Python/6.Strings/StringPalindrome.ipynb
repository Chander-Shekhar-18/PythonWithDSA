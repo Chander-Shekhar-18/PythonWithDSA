{
 "cells": [
  {
   "cell_type": "code",
   "execution_count": 1,
   "metadata": {},
   "outputs": [],
   "source": [
    "def checkPalindrome(str):\n",
    "    start = 0\n",
    "    end = len(str) - 1\n",
    "\n",
    "    for i in range(len(str)):\n",
    "        while start < end:\n",
    "            if str[start] == str[end]:\n",
    "                start = start + 1\n",
    "                end = end - 1\n",
    "                return True\n",
    "            else:\n",
    "                return False"
   ]
  },
  {
   "cell_type": "code",
   "execution_count": 4,
   "metadata": {},
   "outputs": [
    {
     "name": "stdout",
     "output_type": "stream",
     "text": [
      "abcdcba is palindrome or not ? : True\n"
     ]
    }
   ],
   "source": [
    "str = 'abcdcba'\n",
    "\n",
    "print(f'{str} is palindrome or not ? : {checkPalindrome(str)}')"
   ]
  }
 ],
 "metadata": {
  "kernelspec": {
   "display_name": "Python 3",
   "language": "python",
   "name": "python3"
  },
  "language_info": {
   "codemirror_mode": {
    "name": "ipython",
    "version": 3
   },
   "file_extension": ".py",
   "mimetype": "text/x-python",
   "name": "python",
   "nbconvert_exporter": "python",
   "pygments_lexer": "ipython3",
   "version": "3.12.3"
  }
 },
 "nbformat": 4,
 "nbformat_minor": 2
}
