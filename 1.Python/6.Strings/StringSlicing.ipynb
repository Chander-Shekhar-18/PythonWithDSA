{
 "cells": [
  {
   "cell_type": "markdown",
   "metadata": {},
   "source": [
    "[startIndex : lastIndex : step]\n",
    "\n",
    "by default value of startIndex is : 0\n",
    "\n",
    "by default value of lastIndex is : len(str)\n",
    "\n",
    "by default value of step is : 1"
   ]
  },
  {
   "cell_type": "code",
   "execution_count": 1,
   "metadata": {},
   "outputs": [],
   "source": [
    "name  = 'ChanderShekhar'"
   ]
  },
  {
   "cell_type": "code",
   "execution_count": 3,
   "metadata": {},
   "outputs": [
    {
     "name": "stdout",
     "output_type": "stream",
     "text": [
      "han\n"
     ]
    }
   ],
   "source": [
    "# It will print from index 1 to 3\n",
    "print(name[1 : 4])"
   ]
  },
  {
   "cell_type": "code",
   "execution_count": 5,
   "metadata": {},
   "outputs": [
    {
     "name": "stdout",
     "output_type": "stream",
     "text": [
      "hne\n"
     ]
    }
   ],
   "source": [
    "# It will print from index 1 to 6 by step 2\n",
    "print(name[1 : 6 : 2])"
   ]
  },
  {
   "cell_type": "code",
   "execution_count": 6,
   "metadata": {},
   "outputs": [
    {
     "name": "stdout",
     "output_type": "stream",
     "text": [
      "\n"
     ]
    }
   ],
   "source": [
    "# If we try to slice starting index greater than last index then it will print noting\n",
    "print(name[6 : 2])"
   ]
  },
  {
   "cell_type": "code",
   "execution_count": 7,
   "metadata": {},
   "outputs": [
    {
     "name": "stdout",
     "output_type": "stream",
     "text": [
      "handerShekhar\n"
     ]
    }
   ],
   "source": [
    "# It will print from index 1 to end\n",
    "print(name[1:])"
   ]
  },
  {
   "cell_type": "code",
   "execution_count": 10,
   "metadata": {},
   "outputs": [
    {
     "name": "stdout",
     "output_type": "stream",
     "text": [
      "Chander\n"
     ]
    }
   ],
   "source": [
    "# It will print from 0 to index 7\n",
    "print(name[ : 7])"
   ]
  },
  {
   "cell_type": "code",
   "execution_count": 11,
   "metadata": {},
   "outputs": [
    {
     "name": "stdout",
     "output_type": "stream",
     "text": [
      "ChanderShekhar\n"
     ]
    }
   ],
   "source": [
    "# If we pass lastIndex greater than the len(str), it will go till last by default\n",
    "print(name[ : 56])"
   ]
  },
  {
   "cell_type": "code",
   "execution_count": 17,
   "metadata": {},
   "outputs": [
    {
     "name": "stdout",
     "output_type": "stream",
     "text": [
      "rednah\n"
     ]
    }
   ],
   "source": [
    "# It will print from 6th index to 0 in reverse order \n",
    "print(name[6:0:-1])"
   ]
  },
  {
   "cell_type": "code",
   "execution_count": 21,
   "metadata": {},
   "outputs": [
    {
     "name": "stdout",
     "output_type": "stream",
     "text": [
      "rednahC\n"
     ]
    }
   ],
   "source": [
    "# It will print the list in reverse order\n",
    "print((name[6 : : -1]))"
   ]
  }
 ],
 "metadata": {
  "kernelspec": {
   "display_name": "Python 3",
   "language": "python",
   "name": "python3"
  },
  "language_info": {
   "codemirror_mode": {
    "name": "ipython",
    "version": 3
   },
   "file_extension": ".py",
   "mimetype": "text/x-python",
   "name": "python",
   "nbconvert_exporter": "python",
   "pygments_lexer": "ipython3",
   "version": "3.12.3"
  }
 },
 "nbformat": 4,
 "nbformat_minor": 2
}
