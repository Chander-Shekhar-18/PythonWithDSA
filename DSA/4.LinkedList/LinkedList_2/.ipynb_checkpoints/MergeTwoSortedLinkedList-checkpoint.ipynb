{
 "cells": [
  {
   "cell_type": "code",
   "execution_count": 24,
   "id": "342cdb85",
   "metadata": {},
   "outputs": [],
   "source": [
    "def mergeLinkedList(head1, head2):\n",
    "    if head1 is None:\n",
    "        return head2\n",
    "    if head2 is None:\n",
    "        return head1\n",
    "    \n",
    "    if head1.data < head2.data:\n",
    "        finalHead = head1\n",
    "        head1 = head1.next\n",
    "    else:\n",
    "        finalHead = head2\n",
    "        head2 = head2.next\n",
    "    \n",
    "    finalTail = finalHead\n",
    "    \n",
    "    while head1 and head2:\n",
    "        if head1.data < head2.data:\n",
    "            finalTail.next = head1\n",
    "            head1 = head1.next\n",
    "        else:\n",
    "            finalTail.next = head2\n",
    "            head2 = head2.next\n",
    "        finalTail = finalTail.next\n",
    "\n",
    "                \n",
    "    if head1 is not None:\n",
    "        finalTail.next = head1\n",
    "    else:\n",
    "        finalTail.next = head2\n",
    "        \n",
    "    return finalHead"
   ]
  },
  {
   "cell_type": "code",
   "execution_count": 4,
   "id": "247f0022",
   "metadata": {},
   "outputs": [],
   "source": [
    "class Node:\n",
    "    def __init__(self, data):\n",
    "        self.data = data\n",
    "        self.next = None\n",
    "    \n",
    "def takeInput():\n",
    "    inputList = [int(ele) for ele in input().split()]\n",
    "\n",
    "    head = None\n",
    "    tail = None\n",
    "\n",
    "    for currData in inputList:\n",
    "        if currData == -1:\n",
    "            break\n",
    "        \n",
    "        newNode = Node(currData)\n",
    "\n",
    "        if head is None:\n",
    "            head = newNode\n",
    "            tail = newNode\n",
    "        else:\n",
    "            tail.next = newNode\n",
    "            tail = newNode\n",
    "    return head\n",
    "\n",
    "def printLinkedList(head):\n",
    "    while head:\n",
    "        print(head.data, end = '->')\n",
    "        head = head.next\n",
    "    print('None')"
   ]
  },
  {
   "cell_type": "code",
   "execution_count": 26,
   "id": "84b5dd77",
   "metadata": {},
   "outputs": [
    {
     "name": "stdout",
     "output_type": "stream",
     "text": [
      "1 3 5 7 9 \n",
      "1->3->5->7->9->None\n",
      "2 4 6 8\n",
      "2->4->6->8->None\n",
      "1->2->3->4->5->6->7->8->9->None\n"
     ]
    }
   ],
   "source": [
    "head1 = takeInput()\n",
    "printLinkedList(head1)\n",
    "head2 = takeInput()\n",
    "printLinkedList(head2)\n",
    "finalHead = mergeLinkedList(head1, head2)\n",
    "printLinkedList(finalHead)"
   ]
  }
 ],
 "metadata": {
  "kernelspec": {
   "display_name": "Python 3 (ipykernel)",
   "language": "python",
   "name": "python3"
  },
  "language_info": {
   "codemirror_mode": {
    "name": "ipython",
    "version": 3
   },
   "file_extension": ".py",
   "mimetype": "text/x-python",
   "name": "python",
   "nbconvert_exporter": "python",
   "pygments_lexer": "ipython3",
   "version": "3.12.3"
  }
 },
 "nbformat": 4,
 "nbformat_minor": 5
}
