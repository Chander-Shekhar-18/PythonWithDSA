{
 "cells": [
  {
   "cell_type": "code",
   "execution_count": null,
   "id": "4e84ab42",
   "metadata": {},
   "outputs": [],
   "source": [
    "def eleminateDuplicate(head):\n",
    "    curr = head\n",
    "    while curr and curr.next:\n",
    "        if curr.data == curr.next.data:\n",
    "            curr.next = curr.next.next\n",
    "        else:\n",
    "            curr = curr.next\n",
    "    return head"
   ]
  }
 ],
 "metadata": {
  "kernelspec": {
   "display_name": "Python 3 (ipykernel)",
   "language": "python",
   "name": "python3"
  },
  "language_info": {
   "codemirror_mode": {
    "name": "ipython",
    "version": 3
   },
   "file_extension": ".py",
   "mimetype": "text/x-python",
   "name": "python",
   "nbconvert_exporter": "python",
   "pygments_lexer": "ipython3",
   "version": "3.12.3"
  }
 },
 "nbformat": 4,
 "nbformat_minor": 5
}
