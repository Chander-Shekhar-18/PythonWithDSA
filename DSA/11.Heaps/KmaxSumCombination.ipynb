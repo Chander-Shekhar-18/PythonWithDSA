{
 "cells": [
  {
   "cell_type": "code",
   "execution_count": 2,
   "metadata": {},
   "outputs": [],
   "source": [
    "import heapq"
   ]
  },
  {
   "cell_type": "code",
   "execution_count": 7,
   "metadata": {},
   "outputs": [],
   "source": [
    "def sumCombination(arr1, arr2, k):\n",
    "    ans = []\n",
    "    for i in arr1:\n",
    "        for j in arr2:\n",
    "            ans.append(-(i + j))\n",
    "    \n",
    "    heapq.heapify(ans)\n",
    "\n",
    "    ans2 = []\n",
    "\n",
    "    for i in range(k):\n",
    "        ans2.append(-(heapq.heappop(ans)))\n",
    "    return ans2"
   ]
  },
  {
   "cell_type": "code",
   "execution_count": 8,
   "metadata": {},
   "outputs": [
    {
     "name": "stdout",
     "output_type": "stream",
     "text": [
      "[7, 5]\n"
     ]
    }
   ],
   "source": [
    "arr1 = [1, 3]\n",
    "arr2 = [4, 2]\n",
    "print(sumCombination(arr1, arr2, 2))"
   ]
  }
 ],
 "metadata": {
  "kernelspec": {
   "display_name": "Python 3",
   "language": "python",
   "name": "python3"
  },
  "language_info": {
   "codemirror_mode": {
    "name": "ipython",
    "version": 3
   },
   "file_extension": ".py",
   "mimetype": "text/x-python",
   "name": "python",
   "nbconvert_exporter": "python",
   "pygments_lexer": "ipython3",
   "version": "3.12.3"
  }
 },
 "nbformat": 4,
 "nbformat_minor": 2
}
