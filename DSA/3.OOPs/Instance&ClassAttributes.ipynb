{
 "cells": [
  {
   "cell_type": "code",
   "execution_count": 3,
   "metadata": {},
   "outputs": [
    {
     "name": "stdout",
     "output_type": "stream",
     "text": [
      "{'color': 'Red', 'model': 'SUV'}\n"
     ]
    }
   ],
   "source": [
    "# Instance Attribute\n",
    "class Car:\n",
    "    def __init__(self, color, model) -> None:\n",
    "        self.color = color\n",
    "        self.model = model\n",
    "\n",
    "myCar = Car('Red', 'SUV')\n",
    "print(myCar.__dict__)"
   ]
  },
  {
   "cell_type": "code",
   "execution_count": 11,
   "metadata": {},
   "outputs": [
    {
     "name": "stdout",
     "output_type": "stream",
     "text": [
      "4\n",
      "Breaks\n"
     ]
    }
   ],
   "source": [
    "# Class Attribute\n",
    "\n",
    "class Vehicle:\n",
    "    stoppingMechanism = 'Breaks'\n",
    "\n",
    "    def __init__(self, numberOfWheels) -> None:\n",
    "        self.numberOfWheels = numberOfWheels\n",
    "    \n",
    "car = Vehicle(4)\n",
    "\n",
    "print(car.numberOfWheels)\n",
    "print(Vehicle.stoppingMechanism)"
   ]
  }
 ],
 "metadata": {
  "kernelspec": {
   "display_name": "Python 3",
   "language": "python",
   "name": "python3"
  },
  "language_info": {
   "codemirror_mode": {
    "name": "ipython",
    "version": 3
   },
   "file_extension": ".py",
   "mimetype": "text/x-python",
   "name": "python",
   "nbconvert_exporter": "python",
   "pygments_lexer": "ipython3",
   "version": "3.12.3"
  }
 },
 "nbformat": 4,
 "nbformat_minor": 2
}
