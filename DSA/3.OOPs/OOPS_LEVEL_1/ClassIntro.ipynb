{
 "cells": [
  {
   "cell_type": "code",
   "execution_count": 3,
   "metadata": {},
   "outputs": [],
   "source": [
    "class Student:\n",
    "    def __init__(self) -> None:\n",
    "        self.name = ''\n",
    "        self.age = ''\n",
    "        self.marks = []\n",
    "        self.address = ''\n",
    "\n",
    "    def setName(self, name):\n",
    "        self.name = name\n",
    "    \n",
    "    def setAge(self, age):\n",
    "        self.age = age\n",
    "    \n",
    "    def setMarks(self, marks):\n",
    "        self.marks.append(marks)\n",
    "\n",
    "    def setAddress(self, address):\n",
    "        self.address = address\n",
    "    \n",
    "    def calculateAverage(self):\n",
    "        total = 0\n",
    "        for i in self.marks:\n",
    "            total += i\n",
    "        return total / len(self.marks)"
   ]
  },
  {
   "cell_type": "code",
   "execution_count": 18,
   "metadata": {},
   "outputs": [
    {
     "name": "stdout",
     "output_type": "stream",
     "text": [
      "Name of the student is : ChanderShekhar\n",
      "Age of the student is : 23\n",
      "Marks of the student are : [78, 82, 93]\n",
      "Average marks of the student is : 84.33333333333333\n",
      "Address of the student : JaiVihar\n",
      "\n",
      "{'name': 'ChanderShekhar', 'age': 23, 'marks': [78, 82, 93], 'address': 'JaiVihar'}\n"
     ]
    }
   ],
   "source": [
    "chander = Student()\n",
    "chander.name = 'ChanderShekhar'\n",
    "chander.age = 23\n",
    "chander.marks = [78,82,93]\n",
    "chander.address = 'JaiVihar'\n",
    "\n",
    "\n",
    "print('Name of the student is : ' + chander.name)\n",
    "print('Age of the student is :' , chander.age)\n",
    "print('Marks of the student are :' , chander.marks)\n",
    "print('Average marks of the student is :', chander.calculateAverage())\n",
    "print('Address of the student :', chander.address)\n",
    "\n",
    "print()\n",
    "\n",
    "print(chander.__dict__)"
   ]
  }
 ],
 "metadata": {
  "kernelspec": {
   "display_name": "Python 3",
   "language": "python",
   "name": "python3"
  },
  "language_info": {
   "codemirror_mode": {
    "name": "ipython",
    "version": 3
   },
   "file_extension": ".py",
   "mimetype": "text/x-python",
   "name": "python",
   "nbconvert_exporter": "python",
   "pygments_lexer": "ipython3",
   "version": "3.12.3"
  }
 },
 "nbformat": 4,
 "nbformat_minor": 2
}
