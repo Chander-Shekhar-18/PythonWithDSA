{
 "cells": [
  {
   "cell_type": "code",
   "execution_count": 4,
   "metadata": {},
   "outputs": [
    {
     "name": "stdout",
     "output_type": "stream",
     "text": [
      "Zero division error !!!\n",
      "Hello\n"
     ]
    }
   ],
   "source": [
    "try:\n",
    "    a = [1,2,3,0]\n",
    "    res = a[2] / a[3]\n",
    "except IndexError:\n",
    "    print('Index out of range error !!!')\n",
    "except ZeroDivisionError:\n",
    "    print('Zero division error !!!')\n",
    "\n",
    "print('Hello')"
   ]
  },
  {
   "cell_type": "code",
   "execution_count": 5,
   "metadata": {},
   "outputs": [
    {
     "name": "stdout",
     "output_type": "stream",
     "text": [
      "Index out of range error !!!\n",
      "Hello\n"
     ]
    }
   ],
   "source": [
    "try:\n",
    "    a = [1,2,3,0]\n",
    "    res = a[123] / a[3]\n",
    "except IndexError:\n",
    "    print('Index out of range error !!!')\n",
    "except ZeroDivisionError:\n",
    "    print('Zero division error !!!')\n",
    "\n",
    "print('Hello')"
   ]
  }
 ],
 "metadata": {
  "kernelspec": {
   "display_name": "Python 3",
   "language": "python",
   "name": "python3"
  },
  "language_info": {
   "codemirror_mode": {
    "name": "ipython",
    "version": 3
   },
   "file_extension": ".py",
   "mimetype": "text/x-python",
   "name": "python",
   "nbconvert_exporter": "python",
   "pygments_lexer": "ipython3",
   "version": "3.12.3"
  }
 },
 "nbformat": 4,
 "nbformat_minor": 2
}
