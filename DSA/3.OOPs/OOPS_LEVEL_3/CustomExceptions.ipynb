{
 "cells": [
  {
   "cell_type": "code",
   "execution_count": 1,
   "metadata": {},
   "outputs": [],
   "source": [
    "class CustomException(Exception):\n",
    "    pass"
   ]
  },
  {
   "cell_type": "code",
   "execution_count": 6,
   "metadata": {},
   "outputs": [
    {
     "name": "stdout",
     "output_type": "stream",
     "text": [
      "Invalid Input : Expected input is int\n"
     ]
    }
   ],
   "source": [
    "def ValidateInput(value):\n",
    "    if not isinstance(value, int):\n",
    "        raise CustomException('Invalid Input : Expected input is int')\n",
    "    else:\n",
    "        print(value)\n",
    "        \n",
    "try:\n",
    "    ValidateInput('a')\n",
    "except CustomException as e:\n",
    "    print(e)"
   ]
  },
  {
   "cell_type": "code",
   "execution_count": 5,
   "metadata": {},
   "outputs": [
    {
     "name": "stdout",
     "output_type": "stream",
     "text": [
      "5\n"
     ]
    }
   ],
   "source": [
    "def ValidateInput(value):\n",
    "    if not isinstance(value, int):\n",
    "        raise CustomException('Invalid Input : Expected input is int')\n",
    "    else:\n",
    "        print(value)\n",
    "        \n",
    "try:\n",
    "    ValidateInput(5)\n",
    "except CustomException as e:\n",
    "    print(e)"
   ]
  }
 ],
 "metadata": {
  "kernelspec": {
   "display_name": "Python 3",
   "language": "python",
   "name": "python3"
  },
  "language_info": {
   "codemirror_mode": {
    "name": "ipython",
    "version": 3
   },
   "file_extension": ".py",
   "mimetype": "text/x-python",
   "name": "python",
   "nbconvert_exporter": "python",
   "pygments_lexer": "ipython3",
   "version": "3.12.3"
  }
 },
 "nbformat": 4,
 "nbformat_minor": 2
}
