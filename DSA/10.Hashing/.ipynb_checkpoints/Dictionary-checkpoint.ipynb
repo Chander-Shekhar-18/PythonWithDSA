{
 "cells": [
  {
   "cell_type": "code",
   "execution_count": 4,
   "id": "cf952688",
   "metadata": {},
   "outputs": [
    {
     "name": "stdout",
     "output_type": "stream",
     "text": [
      "Dict 1 : {'Chander': 100, 'Shekhar': 99, 'Harish': 98, 'Saurav': 97}\n",
      "Dict 2 : {'Chander': 100, 'Shekhar': 99, 'Harish': 98, 'Saurav': 97}\n",
      "Dict 3 : {'Chander': 100, 'Shekhar': 99, 'Harish': 98, 'Saurav': 97}\n"
     ]
    }
   ],
   "source": [
    "# Different ways to create a dictionary\n",
    "\n",
    "# 1\n",
    "tempDict = ({\n",
    "    'Chander' : 100,\n",
    "    'Shekhar' : 99,\n",
    "    'Harish' : 98,\n",
    "    'Saurav' : 97\n",
    "})\n",
    "print('Dict 1 :' , tempDict)\n",
    "\n",
    "# 2\n",
    "tempDict2 = dict([\n",
    "    ('Chander', 100),\n",
    "    ('Shekhar', 99),\n",
    "    ('Harish', 98),\n",
    "    ('Saurav', 97)\n",
    "])\n",
    "print('Dict 2 :', tempDict2)\n",
    "\n",
    "# 3\n",
    "tempDict3 = {\n",
    "    'Chander' : 100,\n",
    "    'Shekhar' : 99,\n",
    "    'Harish' : 98,\n",
    "    'Saurav' : 97\n",
    "}\n",
    "print('Dict 3 :', tempDict3)"
   ]
  },
  {
   "cell_type": "code",
   "execution_count": 15,
   "id": "ccf0c71f",
   "metadata": {},
   "outputs": [
    {
     "name": "stdout",
     "output_type": "stream",
     "text": [
      "{'Chander': 500, 'Shekhar': 99, 'Harish': 98, 'Saurav': 97}\n",
      "{'Chander': 500, 'Shekhar': 99, 'Harish': 98, 'Saurav': 97}\n",
      "True\n",
      "\n",
      "{'Chander': 300, 'Shekhar': 99, 'Harish': 98, 'Saurav': 97}\n",
      "{'Chander': 500, 'Shekhar': 99, 'Harish': 98, 'Saurav': 97}\n",
      "False\n"
     ]
    }
   ],
   "source": [
    "# copy of dictionary\n",
    "\n",
    "# It will change the values in both dictionaries\n",
    "a = tempDict\n",
    "a['Chander'] = 500\n",
    "print(a)\n",
    "print(tempDict)\n",
    "print(id(a) == id(tempDict))\n",
    "\n",
    "print()\n",
    "\n",
    "# To avoid above problem, we use copy() method\n",
    "b = tempDict.copy()\n",
    "b['Chander'] = 300\n",
    "print(b)\n",
    "print(tempDict)\n",
    "print(id(b) == id(tempDict))"
   ]
  },
  {
   "cell_type": "code",
   "execution_count": 10,
   "id": "9f69ca27",
   "metadata": {},
   "outputs": [
    {
     "name": "stdout",
     "output_type": "stream",
     "text": [
      "{'A': 0, 'B': 0, 'C': 0, 'D': 0}\n"
     ]
    }
   ],
   "source": [
    "# Assigning default values to the key\n",
    "keys = ['A', 'B', 'C', 'D']\n",
    "val = dict.fromkeys(keys, 0)\n",
    "print(val)"
   ]
  },
  {
   "cell_type": "code",
   "execution_count": 4,
   "id": "75ef8e3d",
   "metadata": {},
   "outputs": [
    {
     "name": "stdout",
     "output_type": "stream",
     "text": [
      "99\n",
      "None\n",
      "100\n"
     ]
    },
    {
     "ename": "KeyError",
     "evalue": "'Chand'",
     "output_type": "error",
     "traceback": [
      "\u001b[0;31m---------------------------------------------------------------------------\u001b[0m",
      "\u001b[0;31mKeyError\u001b[0m                                  Traceback (most recent call last)",
      "Cell \u001b[0;32mIn[4], line 15\u001b[0m\n\u001b[1;32m     13\u001b[0m \u001b[38;5;66;03m# method 2 : array method\u001b[39;00m\n\u001b[1;32m     14\u001b[0m \u001b[38;5;28mprint\u001b[39m(student[\u001b[38;5;124m'\u001b[39m\u001b[38;5;124mChander\u001b[39m\u001b[38;5;124m'\u001b[39m])\n\u001b[0;32m---> 15\u001b[0m \u001b[38;5;28mprint\u001b[39m(\u001b[43mstudent\u001b[49m\u001b[43m[\u001b[49m\u001b[38;5;124;43m'\u001b[39;49m\u001b[38;5;124;43mChand\u001b[39;49m\u001b[38;5;124;43m'\u001b[39;49m\u001b[43m]\u001b[49m)\n\u001b[1;32m     17\u001b[0m \u001b[38;5;124;03m'''\u001b[39;00m\n\u001b[1;32m     18\u001b[0m \u001b[38;5;124;03mMain\u001b[39;00m\n\u001b[1;32m     19\u001b[0m \u001b[38;5;124;03m'''\u001b[39;00m\n",
      "\u001b[0;31mKeyError\u001b[0m: 'Chand'"
     ]
    }
   ],
   "source": [
    "# Accessing Element in a dictionary\n",
    "student = {\n",
    "    'Chander' : 100,\n",
    "    'Shekhar' : 99,\n",
    "    'Harish' : 98,\n",
    "    'Saurav' : 97\n",
    "}\n",
    "\n",
    "# method 1 : dot method\n",
    "print(student.get('Shekhar'))\n",
    "print(student.get('Chand'))\n",
    "\n",
    "# method 2 : array method\n",
    "print(student['Chander'])\n",
    "print(student['Chand'])\n",
    "\n",
    "'''\n",
    "Main difference between these two is that dot method returns None when it does not find a value but array method\n",
    "give KeyError\n",
    "'''"
   ]
  },
  {
   "cell_type": "code",
   "execution_count": 7,
   "id": "e5fe9e1b",
   "metadata": {},
   "outputs": [
    {
     "name": "stdout",
     "output_type": "stream",
     "text": [
      "0\n"
     ]
    }
   ],
   "source": [
    "# Default value\n",
    "print(student.get('Chand', 0))"
   ]
  },
  {
   "cell_type": "code",
   "execution_count": 9,
   "id": "f7b9484b",
   "metadata": {},
   "outputs": [
    {
     "name": "stdout",
     "output_type": "stream",
     "text": [
      "Enter the student name whose marks you want to get :Chander\n",
      "100\n",
      "Enter the student name whose marks you want to get :Chand\n",
      "Student Does Not Exist !!!\n"
     ]
    }
   ],
   "source": [
    "# Taking key input\n",
    "key = input('Enter the student name whose marks you want to get :')\n",
    "print(student.get(key, 'Student Does Not Exist !!!'))\n",
    "\n",
    "key = input('Enter the student name whose marks you want to get :')\n",
    "print(student.get(key, 'Student Does Not Exist !!!'))"
   ]
  },
  {
   "cell_type": "code",
   "execution_count": 13,
   "id": "913796a7",
   "metadata": {},
   "outputs": [
    {
     "name": "stdout",
     "output_type": "stream",
     "text": [
      "dict_keys(['Chander', 'Shekhar', 'Harish', 'Saurav'])\n",
      "Student ->  Chander\n",
      "Student ->  Shekhar\n",
      "Student ->  Harish\n",
      "Student ->  Saurav\n",
      "\n",
      "Chander\n",
      "Shekhar\n",
      "Harish\n",
      "Saurav\n"
     ]
    }
   ],
   "source": [
    "# Accessing keys\n",
    "print(student.keys()) #It will return a lsit of keys\n",
    "\n",
    "# iterating over keys\n",
    "keys = student.keys()\n",
    "for key in keys:\n",
    "    print('Student -> ', key)\n",
    "    \n",
    "print()\n",
    "\n",
    "# Iterating over keys directly on dictionary\n",
    "for key in student:\n",
    "    print(key)"
   ]
  },
  {
   "cell_type": "code",
   "execution_count": 15,
   "id": "cf3e6028",
   "metadata": {},
   "outputs": [
    {
     "name": "stdout",
     "output_type": "stream",
     "text": [
      "dict_values([100, 99, 98, 97])\n",
      "\n",
      "dict_items([('Chander', 100), ('Shekhar', 99), ('Harish', 98), ('Saurav', 97)])\n"
     ]
    }
   ],
   "source": [
    "# Accessing values\n",
    "\n",
    "print(student.values()) # It will return a list of values\n",
    "\n",
    "print()\n",
    "\n",
    "print(student.items()) # It will return a list of tuple"
   ]
  },
  {
   "cell_type": "code",
   "execution_count": 18,
   "id": "e65cd854",
   "metadata": {},
   "outputs": [
    {
     "name": "stdout",
     "output_type": "stream",
     "text": [
      "{'Chander': 100, 'Shekhar': 99, 'Harish': 98, 'Saurav': 97, 'Bittu': 56}\n",
      "{'Chander': 100, 'Shekhar': 99, 'Harish': 98, 'Saurav': 97, 'Bittu': 96}\n"
     ]
    }
   ],
   "source": [
    "# Add or update in a dictionary : .update() this is used for both add and update\n",
    "\n",
    "student.update([('Bittu', 56)])\n",
    "print(student)\n",
    "\n",
    "student.update([('Bittu', 96)])\n",
    "print(student)"
   ]
  },
  {
   "cell_type": "code",
   "execution_count": 19,
   "id": "6282429e",
   "metadata": {},
   "outputs": [
    {
     "name": "stdout",
     "output_type": "stream",
     "text": [
      "{'Chander': 100, 'Shekhar': 99, 'Harish': 98, 'Saurav': 97}\n",
      "{'Shekhar': 99, 'Harish': 98, 'Saurav': 97}\n"
     ]
    }
   ],
   "source": [
    "# deleting a key in a dictionary\n",
    "\n",
    "# method 1 : array method\n",
    "student.pop('Bittu')\n",
    "print(student)\n",
    "\n",
    "# method 2 : del keyword\n",
    "del(student['Chander'])\n",
    "print(student)"
   ]
  },
  {
   "cell_type": "code",
   "execution_count": 20,
   "id": "77dcb6d6",
   "metadata": {},
   "outputs": [
    {
     "name": "stdout",
     "output_type": "stream",
     "text": [
      "{}\n"
     ]
    }
   ],
   "source": [
    "# Clear a dictionary\n",
    "\n",
    "temp = {\n",
    "    'Chander' : 100,\n",
    "    'Shekhar' : 99,\n",
    "    'Harish' : 98,\n",
    "    'Saurav' : 97\n",
    "}\n",
    "\n",
    "temp.clear()\n",
    "\n",
    "print(temp)"
   ]
  }
 ],
 "metadata": {
  "kernelspec": {
   "display_name": "Python 3 (ipykernel)",
   "language": "python",
   "name": "python3"
  },
  "language_info": {
   "codemirror_mode": {
    "name": "ipython",
    "version": 3
   },
   "file_extension": ".py",
   "mimetype": "text/x-python",
   "name": "python",
   "nbconvert_exporter": "python",
   "pygments_lexer": "ipython3",
   "version": "3.12.3"
  }
 },
 "nbformat": 4,
 "nbformat_minor": 5
}
