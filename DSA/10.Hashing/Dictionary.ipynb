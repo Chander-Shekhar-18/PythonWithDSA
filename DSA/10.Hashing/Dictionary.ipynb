{
 "cells": [
  {
   "cell_type": "code",
   "execution_count": 4,
   "id": "cf952688",
   "metadata": {},
   "outputs": [
    {
     "name": "stdout",
     "output_type": "stream",
     "text": [
      "Dict 1 : {'Chander': 100, 'Shekhar': 99, 'Harish': 98, 'Saurav': 97}\n",
      "Dict 2 : {'Chander': 100, 'Shekhar': 99, 'Harish': 98, 'Saurav': 97}\n",
      "Dict 3 : {'Chander': 100, 'Shekhar': 99, 'Harish': 98, 'Saurav': 97}\n"
     ]
    }
   ],
   "source": [
    "# Different ways to create a dictionary\n",
    "\n",
    "# 1\n",
    "tempDict = ({\n",
    "    'Chander' : 100,\n",
    "    'Shekhar' : 99,\n",
    "    'Harish' : 98,\n",
    "    'Saurav' : 97\n",
    "})\n",
    "print('Dict 1 :' , tempDict)\n",
    "\n",
    "# 2\n",
    "tempDict2 = dict([\n",
    "    ('Chander', 100),\n",
    "    ('Shekhar', 99),\n",
    "    ('Harish', 98),\n",
    "    ('Saurav', 97)\n",
    "])\n",
    "print('Dict 2 :', tempDict2)\n",
    "\n",
    "# 3\n",
    "tempDict3 = {\n",
    "    'Chander' : 100,\n",
    "    'Shekhar' : 99,\n",
    "    'Harish' : 98,\n",
    "    'Saurav' : 97\n",
    "}\n",
    "print('Dict 3 :', tempDict3)"
   ]
  },
  {
   "cell_type": "code",
   "execution_count": 15,
   "id": "ccf0c71f",
   "metadata": {},
   "outputs": [
    {
     "name": "stdout",
     "output_type": "stream",
     "text": [
      "{'Chander': 500, 'Shekhar': 99, 'Harish': 98, 'Saurav': 97}\n",
      "{'Chander': 500, 'Shekhar': 99, 'Harish': 98, 'Saurav': 97}\n",
      "True\n",
      "\n",
      "{'Chander': 300, 'Shekhar': 99, 'Harish': 98, 'Saurav': 97}\n",
      "{'Chander': 500, 'Shekhar': 99, 'Harish': 98, 'Saurav': 97}\n",
      "False\n"
     ]
    }
   ],
   "source": [
    "# copy of dictionary\n",
    "\n",
    "# It will change the values in both dictionaries\n",
    "a = tempDict\n",
    "a['Chander'] = 500\n",
    "print(a)\n",
    "print(tempDict)\n",
    "print(id(a) == id(tempDict))\n",
    "\n",
    "print()\n",
    "\n",
    "# To avoid above problem, we use copy() method\n",
    "b = tempDict.copy()\n",
    "b['Chander'] = 300\n",
    "print(b)\n",
    "print(tempDict)\n",
    "print(id(b) == id(tempDict))"
   ]
  },
  {
   "cell_type": "code",
   "execution_count": 10,
   "id": "9f69ca27",
   "metadata": {},
   "outputs": [
    {
     "name": "stdout",
     "output_type": "stream",
     "text": [
      "{'A': 0, 'B': 0, 'C': 0, 'D': 0}\n"
     ]
    }
   ],
   "source": [
    "# Assigning default values to the key\n",
    "keys = ['A', 'B', 'C', 'D']\n",
    "val = dict.fromkeys(keys, 0)\n",
    "print(val)"
   ]
  },
  {
   "cell_type": "code",
   "execution_count": null,
   "id": "75ef8e3d",
   "metadata": {},
   "outputs": [],
   "source": [
    "# Accessing Element"
   ]
  },
  {
   "cell_type": "code",
   "execution_count": null,
   "id": "e5fe9e1b",
   "metadata": {},
   "outputs": [],
   "source": []
  },
  {
   "cell_type": "code",
   "execution_count": null,
   "id": "f7b9484b",
   "metadata": {},
   "outputs": [],
   "source": []
  },
  {
   "cell_type": "code",
   "execution_count": null,
   "id": "913796a7",
   "metadata": {},
   "outputs": [],
   "source": []
  },
  {
   "cell_type": "code",
   "execution_count": null,
   "id": "cf3e6028",
   "metadata": {},
   "outputs": [],
   "source": []
  },
  {
   "cell_type": "code",
   "execution_count": null,
   "id": "e65cd854",
   "metadata": {},
   "outputs": [],
   "source": []
  },
  {
   "cell_type": "code",
   "execution_count": null,
   "id": "6282429e",
   "metadata": {},
   "outputs": [],
   "source": []
  },
  {
   "cell_type": "code",
   "execution_count": null,
   "id": "77dcb6d6",
   "metadata": {},
   "outputs": [],
   "source": []
  },
  {
   "cell_type": "code",
   "execution_count": null,
   "id": "1aa853ff",
   "metadata": {},
   "outputs": [],
   "source": []
  },
  {
   "cell_type": "code",
   "execution_count": null,
   "id": "dfbd7125",
   "metadata": {},
   "outputs": [],
   "source": []
  },
  {
   "cell_type": "code",
   "execution_count": null,
   "id": "16d0ebac",
   "metadata": {},
   "outputs": [],
   "source": []
  },
  {
   "cell_type": "code",
   "execution_count": null,
   "id": "db37b793",
   "metadata": {},
   "outputs": [],
   "source": []
  },
  {
   "cell_type": "code",
   "execution_count": null,
   "id": "a73117c6",
   "metadata": {},
   "outputs": [],
   "source": []
  },
  {
   "cell_type": "code",
   "execution_count": null,
   "id": "c0c43157",
   "metadata": {},
   "outputs": [],
   "source": []
  },
  {
   "cell_type": "code",
   "execution_count": null,
   "id": "51812b4e",
   "metadata": {},
   "outputs": [],
   "source": []
  },
  {
   "cell_type": "code",
   "execution_count": null,
   "id": "397af178",
   "metadata": {},
   "outputs": [],
   "source": []
  },
  {
   "cell_type": "code",
   "execution_count": null,
   "id": "3e3b9155",
   "metadata": {},
   "outputs": [],
   "source": []
  },
  {
   "cell_type": "code",
   "execution_count": null,
   "id": "88fdc7a4",
   "metadata": {},
   "outputs": [],
   "source": []
  },
  {
   "cell_type": "code",
   "execution_count": null,
   "id": "e891ae59",
   "metadata": {},
   "outputs": [],
   "source": []
  },
  {
   "cell_type": "code",
   "execution_count": null,
   "id": "86ad89dd",
   "metadata": {},
   "outputs": [],
   "source": []
  },
  {
   "cell_type": "code",
   "execution_count": null,
   "id": "5b8907bf",
   "metadata": {},
   "outputs": [],
   "source": []
  },
  {
   "cell_type": "code",
   "execution_count": null,
   "id": "53600b69",
   "metadata": {},
   "outputs": [],
   "source": []
  },
  {
   "cell_type": "code",
   "execution_count": null,
   "id": "a7397cf1",
   "metadata": {},
   "outputs": [],
   "source": []
  },
  {
   "cell_type": "code",
   "execution_count": null,
   "id": "e1ff220b",
   "metadata": {},
   "outputs": [],
   "source": []
  },
  {
   "cell_type": "code",
   "execution_count": null,
   "id": "7f0e6cdb",
   "metadata": {},
   "outputs": [],
   "source": []
  },
  {
   "cell_type": "code",
   "execution_count": null,
   "id": "ccfe8010",
   "metadata": {},
   "outputs": [],
   "source": []
  },
  {
   "cell_type": "code",
   "execution_count": null,
   "id": "dfd30bb7",
   "metadata": {},
   "outputs": [],
   "source": []
  },
  {
   "cell_type": "code",
   "execution_count": null,
   "id": "4ca1e25a",
   "metadata": {},
   "outputs": [],
   "source": []
  },
  {
   "cell_type": "code",
   "execution_count": null,
   "id": "33f80f25",
   "metadata": {},
   "outputs": [],
   "source": []
  },
  {
   "cell_type": "code",
   "execution_count": null,
   "id": "9fd0185a",
   "metadata": {},
   "outputs": [],
   "source": []
  },
  {
   "cell_type": "code",
   "execution_count": null,
   "id": "858d3804",
   "metadata": {},
   "outputs": [],
   "source": []
  },
  {
   "cell_type": "code",
   "execution_count": null,
   "id": "3307f769",
   "metadata": {},
   "outputs": [],
   "source": []
  },
  {
   "cell_type": "code",
   "execution_count": null,
   "id": "cc946281",
   "metadata": {},
   "outputs": [],
   "source": []
  },
  {
   "cell_type": "code",
   "execution_count": null,
   "id": "c57dad84",
   "metadata": {},
   "outputs": [],
   "source": []
  },
  {
   "cell_type": "code",
   "execution_count": null,
   "id": "9985925f",
   "metadata": {},
   "outputs": [],
   "source": []
  },
  {
   "cell_type": "code",
   "execution_count": null,
   "id": "fe0b42df",
   "metadata": {},
   "outputs": [],
   "source": []
  },
  {
   "cell_type": "code",
   "execution_count": null,
   "id": "173e6ebe",
   "metadata": {},
   "outputs": [],
   "source": []
  },
  {
   "cell_type": "code",
   "execution_count": null,
   "id": "53c72d97",
   "metadata": {},
   "outputs": [],
   "source": []
  },
  {
   "cell_type": "code",
   "execution_count": null,
   "id": "57332b1e",
   "metadata": {},
   "outputs": [],
   "source": []
  },
  {
   "cell_type": "code",
   "execution_count": null,
   "id": "c0a4549a",
   "metadata": {},
   "outputs": [],
   "source": []
  }
 ],
 "metadata": {
  "kernelspec": {
   "display_name": "Python 3 (ipykernel)",
   "language": "python",
   "name": "python3"
  },
  "language_info": {
   "codemirror_mode": {
    "name": "ipython",
    "version": 3
   },
   "file_extension": ".py",
   "mimetype": "text/x-python",
   "name": "python",
   "nbconvert_exporter": "python",
   "pygments_lexer": "ipython3",
   "version": "3.12.3"
  }
 },
 "nbformat": 4,
 "nbformat_minor": 5
}
