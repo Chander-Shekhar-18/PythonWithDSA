{
 "cells": [
  {
   "cell_type": "code",
   "execution_count": 4,
   "metadata": {},
   "outputs": [
    {
     "name": "stdout",
     "output_type": "stream",
     "text": [
      "5\n"
     ]
    }
   ],
   "source": [
    "def find_last(arr, num, index=-1):\n",
    "    if index == -len(arr) - 1:\n",
    "        return -1\n",
    "    \n",
    "    if arr[index] == num:\n",
    "        return len(arr) + index\n",
    "    \n",
    "    return find_last(arr, num, index - 1)\n",
    "\n",
    "\n",
    "arr = [1, 2, 3, 2, 4, 2, 5]\n",
    "num = 2\n",
    "print(find_last(arr, num))  # Output: 5\n"
   ]
  }
 ],
 "metadata": {
  "kernelspec": {
   "display_name": "Python 3",
   "language": "python",
   "name": "python3"
  },
  "language_info": {
   "codemirror_mode": {
    "name": "ipython",
    "version": 3
   },
   "file_extension": ".py",
   "mimetype": "text/x-python",
   "name": "python",
   "nbconvert_exporter": "python",
   "pygments_lexer": "ipython3",
   "version": "3.12.3"
  }
 },
 "nbformat": 4,
 "nbformat_minor": 2
}
