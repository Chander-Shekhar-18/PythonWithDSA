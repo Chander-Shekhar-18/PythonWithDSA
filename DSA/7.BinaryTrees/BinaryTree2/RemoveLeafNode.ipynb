{
 "cells": [
  {
   "cell_type": "code",
   "execution_count": 10,
   "metadata": {},
   "outputs": [],
   "source": [
    "class BinaryTree:\n",
    "    def __init__(self, data):\n",
    "        self.data = data\n",
    "        self.left = None\n",
    "        self.right = None\n",
    "\n",
    "root = BinaryTree(1)\n",
    "root.left = BinaryTree(2)\n",
    "root.right = BinaryTree(3)\n",
    "root.left.left = BinaryTree(4)\n",
    "root.left.right = BinaryTree(50)\n",
    "root.right.left = BinaryTree(6)\n",
    "root.right.right = BinaryTree(7)"
   ]
  },
  {
   "cell_type": "code",
   "execution_count": 11,
   "metadata": {},
   "outputs": [],
   "source": [
    "def deleteLeaf(root):\n",
    "    if root is None:\n",
    "        return None\n",
    "    \n",
    "    if root.left is None and root.right is None:\n",
    "        return None\n",
    "    \n",
    "    root.left = deleteLeaf(root.left)\n",
    "    root.right = deleteLeaf(root.right)\n",
    "\n",
    "    return root"
   ]
  },
  {
   "cell_type": "code",
   "execution_count": 12,
   "metadata": {},
   "outputs": [],
   "source": [
    "# Printing the Binary Tree\n",
    "\n",
    "def printBinaryTree(root):\n",
    "    if root == None:\n",
    "        return\n",
    "    print(root.data, end = ':')\n",
    "    if root.left != None:\n",
    "        print('L',root.left.data, end = ', ')\n",
    "    if root.right != None:\n",
    "        print('R', root.right.data, end = '')\n",
    "    print()\n",
    "    printBinaryTree(root.left)\n",
    "    printBinaryTree(root.right)"
   ]
  },
  {
   "cell_type": "code",
   "execution_count": 13,
   "metadata": {},
   "outputs": [
    {
     "name": "stdout",
     "output_type": "stream",
     "text": [
      "1:L 2, R 3\n",
      "2:L 4, R 50\n",
      "4:\n",
      "50:\n",
      "3:L 6, R 7\n",
      "6:\n",
      "7:\n",
      "\n",
      "1:L 2, R 3\n",
      "2:\n",
      "3:\n"
     ]
    }
   ],
   "source": [
    "printBinaryTree(root)\n",
    "print()\n",
    "ans = deleteLeaf(root)\n",
    "printBinaryTree(ans)"
   ]
  }
 ],
 "metadata": {
  "kernelspec": {
   "display_name": "Python 3",
   "language": "python",
   "name": "python3"
  },
  "language_info": {
   "codemirror_mode": {
    "name": "ipython",
    "version": 3
   },
   "file_extension": ".py",
   "mimetype": "text/x-python",
   "name": "python",
   "nbconvert_exporter": "python",
   "pygments_lexer": "ipython3",
   "version": "3.12.3"
  }
 },
 "nbformat": 4,
 "nbformat_minor": 2
}
