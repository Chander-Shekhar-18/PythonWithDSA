{
 "cells": [
  {
   "cell_type": "code",
   "execution_count": 2,
   "metadata": {},
   "outputs": [],
   "source": [
    "import queue"
   ]
  },
  {
   "cell_type": "code",
   "execution_count": 3,
   "metadata": {},
   "outputs": [],
   "source": [
    "class BinaryTree:\n",
    "    def __init__(self, data):\n",
    "        self.data = data\n",
    "        self.left = None\n",
    "        self.right = None"
   ]
  },
  {
   "cell_type": "code",
   "execution_count": 4,
   "metadata": {},
   "outputs": [],
   "source": [
    "def takeLevelWiseInput():\n",
    "\n",
    "    q = queue.Queue()\n",
    "    print('Enter the root :')\n",
    "    rootData = int(input())\n",
    "\n",
    "    if rootData == -1:\n",
    "        return None\n",
    "    \n",
    "    root = BinaryTree(rootData)\n",
    "    q.put(root)\n",
    "\n",
    "    while not q.empty():\n",
    "        currNode = q.get()\n",
    "\n",
    "        print(f'Enter the left child of : {currNode.data}')\n",
    "        leftChildData = int(input())\n",
    "        if leftChildData != -1:\n",
    "            leftChild = BinaryTree(leftChildData)\n",
    "            currNode.left = leftChild\n",
    "            q.put(leftChild)\n",
    "        \n",
    "        print(f'Enter the right child of : {currNode.data}')\n",
    "        rightChildData = int(input())\n",
    "        if rightChildData != -1:\n",
    "            rightChild = BinaryTree(rightChildData)\n",
    "            currNode.right = rightChild\n",
    "            q.put(rightChild)\n",
    "\n",
    "    return root"
   ]
  },
  {
   "cell_type": "code",
   "execution_count": 8,
   "metadata": {},
   "outputs": [],
   "source": [
    "def printLevelWise(root):\n",
    "    if root is None:\n",
    "        return\n",
    "    \n",
    "    q = queue.Queue()\n",
    "    q.put(root)\n",
    "\n",
    "    while not q.empty():\n",
    "        node = q.get()\n",
    "        print(node.data, end=':')\n",
    "        \n",
    "        if node.left:\n",
    "            print('L', node.left.data, end=', ')\n",
    "            q.put(node.left)\n",
    "        else:\n",
    "            print('L -', end=', ')\n",
    "        \n",
    "        if node.right:\n",
    "            print('R', node.right.data, end='')\n",
    "            q.put(node.right)\n",
    "        else:\n",
    "            print('R -', end='')\n",
    "        print()"
   ]
  },
  {
   "cell_type": "code",
   "execution_count": 9,
   "metadata": {},
   "outputs": [
    {
     "name": "stdout",
     "output_type": "stream",
     "text": [
      "Enter the root :\n",
      "1\n",
      "Enter the left child of : 1\n",
      "2\n",
      "Enter the right child of : 1\n",
      "3\n",
      "Enter the left child of : 2\n",
      "4\n",
      "Enter the right child of : 2\n",
      "5\n",
      "Enter the left child of : 3\n",
      "6\n",
      "Enter the right child of : 3\n",
      "7\n",
      "Enter the left child of : 4\n",
      "-1\n",
      "Enter the right child of : 4\n",
      "-1\n",
      "Enter the left child of : 5\n",
      "8\n",
      "Enter the right child of : 5\n",
      "-1\n",
      "Enter the left child of : 6\n",
      "-1\n",
      "Enter the right child of : 6\n",
      "-1\n",
      "Enter the left child of : 7\n",
      "-1\n",
      "Enter the right child of : 7\n",
      "-1\n",
      "Enter the left child of : 8\n",
      "-1\n",
      "Enter the right child of : 8\n",
      "-1\n",
      "Level-wise traversal of the tree:\n",
      "1:L 2, R 3\n",
      "2:L 4, R 5\n",
      "3:L 6, R 7\n",
      "4:L -, R -\n",
      "5:L 8, R -\n",
      "6:L -, R -\n",
      "7:L -, R -\n",
      "8:L -, R -\n"
     ]
    }
   ],
   "source": [
    "root = takeLevelWiseInput()\n",
    "print(\"Level-wise traversal of the tree:\")\n",
    "printLevelWise(root)"
   ]
  }
 ],
 "metadata": {
  "kernelspec": {
   "display_name": "Python 3 (ipykernel)",
   "language": "python",
   "name": "python3"
  },
  "language_info": {
   "codemirror_mode": {
    "name": "ipython",
    "version": 3
   },
   "file_extension": ".py",
   "mimetype": "text/x-python",
   "name": "python",
   "nbconvert_exporter": "python",
   "pygments_lexer": "ipython3",
   "version": "3.12.3"
  }
 },
 "nbformat": 4,
 "nbformat_minor": 2
}
