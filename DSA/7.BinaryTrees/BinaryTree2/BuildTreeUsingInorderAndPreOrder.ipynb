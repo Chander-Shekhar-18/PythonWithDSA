{
 "cells": [
  {
   "cell_type": "code",
   "execution_count": 1,
   "id": "6ad5049b",
   "metadata": {},
   "outputs": [],
   "source": [
    "class BinaryTree:\n",
    "    def __init__(self,data):\n",
    "        self.data = data\n",
    "        self.left = None\n",
    "        self.right = None"
   ]
  },
  {
   "cell_type": "code",
   "execution_count": 14,
   "id": "386df101",
   "metadata": {},
   "outputs": [],
   "source": [
    "def buildTree(preOrder, inOrder):\n",
    "    if len(preOrder) == 0:\n",
    "        return None\n",
    "    \n",
    "    rootData = preOrder[0]\n",
    "    \n",
    "    root = BinaryTree(rootData)\n",
    "    \n",
    "    rootIndexInInorder = -1\n",
    "    \n",
    "    for i in range(len(inOrder)):\n",
    "        if inOrder[i] == rootData:\n",
    "            rootIndexInInorder = i\n",
    "            \n",
    "    leftInOrder = inOrder[0 : rootIndexInInorder]\n",
    "    rightInOrder = inOrder[rootIndexInInorder + 1 : ]\n",
    "    \n",
    "    lenLeftSubTree = len(leftInOrder)\n",
    "    \n",
    "    leftPreOrder = preOrder[1 : lenLeftSubTree + 1]\n",
    "    rightPreOrder = preOrder[lenLeftSubTree + 1 : ]\n",
    "    \n",
    "    leftChild = buildTree(leftPreOrder, leftInOrder)\n",
    "    rightChild = buildTree(rightPreOrder, rightInOrder)\n",
    "    \n",
    "    root.left = leftChild\n",
    "    root.right = rightChild\n",
    "    \n",
    "    return root"
   ]
  },
  {
   "cell_type": "code",
   "execution_count": 11,
   "id": "a0e7e76c",
   "metadata": {},
   "outputs": [],
   "source": [
    "import queue\n",
    "def printLevelWise(root):\n",
    "    if root is None:\n",
    "        return\n",
    "    \n",
    "    q = queue.Queue()\n",
    "    q.put(root)\n",
    "\n",
    "    while not q.empty():\n",
    "        node = q.get()\n",
    "        print(node.data, end=':')\n",
    "        \n",
    "        if node.left:\n",
    "            print('L', node.left.data, end=', ')\n",
    "            q.put(node.left)\n",
    "        else:\n",
    "            print('L -', end=', ')\n",
    "        \n",
    "        if node.right:\n",
    "            print('R', node.right.data, end='')\n",
    "            q.put(node.right)\n",
    "        else:\n",
    "            print('R -', end='')\n",
    "        print()"
   ]
  },
  {
   "cell_type": "code",
   "execution_count": 15,
   "id": "3bf45a19",
   "metadata": {},
   "outputs": [
    {
     "name": "stdout",
     "output_type": "stream",
     "text": [
      "3:L 9, R 20\n",
      "9:L -, R -\n",
      "20:L 15, R 7\n",
      "15:L -, R -\n",
      "7:L -, R -\n"
     ]
    }
   ],
   "source": [
    "preOrder = [3, 9, 20, 15, 7]\n",
    "inOrder = [9, 3, 15, 20, 7]\n",
    "\n",
    "ans = buildTree(preOrder, inOrder)\n",
    "\n",
    "printLevelWise(ans)"
   ]
  }
 ],
 "metadata": {
  "kernelspec": {
   "display_name": "Python 3 (ipykernel)",
   "language": "python",
   "name": "python3"
  },
  "language_info": {
   "codemirror_mode": {
    "name": "ipython",
    "version": 3
   },
   "file_extension": ".py",
   "mimetype": "text/x-python",
   "name": "python",
   "nbconvert_exporter": "python",
   "pygments_lexer": "ipython3",
   "version": "3.12.3"
  }
 },
 "nbformat": 4,
 "nbformat_minor": 5
}
