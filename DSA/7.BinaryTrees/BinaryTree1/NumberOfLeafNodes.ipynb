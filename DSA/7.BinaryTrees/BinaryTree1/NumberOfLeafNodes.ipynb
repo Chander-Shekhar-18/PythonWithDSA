{
 "cells": [
  {
   "cell_type": "code",
   "execution_count": 1,
   "metadata": {},
   "outputs": [],
   "source": [
    "class BinaryTree:\n",
    "    def __init__(self, data):\n",
    "        self.data = data\n",
    "        self.left = None\n",
    "        self.right = None"
   ]
  },
  {
   "cell_type": "code",
   "execution_count": 2,
   "metadata": {},
   "outputs": [],
   "source": [
    "root = BinaryTree(1)\n",
    "root.left = BinaryTree(2)\n",
    "root.right = BinaryTree(3)\n",
    "root.left.left = BinaryTree(4)\n",
    "root.left.right = BinaryTree(50)\n",
    "root.right.left = BinaryTree(6)\n",
    "root.right.right = BinaryTree(7)"
   ]
  },
  {
   "cell_type": "code",
   "execution_count": 5,
   "metadata": {},
   "outputs": [],
   "source": [
    "def numOfLeafs(root):\n",
    "    if root is None:\n",
    "        return 0\n",
    "    \n",
    "    if root.left is None and root.right is None:\n",
    "        return 1\n",
    "    \n",
    "    leftLeafs = numOfLeafs(root.left)\n",
    "    rightLeafs = numOfLeafs(root.right)\n",
    "\n",
    "    return leftLeafs + rightLeafs"
   ]
  },
  {
   "cell_type": "code",
   "execution_count": 4,
   "metadata": {},
   "outputs": [
    {
     "data": {
      "text/plain": [
       "4"
      ]
     },
     "execution_count": 4,
     "metadata": {},
     "output_type": "execute_result"
    }
   ],
   "source": [
    "numOfLeafs(root)"
   ]
  }
 ],
 "metadata": {
  "kernelspec": {
   "display_name": "Python 3",
   "language": "python",
   "name": "python3"
  },
  "language_info": {
   "codemirror_mode": {
    "name": "ipython",
    "version": 3
   },
   "file_extension": ".py",
   "mimetype": "text/x-python",
   "name": "python",
   "nbconvert_exporter": "python",
   "pygments_lexer": "ipython3",
   "version": "3.12.3"
  }
 },
 "nbformat": 4,
 "nbformat_minor": 2
}
