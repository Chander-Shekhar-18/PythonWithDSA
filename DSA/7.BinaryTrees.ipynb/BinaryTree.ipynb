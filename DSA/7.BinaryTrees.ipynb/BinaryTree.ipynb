{
 "cells": [
  {
   "cell_type": "code",
   "execution_count": 2,
   "id": "4ec5d841",
   "metadata": {},
   "outputs": [],
   "source": [
    "class BinaryTree:\n",
    "    def __init__(self, data):\n",
    "        self.data = data\n",
    "        self.left = None\n",
    "        self.right = None"
   ]
  },
  {
   "cell_type": "code",
   "execution_count": 3,
   "id": "7c671093",
   "metadata": {},
   "outputs": [],
   "source": [
    "btn1 = BinaryTree(1)\n",
    "btn2 = BinaryTree(2)\n",
    "btn3 = BinaryTree(3)"
   ]
  },
  {
   "cell_type": "code",
   "execution_count": 4,
   "id": "d13e07fe",
   "metadata": {},
   "outputs": [],
   "source": [
    "# Making connections between the nodes\n",
    "btn1.left = btn2\n",
    "btn1.right = btn3"
   ]
  },
  {
   "cell_type": "code",
   "execution_count": 11,
   "id": "f1ecde68",
   "metadata": {},
   "outputs": [],
   "source": [
    "# Printing the Binary Tree\n",
    "\n",
    "def printBinaryTree(root):\n",
    "    if root == None:\n",
    "        return\n",
    "    print(root.data, end = ':')\n",
    "    if root.left != None:\n",
    "        print('L',root.left.data, end = ', ')\n",
    "    if root.right != None:\n",
    "        print('R', root.right.data, end = '')\n",
    "    print()\n",
    "    printBinaryTree(root.left)\n",
    "    printBinaryTree(root.right)"
   ]
  },
  {
   "cell_type": "code",
   "execution_count": 12,
   "id": "4abc6c48",
   "metadata": {},
   "outputs": [
    {
     "name": "stdout",
     "output_type": "stream",
     "text": [
      "1:L 2, R 3\n",
      "2:\n",
      "3:\n"
     ]
    }
   ],
   "source": [
    "printBinaryTree(btn1)"
   ]
  }
 ],
 "metadata": {
  "kernelspec": {
   "display_name": "Python 3 (ipykernel)",
   "language": "python",
   "name": "python3"
  },
  "language_info": {
   "codemirror_mode": {
    "name": "ipython",
    "version": 3
   },
   "file_extension": ".py",
   "mimetype": "text/x-python",
   "name": "python",
   "nbconvert_exporter": "python",
   "pygments_lexer": "ipython3",
   "version": "3.12.3"
  }
 },
 "nbformat": 4,
 "nbformat_minor": 5
}
