{
 "cells": [
  {
   "cell_type": "code",
   "execution_count": 5,
   "metadata": {},
   "outputs": [],
   "source": [
    "class BinaryTree:\n",
    "    def __init__(self, data):\n",
    "        self.data = data\n",
    "        self.left = None\n",
    "        self.right = None"
   ]
  },
  {
   "cell_type": "code",
   "execution_count": 10,
   "metadata": {},
   "outputs": [],
   "source": [
    "def takeInput():\n",
    "    rootData = int(input())\n",
    "\n",
    "    if rootData == -1:\n",
    "        return None\n",
    "    \n",
    "    root = BinaryTree(rootData)\n",
    "    leftTree = takeInput()\n",
    "    rightTree = takeInput()\n",
    "\n",
    "    root.left = leftTree\n",
    "    root.right = rightTree\n",
    "\n",
    "    return root"
   ]
  },
  {
   "cell_type": "code",
   "execution_count": 12,
   "metadata": {},
   "outputs": [],
   "source": [
    "# Printing the Binary Tree\n",
    "\n",
    "def printBinaryTree(root):\n",
    "    if root == None:\n",
    "        return\n",
    "    print(root.data, end = ':')\n",
    "    if root.left != None:\n",
    "        print('L',root.left.data, end = ', ')\n",
    "    if root.right != None:\n",
    "        print('R', root.right.data, end = '')\n",
    "    print()\n",
    "    printBinaryTree(root.left)\n",
    "    printBinaryTree(root.right)"
   ]
  },
  {
   "cell_type": "code",
   "execution_count": 13,
   "metadata": {},
   "outputs": [
    {
     "name": "stdout",
     "output_type": "stream",
     "text": [
      "1:L 2, R 3\n",
      "2:L 4, R 5\n",
      "4:\n",
      "5:\n",
      "3:R 7\n",
      "7:\n"
     ]
    }
   ],
   "source": [
    "root = takeInput()\n",
    "printBinaryTree(root)"
   ]
  }
 ],
 "metadata": {
  "kernelspec": {
   "display_name": "Python 3",
   "language": "python",
   "name": "python3"
  },
  "language_info": {
   "codemirror_mode": {
    "name": "ipython",
    "version": 3
   },
   "file_extension": ".py",
   "mimetype": "text/x-python",
   "name": "python",
   "nbconvert_exporter": "python",
   "pygments_lexer": "ipython3",
   "version": "3.12.3"
  }
 },
 "nbformat": 4,
 "nbformat_minor": 2
}
