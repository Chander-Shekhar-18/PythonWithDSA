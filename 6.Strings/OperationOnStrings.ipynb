{
 "cells": [
  {
   "cell_type": "markdown",
   "metadata": {},
   "source": [
    "Split() : It returns a list"
   ]
  },
  {
   "cell_type": "code",
   "execution_count": 4,
   "metadata": {},
   "outputs": [
    {
     "name": "stdout",
     "output_type": "stream",
     "text": [
      "['My', 'name', 'is', 'ChanderShekhar']\n"
     ]
    }
   ],
   "source": [
    "str = 'My name is ChanderShekhar'\n",
    "\n",
    "list = str.split()\n",
    "print(list)"
   ]
  },
  {
   "cell_type": "code",
   "execution_count": 8,
   "metadata": {},
   "outputs": [
    {
     "name": "stdout",
     "output_type": "stream",
     "text": [
      "['My', ' name', ' is ChanderShekhar']\n"
     ]
    }
   ],
   "source": [
    "# We can split a string by any character also like ','\n",
    "\n",
    "str1 = 'My, name, is ChanderShekhar'\n",
    "\n",
    "list = str1.split(',')\n",
    "print(list)"
   ]
  },
  {
   "cell_type": "markdown",
   "metadata": {},
   "source": [
    "replace() : It will replace a string with another string"
   ]
  },
  {
   "cell_type": "code",
   "execution_count": 9,
   "metadata": {},
   "outputs": [
    {
     "name": "stdout",
     "output_type": "stream",
     "text": [
      "My name is Shekhar\n"
     ]
    }
   ],
   "source": [
    "str2 = 'My name is Chander'\n",
    "newStr2 = str2.replace('Chander', 'Shekhar')\n",
    "\n",
    "print(newStr2)"
   ]
  },
  {
   "cell_type": "code",
   "execution_count": 10,
   "metadata": {},
   "outputs": [
    {
     "name": "stdout",
     "output_type": "stream",
     "text": [
      "My name is Shekhar Shekhar Shekhar Shekhar\n"
     ]
    }
   ],
   "source": [
    "# If we have multiple occurances of the same string then it will replace all the occurances\n",
    "\n",
    "str3 = 'My name is Chander Chander Chander Chander'\n",
    "newStr3 = str3.replace('Chander', 'Shekhar')\n",
    "\n",
    "print(newStr3)"
   ]
  },
  {
   "cell_type": "code",
   "execution_count": 12,
   "metadata": {},
   "outputs": [
    {
     "name": "stdout",
     "output_type": "stream",
     "text": [
      "My name is Shekhar Shekhar Chander Chander\n"
     ]
    }
   ],
   "source": [
    "# If we have multiple occurances of the same string then it will replace all the occurances, but we can control them by passing the value\n",
    "\n",
    "str4 = 'My name is Chander Chander Chander Chander'\n",
    "newStr4 = str4.replace('Chander', 'Shekhar', 2) # first two occurances will be replaced\n",
    "\n",
    "print(newStr4)"
   ]
  },
  {
   "cell_type": "markdown",
   "metadata": {},
   "source": [
    "find() : it returns the index value of the substring.\n",
    "\n",
    "It will return -1 if value not found"
   ]
  },
  {
   "cell_type": "code",
   "execution_count": 17,
   "metadata": {},
   "outputs": [
    {
     "name": "stdout",
     "output_type": "stream",
     "text": [
      "6\n"
     ]
    }
   ],
   "source": [
    "str5 = 'Hello world'\n",
    "index = str5.find('wor')\n",
    "print(index)"
   ]
  },
  {
   "cell_type": "code",
   "execution_count": 18,
   "metadata": {},
   "outputs": [
    {
     "name": "stdout",
     "output_type": "stream",
     "text": [
      "7\n"
     ]
    }
   ],
   "source": [
    "# By default, find() will search from start to end, but we can pass searching range manually\n",
    "\n",
    "str6 = 'ChanderShekhar'\n",
    "idx = str6.find('Sh', 3, 78)"
   ]
  },
  {
   "cell_type": "markdown",
   "metadata": {},
   "source": [
    "lower() : it converts the uppercase string to the lowercase\n",
    "\n",
    "upper() : it converts the lowercase string to the uppercase"
   ]
  },
  {
   "cell_type": "code",
   "execution_count": 19,
   "metadata": {},
   "outputs": [
    {
     "name": "stdout",
     "output_type": "stream",
     "text": [
      "Lowercase string is converted to the uppercase : MY NAME IS CHANDER SHEKHAR\n",
      "Uppercase string is converted to the lowercase : my name is chander shekhar\n"
     ]
    }
   ],
   "source": [
    "lowerStr = 'my name is chander shekhar'\n",
    "\n",
    "upperStr = 'My NAME IS CHANDER SHEKHAR'\n",
    "\n",
    "print(f'Lowercase string is converted to the uppercase : {lowerStr.upper()}')\n",
    "print(f'Uppercase string is converted to the lowercase : {upperStr.lower()}')"
   ]
  },
  {
   "cell_type": "markdown",
   "metadata": {},
   "source": [
    "startswith() : it checks weather a string is starting from a particular substring or not and it returns a boolean value.\n",
    "\n",
    "startswith() : it checks weather a string is ending from a particular substring or not and it returns a boolean value."
   ]
  },
  {
   "cell_type": "code",
   "execution_count": 22,
   "metadata": {},
   "outputs": [
    {
     "name": "stdout",
     "output_type": "stream",
     "text": [
      "True\n",
      "False\n",
      "True\n"
     ]
    }
   ],
   "source": [
    "str7 = 'My name is Chander'\n",
    "ans = str7.startswith('My')\n",
    "print(ans)\n",
    "\n",
    "ans2 = str7.startswith('Ch')\n",
    "print(ans2)\n",
    "\n",
    "ans3 = str7.endswith('er')\n",
    "print(ans3)"
   ]
  }
 ],
 "metadata": {
  "kernelspec": {
   "display_name": "Python 3",
   "language": "python",
   "name": "python3"
  },
  "language_info": {
   "codemirror_mode": {
    "name": "ipython",
    "version": 3
   },
   "file_extension": ".py",
   "mimetype": "text/x-python",
   "name": "python",
   "nbconvert_exporter": "python",
   "pygments_lexer": "ipython3",
   "version": "3.12.3"
  }
 },
 "nbformat": 4,
 "nbformat_minor": 2
}
