{
 "cells": [
  {
   "cell_type": "code",
   "execution_count": 1,
   "metadata": {},
   "outputs": [],
   "source": [
    "name = 'ChanderShekhar'"
   ]
  },
  {
   "cell_type": "code",
   "execution_count": 16,
   "metadata": {},
   "outputs": [
    {
     "name": "stdout",
     "output_type": "stream",
     "text": [
      "r r\n",
      "a a\n",
      "c c\n",
      "e a\n",
      "False\n"
     ]
    }
   ],
   "source": [
    "str = \"raceacar\"\n",
    "\n",
    "def check(s):\n",
    "    start = 0\n",
    "    end = len(s) - 1\n",
    "\n",
    "    while start < end:\n",
    "        while start < end and not s[start].isalnum():\n",
    "            start = start + 1\n",
    "\n",
    "        while start < end and not s[end].isalnum():\n",
    "            end -= 1\n",
    "\n",
    "        print(s[start], s[end])\n",
    "\n",
    "        if s[start].lower() != s[end].lower():\n",
    "            return False\n",
    "        \n",
    "        start = start + 1\n",
    "        end = end - 1\n",
    "\n",
    "    return True\n",
    "\n",
    "print(check(str))"
   ]
  },
  {
   "cell_type": "code",
   "execution_count": 15,
   "metadata": {},
   "outputs": [
    {
     "data": {
      "text/plain": [
       "False"
      ]
     },
     "execution_count": 15,
     "metadata": {},
     "output_type": "execute_result"
    }
   ],
   "source": [
    "def checkPal(s):\n",
    "    newStr = ''\n",
    "\n",
    "    for i in range(len(s)):\n",
    "        if (s[i] >= 'a' and s[i] <= 'z') or (s[i] >= 'A' and s[i] <= 'Z') or (s[i] >= '0' and s[i] <= '9'):\n",
    "            newStr += s[i].lower()\n",
    "\n",
    "    start = 0\n",
    "    end = len(newStr) - 1\n",
    "\n",
    "    while start < end:\n",
    "        if newStr[start] == newStr[end]:\n",
    "            start = start + 1\n",
    "            end = end - 1\n",
    "        else:\n",
    "            return False\n",
    "    return True\n",
    "\n",
    "\n",
    "checkPal('raceacar')"
   ]
  },
  {
   "cell_type": "code",
   "execution_count": null,
   "metadata": {},
   "outputs": [],
   "source": []
  }
 ],
 "metadata": {
  "kernelspec": {
   "display_name": "Python 3",
   "language": "python",
   "name": "python3"
  },
  "language_info": {
   "codemirror_mode": {
    "name": "ipython",
    "version": 3
   },
   "file_extension": ".py",
   "mimetype": "text/x-python",
   "name": "python",
   "nbconvert_exporter": "python",
   "pygments_lexer": "ipython3",
   "version": "3.12.3"
  }
 },
 "nbformat": 4,
 "nbformat_minor": 2
}
