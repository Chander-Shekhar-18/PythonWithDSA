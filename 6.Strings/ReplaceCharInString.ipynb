{
 "cells": [
  {
   "cell_type": "code",
   "execution_count": 1,
   "metadata": {},
   "outputs": [],
   "source": [
    "def replaceChar(str, char1, char2):\n",
    "    newStr = ''\n",
    "    for i in str:\n",
    "        if i == char1:\n",
    "            newStr += char2\n",
    "        else:\n",
    "            newStr += i\n",
    "    \n",
    "    return newStr"
   ]
  },
  {
   "cell_type": "code",
   "execution_count": 3,
   "metadata": {},
   "outputs": [
    {
     "name": "stdout",
     "output_type": "stream",
     "text": [
      "ebcde\n"
     ]
    }
   ],
   "source": [
    "str = 'abcda'\n",
    "\n",
    "char1 = 'a'\n",
    "char2 = 'e'\n",
    "\n",
    "print(replaceChar(str, char1, char2))"
   ]
  }
 ],
 "metadata": {
  "kernelspec": {
   "display_name": "Python 3",
   "language": "python",
   "name": "python3"
  },
  "language_info": {
   "codemirror_mode": {
    "name": "ipython",
    "version": 3
   },
   "file_extension": ".py",
   "mimetype": "text/x-python",
   "name": "python",
   "nbconvert_exporter": "python",
   "pygments_lexer": "ipython3",
   "version": "3.12.3"
  }
 },
 "nbformat": 4,
 "nbformat_minor": 2
}
