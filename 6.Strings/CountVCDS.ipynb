{
 "cells": [
  {
   "cell_type": "markdown",
   "metadata": {},
   "source": [
    "Count the number of vowels, consonants, digits and special character in a string"
   ]
  },
  {
   "cell_type": "code",
   "execution_count": 4,
   "metadata": {},
   "outputs": [],
   "source": [
    "def countVCDS(str):\n",
    "    v, c, d, s = 0, 0, 0, 0\n",
    "\n",
    "    for i in str:\n",
    "        if (i >= 'a' and i <= 'z') or (i >= 'A' and i <= 'Z'):\n",
    "            i = i.lower()\n",
    "            if (i == 'a' or i == 'e' or i == 'o' or i == 'i' or i == 'u'):\n",
    "                v = v + 1\n",
    "            else:\n",
    "                c = c + 1\n",
    "        elif (i >= '0' and i <= '9'):\n",
    "            d = d +1\n",
    "        else:\n",
    "            s = s + 1\n",
    "    \n",
    "    return v, c, d, s"
   ]
  },
  {
   "cell_type": "code",
   "execution_count": 6,
   "metadata": {},
   "outputs": [
    {
     "name": "stdout",
     "output_type": "stream",
     "text": [
      "9 14 10 3\n"
     ]
    }
   ],
   "source": [
    "str = 'sfsaAFsawurioq2412141dsafd!@ afsa421'\n",
    "\n",
    "v, c, d, s = countVCDS(str)\n",
    "\n",
    "print(v, c, d, s)"
   ]
  }
 ],
 "metadata": {
  "kernelspec": {
   "display_name": "Python 3",
   "language": "python",
   "name": "python3"
  },
  "language_info": {
   "codemirror_mode": {
    "name": "ipython",
    "version": 3
   },
   "file_extension": ".py",
   "mimetype": "text/x-python",
   "name": "python",
   "nbconvert_exporter": "python",
   "pygments_lexer": "ipython3",
   "version": "3.12.3"
  }
 },
 "nbformat": 4,
 "nbformat_minor": 2
}
