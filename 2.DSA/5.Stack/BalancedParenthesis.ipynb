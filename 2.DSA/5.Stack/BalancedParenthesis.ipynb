{
 "cells": [
  {
   "cell_type": "code",
   "execution_count": 4,
   "id": "c9d7ab6a",
   "metadata": {},
   "outputs": [],
   "source": [
    "def isBalanced(string):\n",
    "    stack = []\n",
    "    \n",
    "    for char in string:\n",
    "        if char in '({[':\n",
    "            stack.append(char)\n",
    "        elif char == ')':\n",
    "            if not stack or stack[-1] != '(':\n",
    "                return False\n",
    "            stack.pop()\n",
    "        elif char == '}':\n",
    "            if not stack or stack[-1] != '{':\n",
    "                return False\n",
    "            stack.pop()\n",
    "        elif char == ']':\n",
    "            if not stack or stack[-1] != '[':\n",
    "                return False\n",
    "            stack.pop()\n",
    "    \n",
    "    # Make sure that no brackets should remain in stack\n",
    "    if not stack:\n",
    "        return True\n",
    "    \n",
    "    return False"
   ]
  },
  {
   "cell_type": "code",
   "execution_count": 5,
   "id": "fe09f36f",
   "metadata": {},
   "outputs": [
    {
     "name": "stdout",
     "output_type": "stream",
     "text": [
      "(){}[]\n",
      "True\n"
     ]
    }
   ],
   "source": [
    "string = input()\n",
    "print(isBalanced(string))"
   ]
  },
  {
   "cell_type": "code",
   "execution_count": 3,
   "id": "0b475300",
   "metadata": {},
   "outputs": [
    {
     "name": "stdout",
     "output_type": "stream",
     "text": [
      "([]{}\n",
      "False\n"
     ]
    }
   ],
   "source": [
    "string = input()\n",
    "print(isBalanced(string))"
   ]
  }
 ],
 "metadata": {
  "kernelspec": {
   "display_name": "Python 3 (ipykernel)",
   "language": "python",
   "name": "python3"
  },
  "language_info": {
   "codemirror_mode": {
    "name": "ipython",
    "version": 3
   },
   "file_extension": ".py",
   "mimetype": "text/x-python",
   "name": "python",
   "nbconvert_exporter": "python",
   "pygments_lexer": "ipython3",
   "version": "3.12.3"
  }
 },
 "nbformat": 4,
 "nbformat_minor": 5
}
