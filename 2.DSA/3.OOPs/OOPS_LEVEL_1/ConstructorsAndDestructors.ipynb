{
 "cells": [
  {
   "cell_type": "code",
   "execution_count": 1,
   "metadata": {},
   "outputs": [
    {
     "name": "stdout",
     "output_type": "stream",
     "text": [
      "constructor is called !!!\n"
     ]
    }
   ],
   "source": [
    "# Example of Constructor\n",
    "\n",
    "class Animal:\n",
    "    def __init__(self) -> None:\n",
    "        print('constructor is called !!!')\n",
    "    \n",
    "animal = Animal()"
   ]
  },
  {
   "cell_type": "code",
   "execution_count": 3,
   "metadata": {},
   "outputs": [
    {
     "name": "stdout",
     "output_type": "stream",
     "text": [
      "Name of the animal is : Cat and his age is : 15\n"
     ]
    }
   ],
   "source": [
    "# Default Constructor\n",
    "\n",
    "class Animals:\n",
    "    def __init__(self) -> None:\n",
    "        self.name = 'Cat'\n",
    "        self.age = 15\n",
    "    \n",
    "    def displayInfo(self):\n",
    "        print(f'Name of the animal is : {self.name} and his age is : {self.age}')\n",
    "\n",
    "animals = Animals()\n",
    "animals.displayInfo()"
   ]
  },
  {
   "cell_type": "code",
   "execution_count": 4,
   "metadata": {},
   "outputs": [
    {
     "name": "stdout",
     "output_type": "stream",
     "text": [
      "Name of the animal is : Lion and his age is : 25\n"
     ]
    }
   ],
   "source": [
    "# Parameterized Constructor\n",
    "\n",
    "class WildLife:\n",
    "    def __init__(self, name, age) -> None:\n",
    "        self.name = name\n",
    "        self.age = age\n",
    "    \n",
    "    def displayInfo(self):\n",
    "        print(f'Name of the animal is : {self.name} and his age is : {self.age}')\n",
    "    \n",
    "wildAnimal = WildLife('Lion', 25)\n",
    "wildAnimal.displayInfo()"
   ]
  },
  {
   "cell_type": "code",
   "execution_count": 5,
   "metadata": {},
   "outputs": [
    {
     "name": "stdout",
     "output_type": "stream",
     "text": [
      "Destructor is called !!!\n"
     ]
    }
   ],
   "source": [
    "# Destructor\n",
    "\n",
    "class Student:\n",
    "    def __init__(self) -> None:\n",
    "        pass\n",
    "\n",
    "    def __del__(self):\n",
    "        print('Destructor is called !!!')\n",
    "\n",
    "student = Student()\n",
    "del student"
   ]
  }
 ],
 "metadata": {
  "kernelspec": {
   "display_name": "Python 3",
   "language": "python",
   "name": "python3"
  },
  "language_info": {
   "codemirror_mode": {
    "name": "ipython",
    "version": 3
   },
   "file_extension": ".py",
   "mimetype": "text/x-python",
   "name": "python",
   "nbconvert_exporter": "python",
   "pygments_lexer": "ipython3",
   "version": "3.12.3"
  }
 },
 "nbformat": 4,
 "nbformat_minor": 2
}
