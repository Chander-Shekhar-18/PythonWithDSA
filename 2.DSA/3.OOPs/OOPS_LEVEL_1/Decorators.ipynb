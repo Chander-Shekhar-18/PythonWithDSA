{
 "cells": [
  {
   "cell_type": "code",
   "execution_count": 1,
   "metadata": {},
   "outputs": [
    {
     "name": "stdout",
     "output_type": "stream",
     "text": [
      "Before the function\n",
      "Hello ChanderShekhar\n",
      "After the function\n"
     ]
    }
   ],
   "source": [
    "def MyDecorator(func):\n",
    "    def wrapper():\n",
    "        print('Before the function')\n",
    "        func()\n",
    "        print('After the function')\n",
    "\n",
    "    return wrapper\n",
    "\n",
    "@MyDecorator\n",
    "def sayHello():\n",
    "    print('Hello ChanderShekhar')\n",
    "\n",
    "sayHello()"
   ]
  }
 ],
 "metadata": {
  "kernelspec": {
   "display_name": "Python 3",
   "language": "python",
   "name": "python3"
  },
  "language_info": {
   "codemirror_mode": {
    "name": "ipython",
    "version": 3
   },
   "file_extension": ".py",
   "mimetype": "text/x-python",
   "name": "python",
   "nbconvert_exporter": "python",
   "pygments_lexer": "ipython3",
   "version": "3.12.3"
  }
 },
 "nbformat": 4,
 "nbformat_minor": 2
}
