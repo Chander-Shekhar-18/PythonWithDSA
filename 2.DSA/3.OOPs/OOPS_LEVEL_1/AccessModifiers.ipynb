{
 "cells": [
  {
   "cell_type": "code",
   "execution_count": 1,
   "metadata": {},
   "outputs": [
    {
     "name": "stdout",
     "output_type": "stream",
     "text": [
      "Name is : ChanderShekhar\n"
     ]
    }
   ],
   "source": [
    "# 1. Public\n",
    "\n",
    "class Class:\n",
    "    def __init__(self, name) -> None:\n",
    "        self.name = name\n",
    "    \n",
    "    def displayName(self):\n",
    "        print(f'Name is : {self.name}')\n",
    "    \n",
    "obj = Class('ChanderShekhar')\n",
    "obj.displayName()"
   ]
  },
  {
   "cell_type": "code",
   "execution_count": 5,
   "metadata": {},
   "outputs": [
    {
     "name": "stdout",
     "output_type": "stream",
     "text": [
      "Name given by parent is : Chander\n",
      "Name inherited from parent class is : ChanderShekhar\n"
     ]
    }
   ],
   "source": [
    "# 2. Protected\n",
    "\n",
    "class ParentClass:\n",
    "    def __init__(self, name) -> None:\n",
    "        self._name = name\n",
    "    \n",
    "    def display(self):\n",
    "        print(f'Name given by parent is : {self._name}')\n",
    "\n",
    "class ChildClass(ParentClass):\n",
    "    def displayName(self):\n",
    "        print(f'Name inherited from parent class is : {self._name}')\n",
    "    \n",
    "name = ParentClass('Chander')\n",
    "name.display()\n",
    "\n",
    "obj = ChildClass('ChanderShekhar')\n",
    "obj.displayName()"
   ]
  },
  {
   "cell_type": "code",
   "execution_count": 12,
   "metadata": {},
   "outputs": [
    {
     "name": "stdout",
     "output_type": "stream",
     "text": [
      "Name is : ChanderShekhar\n",
      "None\n"
     ]
    },
    {
     "ename": "AttributeError",
     "evalue": "'MyClass' object has no attribute '__name'",
     "output_type": "error",
     "traceback": [
      "\u001b[0;31m---------------------------------------------------------------------------\u001b[0m",
      "\u001b[0;31mAttributeError\u001b[0m                            Traceback (most recent call last)",
      "Cell \u001b[0;32mIn[12], line 16\u001b[0m\n\u001b[1;32m     13\u001b[0m \u001b[38;5;28mprint\u001b[39m(myClass\u001b[38;5;241m.\u001b[39mdisplay())\n\u001b[1;32m     15\u001b[0m \u001b[38;5;66;03m# When we try to access data member directly, it will throw an error\u001b[39;00m\n\u001b[0;32m---> 16\u001b[0m \u001b[38;5;28mprint\u001b[39m(\u001b[43mmyClass\u001b[49m\u001b[38;5;241;43m.\u001b[39;49m\u001b[43m__name\u001b[49m)\n",
      "\u001b[0;31mAttributeError\u001b[0m: 'MyClass' object has no attribute '__name'"
     ]
    }
   ],
   "source": [
    "# 3. Private\n",
    "\n",
    "class MyClass:\n",
    "    def __init__(self, name) -> None:\n",
    "        self.__name = name\n",
    "    \n",
    "    def display(self):\n",
    "        print(f'Name is : {self.__name}')\n",
    "\n",
    "myClass = MyClass('ChanderShekhar')\n",
    "\n",
    "# Access private data member using public method\n",
    "print(myClass.display())\n",
    "\n",
    "# When we try to access data member directly, it will throw an error\n",
    "print(myClass.__name)"
   ]
  }
 ],
 "metadata": {
  "kernelspec": {
   "display_name": "Python 3",
   "language": "python",
   "name": "python3"
  },
  "language_info": {
   "codemirror_mode": {
    "name": "ipython",
    "version": 3
   },
   "file_extension": ".py",
   "mimetype": "text/x-python",
   "name": "python",
   "nbconvert_exporter": "python",
   "pygments_lexer": "ipython3",
   "version": "3.12.3"
  }
 },
 "nbformat": 4,
 "nbformat_minor": 2
}
