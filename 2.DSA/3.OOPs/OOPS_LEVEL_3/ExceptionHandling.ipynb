{
 "cells": [
  {
   "cell_type": "code",
   "execution_count": 1,
   "metadata": {},
   "outputs": [
    {
     "name": "stdout",
     "output_type": "stream",
     "text": [
      "Zero Divison Error Occurred !!!\n",
      "Hello\n"
     ]
    }
   ],
   "source": [
    "# If b is equal to 0\n",
    "\n",
    "try:\n",
    "    a = 10\n",
    "    b = 0\n",
    "    res = a / b\n",
    "except ZeroDivisionError:\n",
    "    print('Zero Divison Error Occurred !!!')\n",
    "\n",
    "print('Hello')"
   ]
  },
  {
   "cell_type": "code",
   "execution_count": 2,
   "metadata": {},
   "outputs": [
    {
     "name": "stdout",
     "output_type": "stream",
     "text": [
      "Hello\n"
     ]
    }
   ],
   "source": [
    "# If b is not equal to 0\n",
    "\n",
    "try:\n",
    "    a = 10\n",
    "    b = 10\n",
    "    res = a / b\n",
    "except ZeroDivisionError:\n",
    "    print('Zero Divison Error Occurred !!!')\n",
    "\n",
    "print('Hello')"
   ]
  },
  {
   "cell_type": "code",
   "execution_count": 6,
   "metadata": {},
   "outputs": [
    {
     "name": "stdout",
     "output_type": "stream",
     "text": [
      "Index out of range\n",
      "[1, 2, 3, 10]\n"
     ]
    }
   ],
   "source": [
    "try:\n",
    "    a = [1, 2, 3]\n",
    "    print(a[10] > a[0])\n",
    "except IndexError:\n",
    "    print('Index out of range')\n",
    "\n",
    "a.append(10)\n",
    "print(a)"
   ]
  }
 ],
 "metadata": {
  "kernelspec": {
   "display_name": "Python 3",
   "language": "python",
   "name": "python3"
  },
  "language_info": {
   "codemirror_mode": {
    "name": "ipython",
    "version": 3
   },
   "file_extension": ".py",
   "mimetype": "text/x-python",
   "name": "python",
   "nbconvert_exporter": "python",
   "pygments_lexer": "ipython3",
   "version": "3.12.3"
  }
 },
 "nbformat": 4,
 "nbformat_minor": 2
}
