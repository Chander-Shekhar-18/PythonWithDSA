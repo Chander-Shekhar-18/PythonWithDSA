{
 "cells": [
  {
   "cell_type": "code",
   "execution_count": 11,
   "metadata": {},
   "outputs": [
    {
     "name": "stdout",
     "output_type": "stream",
     "text": [
      "Output is : 5.0\n",
      "ChanderShekhar is the Boss !!!\n"
     ]
    }
   ],
   "source": [
    "def A(a, b):\n",
    "    try:\n",
    "        res = a / b\n",
    "    except Exception as e:\n",
    "        print(e)\n",
    "    else:\n",
    "        print(f'Output is : {res}')\n",
    "    finally:\n",
    "        print('ChanderShekhar is the Boss !!!')\n",
    "\n",
    "A(10,2)"
   ]
  },
  {
   "cell_type": "code",
   "execution_count": 12,
   "metadata": {},
   "outputs": [
    {
     "name": "stdout",
     "output_type": "stream",
     "text": [
      "division by zero\n",
      "ChanderShekhar is the Boss !!!\n"
     ]
    }
   ],
   "source": [
    "def A(a, b):\n",
    "    try:\n",
    "        res = a / b\n",
    "    except Exception as e:\n",
    "        print(e)\n",
    "    else:\n",
    "        print(f'Output is : {res}')\n",
    "    finally:\n",
    "        print('ChanderShekhar is the Boss !!!')\n",
    "\n",
    "A(10,0)"
   ]
  }
 ],
 "metadata": {
  "kernelspec": {
   "display_name": "Python 3",
   "language": "python",
   "name": "python3"
  },
  "language_info": {
   "codemirror_mode": {
    "name": "ipython",
    "version": 3
   },
   "file_extension": ".py",
   "mimetype": "text/x-python",
   "name": "python",
   "nbconvert_exporter": "python",
   "pygments_lexer": "ipython3",
   "version": "3.12.3"
  }
 },
 "nbformat": 4,
 "nbformat_minor": 2
}
