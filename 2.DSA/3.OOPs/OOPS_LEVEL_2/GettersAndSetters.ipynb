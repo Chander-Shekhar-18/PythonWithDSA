{
 "cells": [
  {
   "cell_type": "code",
   "execution_count": 1,
   "metadata": {},
   "outputs": [],
   "source": [
    "class Person:\n",
    "    def __init__(self) -> None:\n",
    "        self._name = ''\n",
    "    \n",
    "    @property\n",
    "    def name(self):\n",
    "        print('Getter is called')\n",
    "        return self._name\n",
    "\n",
    "    @name.setter\n",
    "    def name(self, newName):\n",
    "        print('Setter is called')\n",
    "        self._name = newName"
   ]
  },
  {
   "cell_type": "code",
   "execution_count": 2,
   "metadata": {},
   "outputs": [
    {
     "name": "stdout",
     "output_type": "stream",
     "text": [
      "Setter is called\n",
      "Getter is called\n",
      "ChanderShekhar\n"
     ]
    }
   ],
   "source": [
    "person = Person()\n",
    "person.name = 'ChanderShekhar'\n",
    "print(person.name)"
   ]
  }
 ],
 "metadata": {
  "kernelspec": {
   "display_name": "Python 3",
   "language": "python",
   "name": "python3"
  },
  "language_info": {
   "codemirror_mode": {
    "name": "ipython",
    "version": 3
   },
   "file_extension": ".py",
   "mimetype": "text/x-python",
   "name": "python",
   "nbconvert_exporter": "python",
   "pygments_lexer": "ipython3",
   "version": "3.12.3"
  }
 },
 "nbformat": 4,
 "nbformat_minor": 2
}
