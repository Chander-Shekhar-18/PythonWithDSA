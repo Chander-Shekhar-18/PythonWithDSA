{
 "cells": [
  {
   "cell_type": "markdown",
   "id": "987edd52",
   "metadata": {},
   "source": [
    "Types of Inheritance:\n",
    "1. Single level\n",
    "2. Multiple level\n",
    "3. Multi level\n",
    "4. Hierarchial \n",
    "5. Hybrid"
   ]
  },
  {
   "cell_type": "code",
   "execution_count": 1,
   "id": "73b5bce6",
   "metadata": {},
   "outputs": [
    {
     "name": "stdout",
     "output_type": "stream",
     "text": [
      "Vehicle is Moving ...\n",
      "Car Started ...\n"
     ]
    }
   ],
   "source": [
    "# Single Level Inheritance\n",
    "\n",
    "class Vehicle:\n",
    "    def move(self):\n",
    "        print('Vehicle is Moving ...')\n",
    "\n",
    "class Car(Vehicle):\n",
    "    def start(self):\n",
    "        print('Car Started ...')\n",
    "    \n",
    "car = Car()\n",
    "car.move()\n",
    "car.start()"
   ]
  },
  {
   "cell_type": "code",
   "execution_count": 4,
   "id": "b4590914",
   "metadata": {},
   "outputs": [
    {
     "name": "stdout",
     "output_type": "stream",
     "text": [
      "ChanderShekhar\n",
      "DeenDayal\n",
      "ChanderPrabha\n"
     ]
    }
   ],
   "source": [
    "# Multiple Inheritance\n",
    "\n",
    "class Father:\n",
    "    def __init__(self, name):\n",
    "        self.fatherName = name\n",
    "\n",
    "class Mother:\n",
    "    def __init__(self, name):\n",
    "        self.motherName = name\n",
    "    \n",
    "class Son(Father, Mother):\n",
    "    def __init__(self, fatherName, motherName, name):\n",
    "        self.name = name\n",
    "        Father.__init__(self, fatherName)\n",
    "        Mother.__init__(self, motherName)\n",
    "\n",
    "son = Son('DeenDayal', 'ChanderPrabha', 'ChanderShekhar')\n",
    "print(son.name)\n",
    "print(son.fatherName)\n",
    "print(son.motherName)"
   ]
  },
  {
   "cell_type": "code",
   "execution_count": 5,
   "id": "01160074",
   "metadata": {},
   "outputs": [
    {
     "name": "stdout",
     "output_type": "stream",
     "text": [
      "ChanderShekhar\n",
      "2000\n",
      "150\n"
     ]
    }
   ],
   "source": [
    "# Multi level Inheritance\n",
    "\n",
    "class Person:\n",
    "    def __init__(self, name):\n",
    "        self.name = name\n",
    "\n",
    "class Cricketer(Person):\n",
    "    def __init__(self, name, matchesPlayed):\n",
    "        self.matchesPlayed = matchesPlayed\n",
    "        super().__init__(name)\n",
    "    \n",
    "class Batsman(Cricketer):\n",
    "    def __init__(self, name, totolRuns, matchesPlayed):\n",
    "        self.totalRuns = totolRuns\n",
    "        super().__init__(name, matchesPlayed)\n",
    "    \n",
    "batsman = Batsman('ChanderShekhar', 2000, 150)\n",
    "print(batsman.name)\n",
    "print(batsman.totalRuns)\n",
    "print(batsman.matchesPlayed)"
   ]
  },
  {
   "cell_type": "code",
   "execution_count": 6,
   "id": "10c1c9b9",
   "metadata": {},
   "outputs": [
    {
     "name": "stdout",
     "output_type": "stream",
     "text": [
      "Person constructor is called ...\n",
      "Student constructor is called ...\n",
      "Person constructor is called ...\n",
      "Employee constructor is called ...\n"
     ]
    }
   ],
   "source": [
    "# Hierarchical Inheritance\n",
    "\n",
    "class Aperson:\n",
    "    def __init__(self):\n",
    "        print('Person constructor is called ...')\n",
    "    \n",
    "class Student(Aperson):\n",
    "    def __init__(self):\n",
    "        super().__init__()\n",
    "        print('Student constructor is called ...')\n",
    "    \n",
    "class Employee(Aperson):\n",
    "    def __init__(self):\n",
    "        super().__init__()\n",
    "        print('Employee constructor is called ...')\n",
    "\n",
    "# Person Constructor will be called in both student and emp\n",
    "student = Student()\n",
    "emp = Employee()"
   ]
  },
  {
   "cell_type": "code",
   "execution_count": 9,
   "id": "2e4ccc2e",
   "metadata": {},
   "outputs": [
    {
     "name": "stdout",
     "output_type": "stream",
     "text": [
      "Person Constructor is called ...\n",
      "Student Constructor is called ...\n",
      "\n",
      "Person Constructor is called ...\n",
      "Cricketer Constructor is called ...\n",
      "Batsman Constructor is called ...\n",
      "\n",
      "Person Constructor is called ...\n",
      "Cricketer Constructor is called ...\n"
     ]
    }
   ],
   "source": [
    "# Hybrid Inheritance\n",
    "\n",
    "class aPerson:\n",
    "    def __init__(self):\n",
    "        print('Person Constructor is called ...')\n",
    "\n",
    "class aCricketer(aPerson):\n",
    "    def __init__(self):\n",
    "        super().__init__()\n",
    "        print('Cricketer Constructor is called ...')\n",
    "    \n",
    "class abatsman(aCricketer):\n",
    "    def __init__(self):\n",
    "        super().__init__()\n",
    "        print('Batsman Constructor is called ...')\n",
    "    \n",
    "class aStudent(aPerson):\n",
    "    def __init__(self):\n",
    "        super().__init__()\n",
    "        print('Student Constructor is called ...')\n",
    "        \n",
    "student = aStudent()\n",
    "print()\n",
    "\n",
    "batsman = abatsman()\n",
    "print()\n",
    "\n",
    "cricketer = aCricketer()"
   ]
  }
 ],
 "metadata": {
  "kernelspec": {
   "display_name": "Python 3 (ipykernel)",
   "language": "python",
   "name": "python3"
  },
  "language_info": {
   "codemirror_mode": {
    "name": "ipython",
    "version": 3
   },
   "file_extension": ".py",
   "mimetype": "text/x-python",
   "name": "python",
   "nbconvert_exporter": "python",
   "pygments_lexer": "ipython3",
   "version": "3.12.3"
  }
 },
 "nbformat": 4,
 "nbformat_minor": 5
}
