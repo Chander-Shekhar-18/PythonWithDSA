{
 "cells": [
  {
   "cell_type": "code",
   "execution_count": 1,
   "metadata": {},
   "outputs": [
    {
     "name": "stdout",
     "output_type": "stream",
     "text": [
      "Person object !!!\n",
      "Employee Object !!!\n"
     ]
    }
   ],
   "source": [
    "# Basic Example\n",
    "\n",
    "class Personn:\n",
    "    def personInfo(self):\n",
    "        print('Person object !!!')\n",
    "\n",
    "class Employeee(Personn):\n",
    "    def empInfo(self):\n",
    "        print('Employee Object !!!')\n",
    "\n",
    "emp = Employeee()\n",
    "\n",
    "emp.personInfo()\n",
    "emp.empInfo()"
   ]
  },
  {
   "cell_type": "code",
   "execution_count": 9,
   "metadata": {},
   "outputs": [
    {
     "name": "stdout",
     "output_type": "stream",
     "text": [
      "Employee Constructor is called\n",
      "Person Constructor is called\n",
      "Chander is walking\n"
     ]
    }
   ],
   "source": [
    "# Using super()\n",
    "\n",
    "class Person:\n",
    "    def __init__(self, name, age, idNo) -> None:\n",
    "        print('Person Constructor is called')\n",
    "        self.name = name\n",
    "        self.age = age\n",
    "        self.idNo = idNo\n",
    "    \n",
    "    def Walking(self):\n",
    "        print(f'{self.name} is walking')\n",
    "\n",
    "    \n",
    "class Employee(Person):\n",
    "    def __init__(self, empNo, team, name, age, idNo) -> None:\n",
    "        print('Employee Constructor is called')\n",
    "        self.empNo = empNo\n",
    "        self.team = team\n",
    "        super().__init__(name, age, idNo)\n",
    "\n",
    "    def working(self):\n",
    "        print(f'Employee with {self.empNo} is working')\n",
    "    \n",
    "emp = Employee(12, 'MLS', 'Chander', 23, 789)\n",
    "emp.Walking()"
   ]
  },
  {
   "cell_type": "code",
   "execution_count": 11,
   "metadata": {},
   "outputs": [
    {
     "name": "stdout",
     "output_type": "stream",
     "text": [
      "Employee Information : \n",
      "Name : Shekhar\n",
      "Id : Id 23\n",
      "Employee Code : EMP1\n",
      "Team name : MLs\n"
     ]
    }
   ],
   "source": [
    "# Another example of super()\n",
    "\n",
    "class Aperson:\n",
    "    def __init__(self, name, id) -> None:\n",
    "        self.name = name\n",
    "        self.id = id\n",
    "    \n",
    "    def printInfo(self):\n",
    "        print(f'Name : {self.name}')\n",
    "        print(f'Id : {self.id}')\n",
    "\n",
    "class Aemployee(Aperson):\n",
    "    def __init__(self, name, id, empCode, team) -> None:\n",
    "        super().__init__(name, id)\n",
    "        self.empCode = empCode\n",
    "        self.team = team\n",
    "    \n",
    "    def printInfo(self):\n",
    "        print('Employee Information : ')\n",
    "        super().printInfo()\n",
    "        print(f'Employee Code : {self.empCode}')\n",
    "        print(f'Team name : {self.team}')\n",
    "\n",
    "emp = Aemployee('Shekhar', 'Id 23', 'EMP1', 'MLs')\n",
    "emp.printInfo()"
   ]
  },
  {
   "cell_type": "code",
   "execution_count": null,
   "metadata": {},
   "outputs": [],
   "source": []
  }
 ],
 "metadata": {
  "kernelspec": {
   "display_name": "Python 3",
   "language": "python",
   "name": "python3"
  },
  "language_info": {
   "codemirror_mode": {
    "name": "ipython",
    "version": 3
   },
   "file_extension": ".py",
   "mimetype": "text/x-python",
   "name": "python",
   "nbconvert_exporter": "python",
   "pygments_lexer": "ipython3",
   "version": "3.12.3"
  }
 },
 "nbformat": 4,
 "nbformat_minor": 2
}
