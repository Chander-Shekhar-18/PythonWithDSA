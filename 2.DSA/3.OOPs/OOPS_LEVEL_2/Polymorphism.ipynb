{
 "cells": [
  {
   "cell_type": "markdown",
   "id": "fb7801d7",
   "metadata": {},
   "source": [
    "-> The literal meaning of polymorphism is the condition of occurrance in different forms.\n",
    "\n",
    "-> Ability to exist in different forms.\n",
    "\n",
    "-> Ways to do polymorphism :\n",
    "1. Overloading : compile time polyorphism\n",
    "2. Overriding : run time polymorphism"
   ]
  },
  {
   "cell_type": "code",
   "execution_count": 4,
   "id": "07385075",
   "metadata": {},
   "outputs": [
    {
     "name": "stdout",
     "output_type": "stream",
     "text": [
      "Integer is called ...\n",
      "None\n",
      "String is called ...\n",
      "None\n"
     ]
    }
   ],
   "source": [
    "# Overloading : 1. Method Overloading 2. Operator Overloading\n",
    "\n",
    "# Method Overloading\n",
    "\n",
    "from typing import overload\n",
    "\n",
    "class A:\n",
    "    @overload\n",
    "    def f(self, x : int) -> str:\n",
    "        ...\n",
    "        \n",
    "    @overload\n",
    "    def f(self, x : str) -> str:\n",
    "        ...\n",
    "        \n",
    "    def f(self, x) -> str:\n",
    "        if isinstance(x, int):\n",
    "            print('Integer is called ...')\n",
    "        elif isinstance(x, str):\n",
    "            print('String is called ...')\n",
    "\n",
    "a = A()\n",
    "\n",
    "print(a.f(5))\n",
    "print(a.f('Chander'))\n",
    "\n",
    "\n",
    "#Another example of method overloading is len() function.\n",
    "#We can pass str or array, it will return its length"
   ]
  },
  {
   "cell_type": "code",
   "execution_count": 12,
   "id": "05a84a38",
   "metadata": {},
   "outputs": [
    {
     "name": "stdout",
     "output_type": "stream",
     "text": [
      "180\n",
      "True\n",
      "False\n"
     ]
    }
   ],
   "source": [
    "# Operator Overloading\n",
    "\n",
    "class Student:\n",
    "    def __init__(self, marks):\n",
    "        self.marks = marks\n",
    "    \n",
    "    def __add__(self, other) -> int:\n",
    "        return self.marks + other.marks\n",
    "    \n",
    "    def __gt__(self, other) -> bool:\n",
    "        return self.marks > other.marks\n",
    "\n",
    "s1 = Student(100)\n",
    "s2 = Student(80)\n",
    "\n",
    "print(s1 + s2)\n",
    "print(s1 > s2)\n",
    "print(s2 < s2)"
   ]
  },
  {
   "cell_type": "code",
   "execution_count": 13,
   "id": "a3c07e55",
   "metadata": {},
   "outputs": [
    {
     "name": "stdout",
     "output_type": "stream",
     "text": [
      "Pigeon can fly ...\n",
      "Ostrich can not fly ...\n",
      "Birds can fly ...\n"
     ]
    }
   ],
   "source": [
    "# Method Overriding\n",
    "\n",
    "class Bird:\n",
    "    def fly(self):\n",
    "        print('Birds can fly ...')\n",
    "        \n",
    "class Pigeon(Bird):\n",
    "    def fly(self):\n",
    "        print('Pigeon can fly ...')\n",
    "    \n",
    "class Ostrich(Bird):\n",
    "    def fly(self):\n",
    "        print('Ostrich can not fly ...')\n",
    "\n",
    "p = Pigeon()\n",
    "o = Ostrich()\n",
    "b = Bird()\n",
    "\n",
    "p.fly()\n",
    "o.fly()\n",
    "b.fly()"
   ]
  }
 ],
 "metadata": {
  "kernelspec": {
   "display_name": "Python 3 (ipykernel)",
   "language": "python",
   "name": "python3"
  },
  "language_info": {
   "codemirror_mode": {
    "name": "ipython",
    "version": 3
   },
   "file_extension": ".py",
   "mimetype": "text/x-python",
   "name": "python",
   "nbconvert_exporter": "python",
   "pygments_lexer": "ipython3",
   "version": "3.12.3"
  }
 },
 "nbformat": 4,
 "nbformat_minor": 5
}
