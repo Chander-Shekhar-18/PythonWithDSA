{
 "cells": [
  {
   "cell_type": "code",
   "execution_count": 29,
   "metadata": {},
   "outputs": [],
   "source": [
    "arr = [7, 5, 8, 1, 6, 4, 9, 3]"
   ]
  },
  {
   "cell_type": "code",
   "execution_count": 30,
   "metadata": {},
   "outputs": [],
   "source": [
    "def Mergesort(arr, left, right):\n",
    "\n",
    "    if right > left:\n",
    "        mid = (left + right) // 2\n",
    "        Mergesort(arr, left, mid)\n",
    "        Mergesort(arr, mid + 1, right)\n",
    "\n",
    "        mergeArr(arr, left, right, mid)"
   ]
  },
  {
   "cell_type": "code",
   "execution_count": 31,
   "metadata": {},
   "outputs": [],
   "source": [
    "def mergeArr(arr, left, right, mid):\n",
    "    n1 = mid - left + 1\n",
    "    n2 = right - mid\n",
    "\n",
    "    leftHalf = [0] * n1\n",
    "    rightHalf = [0] * n2\n",
    "\n",
    "    for i in range(n1):\n",
    "        leftHalf[i] = arr[left + i]\n",
    "\n",
    "    for j in range(n2):\n",
    "        rightHalf[j] = arr[mid + 1 + j]\n",
    "\n",
    "    i = j = 0\n",
    "    k = left\n",
    "\n",
    "    while i < n1 and j < n2:\n",
    "        if leftHalf[i] <= rightHalf[j]:\n",
    "            arr[k] = leftHalf[i]\n",
    "            i = i + 1\n",
    "        else:\n",
    "            arr[k] = rightHalf[j]\n",
    "            j = j + 1\n",
    "        k = k + 1\n",
    "    \n",
    "    while i < n1:\n",
    "        arr[k] = leftHalf[i]\n",
    "        i = i + 1\n",
    "        k = k + 1\n",
    "\n",
    "    while j < n2:\n",
    "        arr[k] = rightHalf[j]\n",
    "        j = j + 1\n",
    "        k = k + 1\n"
   ]
  },
  {
   "cell_type": "code",
   "execution_count": 32,
   "metadata": {},
   "outputs": [
    {
     "name": "stdout",
     "output_type": "stream",
     "text": [
      "[1, 3, 4, 5, 6, 7, 8, 9]\n"
     ]
    }
   ],
   "source": [
    "Mergesort(arr, 0, len(arr) - 1)\n",
    "print(arr)"
   ]
  }
 ],
 "metadata": {
  "kernelspec": {
   "display_name": "Python 3",
   "language": "python",
   "name": "python3"
  },
  "language_info": {
   "codemirror_mode": {
    "name": "ipython",
    "version": 3
   },
   "file_extension": ".py",
   "mimetype": "text/x-python",
   "name": "python",
   "nbconvert_exporter": "python",
   "pygments_lexer": "ipython3",
   "version": "3.12.3"
  }
 },
 "nbformat": 4,
 "nbformat_minor": 2
}
