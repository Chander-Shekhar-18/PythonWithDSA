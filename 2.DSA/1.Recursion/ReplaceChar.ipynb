{
 "cells": [
  {
   "cell_type": "code",
   "execution_count": 2,
   "metadata": {},
   "outputs": [],
   "source": [
    "str = 'aabaabaabbb'"
   ]
  },
  {
   "cell_type": "code",
   "execution_count": 8,
   "metadata": {},
   "outputs": [],
   "source": [
    "def ReplaceChar(str, a, b):\n",
    "    if len(str) == 0:\n",
    "        return str\n",
    "    \n",
    "    smallOutput = ReplaceChar(str[1:], a, b)\n",
    "\n",
    "    if str[0] == 'a':\n",
    "        return b + smallOutput\n",
    "    else:\n",
    "\n",
    "        return str[0] + smallOutput"
   ]
  },
  {
   "cell_type": "code",
   "execution_count": 9,
   "metadata": {},
   "outputs": [
    {
     "name": "stdout",
     "output_type": "stream",
     "text": [
      "\n",
      "b\n",
      "b\n",
      "bb\n",
      "bb\n",
      "bbb\n",
      "bbb\n",
      "bbbb\n",
      "bbbb\n",
      "bbbbb\n",
      "bbbbb\n",
      "bbbbbb\n",
      "bbbbbb\n",
      "bbbbbbb\n",
      "bbbbbbb\n",
      "bbbbbbbb\n",
      "bbbbbbbb\n",
      "bbbbbbbbb\n",
      "bbbbbbbbb\n",
      "bbbbbbbbbb\n",
      "bbbbbbbbbb\n",
      "bbbbbbbbbbb\n"
     ]
    },
    {
     "data": {
      "text/plain": [
       "'bbbbbbbbbbb'"
      ]
     },
     "execution_count": 9,
     "metadata": {},
     "output_type": "execute_result"
    }
   ],
   "source": [
    "ReplaceChar(str, 'a', 'b')"
   ]
  }
 ],
 "metadata": {
  "kernelspec": {
   "display_name": "Python 3",
   "language": "python",
   "name": "python3"
  },
  "language_info": {
   "codemirror_mode": {
    "name": "ipython",
    "version": 3
   },
   "file_extension": ".py",
   "mimetype": "text/x-python",
   "name": "python",
   "nbconvert_exporter": "python",
   "pygments_lexer": "ipython3",
   "version": "3.12.3"
  }
 },
 "nbformat": 4,
 "nbformat_minor": 2
}
