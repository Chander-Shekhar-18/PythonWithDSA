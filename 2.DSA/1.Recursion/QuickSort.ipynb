{
 "cells": [
  {
   "cell_type": "code",
   "execution_count": 16,
   "metadata": {},
   "outputs": [
    {
     "name": "stdout",
     "output_type": "stream",
     "text": [
      "dcba\n"
     ]
    }
   ],
   "source": [
    "def rev(string):\n",
    "    stack = []\n",
    "\n",
    "    for c in string:\n",
    "        if c == ')':\n",
    "            portion = []\n",
    "            while stack[-1] != '(':\n",
    "                portion.append(stack.pop())\n",
    "            stack.pop()\n",
    "            stack.extend(portion)\n",
    "        else:\n",
    "            stack.append(c)\n",
    "    \n",
    "    return \"\".join(stack)\n",
    "\n",
    "print(rev('(abcd)'))"
   ]
  }
 ],
 "metadata": {
  "kernelspec": {
   "display_name": "Python 3",
   "language": "python",
   "name": "python3"
  },
  "language_info": {
   "codemirror_mode": {
    "name": "ipython",
    "version": 3
   },
   "file_extension": ".py",
   "mimetype": "text/x-python",
   "name": "python",
   "nbconvert_exporter": "python",
   "pygments_lexer": "ipython3",
   "version": "3.12.3"
  }
 },
 "nbformat": 4,
 "nbformat_minor": 2
}
