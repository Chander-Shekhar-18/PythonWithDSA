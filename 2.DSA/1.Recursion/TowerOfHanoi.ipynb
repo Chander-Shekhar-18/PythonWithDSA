{
 "cells": [
  {
   "cell_type": "code",
   "execution_count": 1,
   "metadata": {},
   "outputs": [],
   "source": [
    "def TowerOfHanoi(n, source, helper, destination):\n",
    "    if n == 1:\n",
    "        print(f'Move first disk from {source} to {destination}')\n",
    "        return\n",
    "    \n",
    "    TowerOfHanoi(n - 1, source, helper, destination)\n",
    "    print(f'Move {n}th disk from {source} to {destination}')\n",
    "    TowerOfHanoi(n - 1, helper, source, destination)"
   ]
  },
  {
   "cell_type": "code",
   "execution_count": 3,
   "metadata": {},
   "outputs": [
    {
     "name": "stdout",
     "output_type": "stream",
     "text": [
      "Move first disk from Source to Destination\n",
      "Move 2th disk from Source to Destination\n",
      "Move first disk from Helper to Destination\n"
     ]
    }
   ],
   "source": [
    "TowerOfHanoi(2, 'Source', 'Helper', 'Destination')"
   ]
  }
 ],
 "metadata": {
  "kernelspec": {
   "display_name": "Python 3",
   "language": "python",
   "name": "python3"
  },
  "language_info": {
   "codemirror_mode": {
    "name": "ipython",
    "version": 3
   },
   "file_extension": ".py",
   "mimetype": "text/x-python",
   "name": "python",
   "nbconvert_exporter": "python",
   "pygments_lexer": "ipython3",
   "version": "3.12.3"
  }
 },
 "nbformat": 4,
 "nbformat_minor": 2
}
