{
 "cells": [
  {
   "cell_type": "code",
   "execution_count": 1,
   "metadata": {},
   "outputs": [],
   "source": [
    "class BinaryTree:\n",
    "    def __init__(self, data):\n",
    "        self.data = data\n",
    "        self.left = None\n",
    "        self.right = None\n",
    "\n",
    "root = BinaryTree(1)\n",
    "root.left = BinaryTree(2)\n",
    "root.right = BinaryTree(3)\n",
    "root.left.left = BinaryTree(4)\n",
    "root.left.right = BinaryTree(50)\n",
    "root.right.left = BinaryTree(6)\n",
    "root.right.right = BinaryTree(7)"
   ]
  },
  {
   "cell_type": "code",
   "execution_count": 2,
   "metadata": {},
   "outputs": [],
   "source": [
    "def changeDepth(root):\n",
    "    return helper(root, 0)\n",
    "\n",
    "def helper(root, d):\n",
    "    if root is None:\n",
    "        return\n",
    "    \n",
    "    root.data = d\n",
    "\n",
    "    helper(root.left, d + 1)\n",
    "    helper(root.right, d + 1)"
   ]
  },
  {
   "cell_type": "code",
   "execution_count": 4,
   "metadata": {},
   "outputs": [],
   "source": [
    "# Printing the Binary Tree\n",
    "\n",
    "def printBinaryTree(root):\n",
    "    if root == None:\n",
    "        return\n",
    "    print(root.data, end = ':')\n",
    "    if root.left != None:\n",
    "        print('L',root.left.data, end = ', ')\n",
    "    if root.right != None:\n",
    "        print('R', root.right.data, end = '')\n",
    "    print()\n",
    "    printBinaryTree(root.left)\n",
    "    printBinaryTree(root.right)"
   ]
  },
  {
   "cell_type": "code",
   "execution_count": 5,
   "metadata": {},
   "outputs": [
    {
     "name": "stdout",
     "output_type": "stream",
     "text": [
      "0:L 1, R 1\n",
      "1:L 2, R 2\n",
      "2:\n",
      "2:\n",
      "1:L 2, R 2\n",
      "2:\n",
      "2:\n"
     ]
    }
   ],
   "source": [
    "changeDepth(root)\n",
    "printBinaryTree(root)"
   ]
  }
 ],
 "metadata": {
  "kernelspec": {
   "display_name": "Python 3",
   "language": "python",
   "name": "python3"
  },
  "language_info": {
   "codemirror_mode": {
    "name": "ipython",
    "version": 3
   },
   "file_extension": ".py",
   "mimetype": "text/x-python",
   "name": "python",
   "nbconvert_exporter": "python",
   "pygments_lexer": "ipython3",
   "version": "3.12.3"
  }
 },
 "nbformat": 4,
 "nbformat_minor": 2
}
