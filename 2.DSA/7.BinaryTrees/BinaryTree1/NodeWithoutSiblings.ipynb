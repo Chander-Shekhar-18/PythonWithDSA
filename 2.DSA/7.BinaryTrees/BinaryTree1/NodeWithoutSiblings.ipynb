{
 "cells": [
  {
   "cell_type": "code",
   "execution_count": 6,
   "metadata": {},
   "outputs": [],
   "source": [
    "class BinaryTree:\n",
    "    def __init__(self, data):\n",
    "        self.data = data\n",
    "        self.left = None\n",
    "        self.right = None\n",
    "\n",
    "root = BinaryTree(1)\n",
    "root.left = BinaryTree(2)\n",
    "root.right = BinaryTree(3)\n",
    "# root.left.left = BinaryTree(4)\n",
    "root.left.right = BinaryTree(50)\n",
    "root.right.left = BinaryTree(6)\n",
    "# root.right.right = BinaryTree(7)"
   ]
  },
  {
   "cell_type": "code",
   "execution_count": 2,
   "metadata": {},
   "outputs": [],
   "source": [
    "def printNode(root):\n",
    "    if root is None:\n",
    "        return\n",
    "    \n",
    "    if root.left is None and root.right is not None:\n",
    "        print(root.right.data, end = ',')\n",
    "    elif root.left is not None and root.right is None:\n",
    "        print(root.left.data, end = ' ')\n",
    "    \n",
    "    printNode(root.left)\n",
    "    printNode(root.right)"
   ]
  },
  {
   "cell_type": "code",
   "execution_count": 7,
   "metadata": {},
   "outputs": [
    {
     "name": "stdout",
     "output_type": "stream",
     "text": [
      "50,6 "
     ]
    }
   ],
   "source": [
    "printNode(root)"
   ]
  }
 ],
 "metadata": {
  "kernelspec": {
   "display_name": "Python 3",
   "language": "python",
   "name": "python3"
  },
  "language_info": {
   "codemirror_mode": {
    "name": "ipython",
    "version": 3
   },
   "file_extension": ".py",
   "mimetype": "text/x-python",
   "name": "python",
   "nbconvert_exporter": "python",
   "pygments_lexer": "ipython3",
   "version": "3.12.3"
  }
 },
 "nbformat": 4,
 "nbformat_minor": 2
}
