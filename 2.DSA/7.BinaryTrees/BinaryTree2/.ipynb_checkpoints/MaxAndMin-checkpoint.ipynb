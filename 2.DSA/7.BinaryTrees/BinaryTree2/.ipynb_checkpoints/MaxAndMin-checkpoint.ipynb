{
 "cells": [
  {
   "cell_type": "code",
   "execution_count": 14,
   "id": "d97de8ee",
   "metadata": {},
   "outputs": [],
   "source": [
    "import queue\n",
    "\n",
    "class BinaryTree:\n",
    "    def __init__(self, data):\n",
    "        self.data = data\n",
    "        self.left = None\n",
    "        self.right = None\n",
    "        \n",
    "def takeLevelWiseInput():\n",
    "\n",
    "    q = queue.Queue()\n",
    "    print('Enter the root :')\n",
    "    rootData = int(input())\n",
    "\n",
    "    if rootData == -1:\n",
    "        return None\n",
    "    \n",
    "    root = BinaryTree(rootData)\n",
    "    q.put(root)\n",
    "\n",
    "    while not q.empty():\n",
    "        currNode = q.get()\n",
    "\n",
    "        print(f'Enter the left child of {currNode.data} : ')\n",
    "        leftChildData = int(input())\n",
    "        if leftChildData != -1:\n",
    "            leftChild = BinaryTree(leftChildData)\n",
    "            currNode.left = leftChild\n",
    "            q.put(leftChild)\n",
    "        \n",
    "        print(f'Enter the right child of {currNode.data} : ')\n",
    "        rightChildData = int(input())\n",
    "        if rightChildData != -1:\n",
    "            rightChild = BinaryTree(rightChildData)\n",
    "            currNode.right = rightChild\n",
    "            q.put(rightChild)\n",
    "\n",
    "    return root\n",
    "\n",
    "def printLevelWise(root):\n",
    "    if root is None:\n",
    "        return\n",
    "    \n",
    "    q = queue.Queue()\n",
    "    q.put(root)\n",
    "\n",
    "    while not q.empty():\n",
    "        node = q.get()\n",
    "        print(node.data, end=':')\n",
    "        \n",
    "        if node.left:\n",
    "            print('L', node.left.data, end=', ')\n",
    "            q.put(node.left)\n",
    "        else:\n",
    "            print('L -', end=', ')\n",
    "        \n",
    "        if node.right:\n",
    "            print('R', node.right.data, end='')\n",
    "            q.put(node.right)\n",
    "        else:\n",
    "            print('R -', end='')\n",
    "        print()"
   ]
  },
  {
   "cell_type": "code",
   "execution_count": 16,
   "id": "1c83ee19",
   "metadata": {},
   "outputs": [],
   "source": [
    "def getMaxAndMin(root):\n",
    "    if root is None:\n",
    "        return [float('inf'), float('-inf')]\n",
    "    \n",
    "    minVal = root.data\n",
    "    maxVal = root.data\n",
    "    \n",
    "    if root.left:\n",
    "        leftPair = getMaxAndMin(root.left)\n",
    "        minVal = min(minVal, leftPair[0])\n",
    "        maxVal = max(maxVal, leftPair[1])\n",
    "        \n",
    "    if root.right:\n",
    "        rightPair = getMaxAndMin(root.right)\n",
    "        minVal = min(minVal, rightPair[0])\n",
    "        maxVal = max(maxVal, rightPair[1])\n",
    "        \n",
    "    return [minVal, maxVal]"
   ]
  },
  {
   "cell_type": "code",
   "execution_count": 15,
   "id": "3ad1c7c4",
   "metadata": {},
   "outputs": [
    {
     "name": "stdout",
     "output_type": "stream",
     "text": [
      "Enter the root :\n",
      "2\n",
      "Enter the left child of 2 : \n",
      "3\n",
      "Enter the right child of 2 : \n",
      "9\n",
      "Enter the left child of 3 : \n",
      "4\n",
      "Enter the right child of 3 : \n",
      "8\n",
      "Enter the left child of 9 : \n",
      "-1\n",
      "Enter the right child of 9 : \n",
      "2\n",
      "Enter the left child of 4 : \n",
      "4\n",
      "Enter the right child of 4 : \n",
      "-1\n",
      "Enter the left child of 8 : \n",
      "-1\n",
      "Enter the right child of 8 : \n",
      "-1\n",
      "Enter the left child of 2 : \n",
      "6\n",
      "Enter the right child of 2 : \n",
      "-1\n",
      "Enter the left child of 4 : \n",
      "-1\n",
      "Enter the right child of 4 : \n",
      "-1\n",
      "Enter the left child of 6 : \n",
      "-1\n",
      "Enter the right child of 6 : \n",
      "-1\n"
     ]
    },
    {
     "data": {
      "text/plain": [
       "[2, 9]"
      ]
     },
     "execution_count": 15,
     "metadata": {},
     "output_type": "execute_result"
    }
   ],
   "source": [
    "root = takeLevelWiseInput()\n",
    "getMaxAndMin(root)"
   ]
  }
 ],
 "metadata": {
  "kernelspec": {
   "display_name": "Python 3 (ipykernel)",
   "language": "python",
   "name": "python3"
  },
  "language_info": {
   "codemirror_mode": {
    "name": "ipython",
    "version": 3
   },
   "file_extension": ".py",
   "mimetype": "text/x-python",
   "name": "python",
   "nbconvert_exporter": "python",
   "pygments_lexer": "ipython3",
   "version": "3.12.3"
  }
 },
 "nbformat": 4,
 "nbformat_minor": 5
}
