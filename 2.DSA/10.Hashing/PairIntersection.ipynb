{
 "cells": [
  {
   "cell_type": "code",
   "execution_count": 1,
   "metadata": {},
   "outputs": [],
   "source": [
    "def pairIntersection(arr1, arr2):\n",
    "    map = {}\n",
    "\n",
    "    for ele in arr1:\n",
    "        if ele not in map:\n",
    "            map[ele] = 1\n",
    "        else:\n",
    "            map[ele] += 1\n",
    "    \n",
    "    for ele in arr2:\n",
    "        if ele in map and map[ele] > 0:\n",
    "            print(ele)\n",
    "            map[ele] -= 1"
   ]
  },
  {
   "cell_type": "code",
   "execution_count": 2,
   "metadata": {},
   "outputs": [
    {
     "name": "stdout",
     "output_type": "stream",
     "text": [
      "2\n",
      "3\n",
      "4\n"
     ]
    }
   ],
   "source": [
    "arr1 = [2,6,8,5,4,3]\n",
    "arr2 = [2,3,4,7]\n",
    "\n",
    "pairIntersection(arr1, arr2)"
   ]
  }
 ],
 "metadata": {
  "kernelspec": {
   "display_name": "Python 3",
   "language": "python",
   "name": "python3"
  },
  "language_info": {
   "codemirror_mode": {
    "name": "ipython",
    "version": 3
   },
   "file_extension": ".py",
   "mimetype": "text/x-python",
   "name": "python",
   "nbconvert_exporter": "python",
   "pygments_lexer": "ipython3",
   "version": "3.12.3"
  }
 },
 "nbformat": 4,
 "nbformat_minor": 2
}
