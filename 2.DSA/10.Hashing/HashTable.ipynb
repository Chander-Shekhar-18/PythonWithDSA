{
 "cells": [
  {
   "cell_type": "code",
   "execution_count": 27,
   "id": "ff4ca6fd",
   "metadata": {},
   "outputs": [],
   "source": [
    "class HashTable:\n",
    "    def __init__(self, size):\n",
    "        self.size = size\n",
    "        self.createHashTable()\n",
    "    \n",
    "    def createHashTable(self):\n",
    "        self.hashTable = [ [] for _ in range(self.size)]\n",
    "        \n",
    "    def insert(self, key, value):\n",
    "        hashValue = hash(key) % self.size\n",
    "        bucket = self.hashTable[hashValue]\n",
    "        \n",
    "        isFound = False\n",
    "        idx = -1\n",
    "        \n",
    "        for i in range(len(bucket)):\n",
    "            storedKey, storedValue = bucket[i]\n",
    "            if storedKey == key:\n",
    "                isFound = True\n",
    "                idx = i\n",
    "                break\n",
    "        if isFound:\n",
    "            self.hashTable[hashValue][idx] = (key, value)\n",
    "        else:\n",
    "            self.hashTable[hashValue].append((key, value))\n",
    "            \n",
    "    def get(self, key):\n",
    "        hashValue = hash(key) % self.size\n",
    "        bucket = self.hashTable[hashValue]\n",
    "        \n",
    "        for i in range(len(bucket)):\n",
    "            storedKey, storedValue = bucket[i]\n",
    "            if storedKey == key:\n",
    "                return storedValue\n",
    "        return 'HashTable Does Not Contain Key !!!'\n",
    "    \n",
    "    def delete(self, key):\n",
    "        hashValue = hash(key) % self.size\n",
    "        bucket = self.hashTable[hashValue]\n",
    "        \n",
    "        isFound = False\n",
    "        idx = -1\n",
    "        \n",
    "        for i in range(len(bucket)):\n",
    "            storedKey, storedValue = bucket[i]\n",
    "            if storedKey == key:\n",
    "                isFound = True\n",
    "                idx = i\n",
    "                break\n",
    "        \n",
    "        if isFound:\n",
    "            print('Deleted Successfully !!!')\n",
    "            self.hashTable[hashValue].pop(idx)\n",
    "        else:\n",
    "            print('Entry is HashTable Not Found !!!')"
   ]
  },
  {
   "cell_type": "code",
   "execution_count": 28,
   "id": "f7ac0e58",
   "metadata": {},
   "outputs": [],
   "source": [
    "hashTable = HashTable(10)"
   ]
  },
  {
   "cell_type": "code",
   "execution_count": 29,
   "id": "3e346341",
   "metadata": {},
   "outputs": [],
   "source": [
    "hashTable.insert('Chander', 93)\n",
    "hashTable.insert('Shekhar', 100)\n",
    "hashTable.insert('Harish', 78)"
   ]
  },
  {
   "cell_type": "code",
   "execution_count": 30,
   "id": "96204679",
   "metadata": {},
   "outputs": [
    {
     "data": {
      "text/plain": [
       "93"
      ]
     },
     "execution_count": 30,
     "metadata": {},
     "output_type": "execute_result"
    }
   ],
   "source": [
    "hashTable.get('Chander')"
   ]
  },
  {
   "cell_type": "code",
   "execution_count": 31,
   "id": "fde0508d",
   "metadata": {},
   "outputs": [
    {
     "data": {
      "text/plain": [
       "'HashTable Does Not Contain Key !!!'"
      ]
     },
     "execution_count": 31,
     "metadata": {},
     "output_type": "execute_result"
    }
   ],
   "source": [
    "hashTable.get('Deepa')"
   ]
  },
  {
   "cell_type": "code",
   "execution_count": 32,
   "id": "a6870745",
   "metadata": {},
   "outputs": [
    {
     "data": {
      "text/plain": [
       "78"
      ]
     },
     "execution_count": 32,
     "metadata": {},
     "output_type": "execute_result"
    }
   ],
   "source": [
    "hashTable.get('Harish')"
   ]
  },
  {
   "cell_type": "code",
   "execution_count": 33,
   "id": "bbfc83d1",
   "metadata": {},
   "outputs": [
    {
     "name": "stdout",
     "output_type": "stream",
     "text": [
      "Deleted Successfully !!!\n"
     ]
    }
   ],
   "source": [
    "hashTable.delete('Harish')"
   ]
  },
  {
   "cell_type": "code",
   "execution_count": 34,
   "id": "81153847",
   "metadata": {},
   "outputs": [
    {
     "data": {
      "text/plain": [
       "'HashTable Does Not Contain Key !!!'"
      ]
     },
     "execution_count": 34,
     "metadata": {},
     "output_type": "execute_result"
    }
   ],
   "source": [
    "hashTable.get('Harish')"
   ]
  },
  {
   "cell_type": "code",
   "execution_count": 35,
   "id": "a4fe3072",
   "metadata": {},
   "outputs": [
    {
     "name": "stdout",
     "output_type": "stream",
     "text": [
      "Entry is HashTable Not Found !!!\n"
     ]
    }
   ],
   "source": [
    "hashTable.delete('Harish')"
   ]
  }
 ],
 "metadata": {
  "kernelspec": {
   "display_name": "Python 3 (ipykernel)",
   "language": "python",
   "name": "python3"
  },
  "language_info": {
   "codemirror_mode": {
    "name": "ipython",
    "version": 3
   },
   "file_extension": ".py",
   "mimetype": "text/x-python",
   "name": "python",
   "nbconvert_exporter": "python",
   "pygments_lexer": "ipython3",
   "version": "3.12.3"
  }
 },
 "nbformat": 4,
 "nbformat_minor": 5
}
