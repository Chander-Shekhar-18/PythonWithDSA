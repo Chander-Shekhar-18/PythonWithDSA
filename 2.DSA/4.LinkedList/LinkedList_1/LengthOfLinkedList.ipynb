{
 "cells": [
  {
   "cell_type": "code",
   "execution_count": 1,
   "metadata": {},
   "outputs": [],
   "source": [
    "class Node:\n",
    "    def __init__(self, data) -> None:\n",
    "        self.data = data \n",
    "        self.next = None"
   ]
  },
  {
   "cell_type": "code",
   "execution_count": 9,
   "metadata": {},
   "outputs": [],
   "source": [
    "def takeInput():\n",
    "    inputList = [int (ele) for ele in input().split()]\n",
    "\n",
    "    head = None\n",
    "    tail = None\n",
    "\n",
    "    for currData in inputList:\n",
    "        if currData == -1:\n",
    "            break\n",
    "\n",
    "        newNode = Node(currData)\n",
    "\n",
    "        if head is None:\n",
    "            head = newNode\n",
    "            tail = newNode\n",
    "        else:\n",
    "            tail.next = newNode\n",
    "            tail = newNode\n",
    "    \n",
    "    return head"
   ]
  },
  {
   "cell_type": "code",
   "execution_count": 6,
   "metadata": {},
   "outputs": [],
   "source": [
    "def printLinkedList(head):\n",
    "    while head is not None:\n",
    "        print(str(head.data) + \"->\", end = ' ')\n",
    "        head = head.next\n",
    "    print('None')"
   ]
  },
  {
   "cell_type": "code",
   "execution_count": 4,
   "metadata": {},
   "outputs": [],
   "source": [
    "def length(head):\n",
    "    if head is None:\n",
    "        return 0\n",
    "    \n",
    "    return 1 + length(head.next)"
   ]
  },
  {
   "cell_type": "code",
   "execution_count": 10,
   "metadata": {},
   "outputs": [
    {
     "name": "stdout",
     "output_type": "stream",
     "text": [
      "1-> 2-> 3-> None\n",
      "3\n"
     ]
    }
   ],
   "source": [
    "head = takeInput()\n",
    "printLinkedList(head)\n",
    "print(length(head))"
   ]
  }
 ],
 "metadata": {
  "kernelspec": {
   "display_name": "Python 3",
   "language": "python",
   "name": "python3"
  },
  "language_info": {
   "codemirror_mode": {
    "name": "ipython",
    "version": 3
   },
   "file_extension": ".py",
   "mimetype": "text/x-python",
   "name": "python",
   "nbconvert_exporter": "python",
   "pygments_lexer": "ipython3",
   "version": "3.12.3"
  }
 },
 "nbformat": 4,
 "nbformat_minor": 2
}
