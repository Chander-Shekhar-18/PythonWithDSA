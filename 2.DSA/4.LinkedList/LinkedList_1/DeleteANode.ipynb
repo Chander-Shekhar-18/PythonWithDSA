{
 "cells": [
  {
   "cell_type": "code",
   "execution_count": 1,
   "metadata": {},
   "outputs": [],
   "source": [
    "class Node:\n",
    "    def __init__(self, data) -> None:\n",
    "        self.data = data \n",
    "        self.next = None"
   ]
  },
  {
   "cell_type": "code",
   "execution_count": 3,
   "metadata": {},
   "outputs": [],
   "source": [
    "def takeInput():\n",
    "    inputList = [int (ele) for ele in input().split()]\n",
    "\n",
    "    head = None\n",
    "    tail = None\n",
    "\n",
    "    for currData in inputList:\n",
    "        if currData == -1:\n",
    "            break\n",
    "\n",
    "        newNode = Node(currData)\n",
    "\n",
    "        if head is None:\n",
    "            head = newNode\n",
    "            tail = newNode\n",
    "        else:\n",
    "            tail.next = newNode\n",
    "            tail = newNode\n",
    "    \n",
    "    return head"
   ]
  },
  {
   "cell_type": "code",
   "execution_count": 9,
   "metadata": {},
   "outputs": [],
   "source": [
    "def length(head):\n",
    "    count = 0\n",
    "    while head is not None:\n",
    "        head = head.next\n",
    "        count = count + 1\n",
    "    \n",
    "    return count"
   ]
  },
  {
   "cell_type": "code",
   "execution_count": 7,
   "metadata": {},
   "outputs": [],
   "source": [
    "def deleteNode(head, position):\n",
    "    if position < 0 or position > length(head):\n",
    "        return head\n",
    "    \n",
    "    count = 0\n",
    "    prev = None\n",
    "    currNode = head\n",
    "\n",
    "    while count < position:\n",
    "        prev = currNode\n",
    "        currNode = currNode.next\n",
    "        count = count + 1 \n",
    "\n",
    "    if prev is not None:\n",
    "        prev.next = currNode.next\n",
    "    else:\n",
    "        head = currNode.next\n",
    "    \n",
    "    return head"
   ]
  },
  {
   "cell_type": "code",
   "execution_count": 4,
   "metadata": {},
   "outputs": [],
   "source": [
    "def printLinkedList(head):\n",
    "\n",
    "    while head is not None:\n",
    "        print(str(head.data) + \"->\", end = ' ')\n",
    "        head = head.next\n",
    "    print('None')"
   ]
  },
  {
   "cell_type": "code",
   "execution_count": 10,
   "metadata": {},
   "outputs": [
    {
     "name": "stdout",
     "output_type": "stream",
     "text": [
      "1-> 2-> 3-> 4-> 5-> 6-> 7-> 8-> 9-> None\n",
      "1-> 2-> 3-> 5-> 6-> 7-> 8-> 9-> None\n"
     ]
    }
   ],
   "source": [
    "head = takeInput()\n",
    "printLinkedList(head)\n",
    "deleteNode(head, 3)\n",
    "printLinkedList(head)"
   ]
  }
 ],
 "metadata": {
  "kernelspec": {
   "display_name": "Python 3",
   "language": "python",
   "name": "python3"
  },
  "language_info": {
   "codemirror_mode": {
    "name": "ipython",
    "version": 3
   },
   "file_extension": ".py",
   "mimetype": "text/x-python",
   "name": "python",
   "nbconvert_exporter": "python",
   "pygments_lexer": "ipython3",
   "version": "3.12.3"
  }
 },
 "nbformat": 4,
 "nbformat_minor": 2
}
