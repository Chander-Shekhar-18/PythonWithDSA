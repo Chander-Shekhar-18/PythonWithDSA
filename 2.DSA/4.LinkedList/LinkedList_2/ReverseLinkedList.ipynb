{
 "cells": [
  {
   "cell_type": "code",
   "execution_count": 3,
   "id": "bc4fb250",
   "metadata": {},
   "outputs": [],
   "source": [
    "class Node:\n",
    "    def __init__(self, data) -> None:\n",
    "        self.data = data\n",
    "        self.next = None"
   ]
  },
  {
   "cell_type": "code",
   "execution_count": 18,
   "id": "e5424209",
   "metadata": {},
   "outputs": [],
   "source": [
    "# Time complexity of this code is O(n)\n",
    "\n",
    "def takeInput():\n",
    "    inputList = [int(ele) for ele in input().split()]\n",
    "\n",
    "    head = None\n",
    "    tail = None\n",
    "\n",
    "    for currData in inputList:\n",
    "        if currData == -1:\n",
    "            break\n",
    "        \n",
    "        newNode = Node(currData)\n",
    "\n",
    "        if head is None:\n",
    "            head = newNode\n",
    "            tail = newNode\n",
    "        else:\n",
    "            tail.next = newNode\n",
    "            tail = newNode\n",
    "    return head"
   ]
  },
  {
   "cell_type": "code",
   "execution_count": 10,
   "id": "c6fc845b",
   "metadata": {},
   "outputs": [
    {
     "name": "stdout",
     "output_type": "stream",
     "text": [
      "1 2 3 -1\n",
      "3 2 1 "
     ]
    }
   ],
   "source": [
    "# Reversing by using recursion\n",
    "\n",
    "def reverseLL(head):\n",
    "    if not head:\n",
    "        return\n",
    "    reverseLL(head.next)\n",
    "    print(head.data, end = ' ')\n",
    "    \n",
    "head = takeInput()\n",
    "reverseLL(head)"
   ]
  },
  {
   "cell_type": "code",
   "execution_count": 12,
   "id": "722f3144",
   "metadata": {},
   "outputs": [],
   "source": [
    "# Function to print Linked List\n",
    "\n",
    "def printLinkedList(head):\n",
    "    while head is not None:\n",
    "        print(str(head.data) + '->', end = ' ')\n",
    "        head = head.next\n",
    "    print(None)\n",
    "    return"
   ]
  },
  {
   "cell_type": "code",
   "execution_count": 19,
   "id": "22822133",
   "metadata": {
    "scrolled": true
   },
   "outputs": [
    {
     "name": "stdout",
     "output_type": "stream",
     "text": [
      "1 2 34 5 -1\n",
      "1-> 2-> 34-> 5-> None\n",
      "5-> 34-> 2-> 1-> None\n"
     ]
    }
   ],
   "source": [
    "# Reversing a linked list iteratively\n",
    "\n",
    "def rev(head):\n",
    "    prev = None\n",
    "    curr = head\n",
    "    \n",
    "    while curr:\n",
    "        nextNode = curr.next\n",
    "        curr.next = prev\n",
    "        prev = curr\n",
    "        curr = nextNode\n",
    "    return prev\n",
    "\n",
    "head = takeInput()\n",
    "printLinkedList(head)\n",
    "newHead = rev(head)\n",
    "printLinkedList(newHead)"
   ]
  }
 ],
 "metadata": {
  "kernelspec": {
   "display_name": "Python 3 (ipykernel)",
   "language": "python",
   "name": "python3"
  },
  "language_info": {
   "codemirror_mode": {
    "name": "ipython",
    "version": 3
   },
   "file_extension": ".py",
   "mimetype": "text/x-python",
   "name": "python",
   "nbconvert_exporter": "python",
   "pygments_lexer": "ipython3",
   "version": "3.12.3"
  }
 },
 "nbformat": 4,
 "nbformat_minor": 5
}
