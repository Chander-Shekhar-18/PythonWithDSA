{
 "cells": [
  {
   "cell_type": "code",
   "execution_count": 1,
   "id": "6f3da3f5",
   "metadata": {},
   "outputs": [],
   "source": [
    "class Node:\n",
    "    def __init__(self, data):\n",
    "        self.data = data\n",
    "        self.next = None\n",
    "    \n",
    "def takeInput():\n",
    "    inputList = [int(ele) for ele in input().split()]\n",
    "\n",
    "    head = None\n",
    "    tail = None\n",
    "\n",
    "    for currData in inputList:\n",
    "        if currData == -1:\n",
    "            break\n",
    "        \n",
    "        newNode = Node(currData)\n",
    "\n",
    "        if head is None:\n",
    "            head = newNode\n",
    "            tail = newNode\n",
    "        else:\n",
    "            tail.next = newNode\n",
    "            tail = newNode\n",
    "    return head\n",
    "\n",
    "def printLinkedList(head):\n",
    "    while head:\n",
    "        print(head.data, end = '->')\n",
    "        head = head.next\n",
    "    print('None')"
   ]
  },
  {
   "cell_type": "code",
   "execution_count": 2,
   "id": "3e8ae9f1",
   "metadata": {},
   "outputs": [],
   "source": [
    "def mergeSort(head):\n",
    "    if head is None or head.next is None:\n",
    "        return head\n",
    "    \n",
    "    slow = head\n",
    "    fast = head\n",
    "    \n",
    "    while fast.next and fast.next.next:\n",
    "        slow = slow.next\n",
    "        fast = fast.next.next\n",
    "        \n",
    "    head2 = slow.next\n",
    "    slow.next = None\n",
    "    \n",
    "    head1 = mergeSort(head)\n",
    "    head2 = mergeSort(head2)\n",
    "    \n",
    "    return merge(head1, head2)"
   ]
  },
  {
   "cell_type": "code",
   "execution_count": 4,
   "id": "e4a97dad",
   "metadata": {},
   "outputs": [],
   "source": [
    "def merge(head1, head2):\n",
    "    if head1 is None:\n",
    "        return head2\n",
    "    if head2 is None:\n",
    "        return head1\n",
    "    \n",
    "    finalHead = None\n",
    "    \n",
    "    if head2.data < head1.data:\n",
    "        head2.next = merge(head1, head2.next)\n",
    "        finalHead = head2\n",
    "    else:\n",
    "        head1.next = merge(head1.next, head2)\n",
    "        finalHead = head1\n",
    "    \n",
    "    return finalHead"
   ]
  },
  {
   "cell_type": "code",
   "execution_count": 5,
   "id": "219bef1d",
   "metadata": {},
   "outputs": [
    {
     "name": "stdout",
     "output_type": "stream",
     "text": [
      "9 8 7 5 6 4 3 2 1 -1\n",
      "9->8->7->5->6->4->3->2->1->None\n",
      "1->2->3->4->5->6->7->8->9->None\n"
     ]
    }
   ],
   "source": [
    "head = takeInput()\n",
    "printLinkedList(head)\n",
    "printLinkedList(mergeSort(head))"
   ]
  }
 ],
 "metadata": {
  "kernelspec": {
   "display_name": "Python 3 (ipykernel)",
   "language": "python",
   "name": "python3"
  },
  "language_info": {
   "codemirror_mode": {
    "name": "ipython",
    "version": 3
   },
   "file_extension": ".py",
   "mimetype": "text/x-python",
   "name": "python",
   "nbconvert_exporter": "python",
   "pygments_lexer": "ipython3",
   "version": "3.12.3"
  }
 },
 "nbformat": 4,
 "nbformat_minor": 5
}
