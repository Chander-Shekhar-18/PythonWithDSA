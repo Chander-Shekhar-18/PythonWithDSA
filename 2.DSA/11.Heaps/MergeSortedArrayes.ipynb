{
 "cells": [
  {
   "cell_type": "code",
   "execution_count": 1,
   "metadata": {},
   "outputs": [],
   "source": [
    "import heapq"
   ]
  },
  {
   "cell_type": "code",
   "execution_count": 12,
   "metadata": {},
   "outputs": [],
   "source": [
    "def mergeArr(kArrays):\n",
    "    temp = []\n",
    "    for i in kArrays:\n",
    "        for j in i:\n",
    "            temp.append(j)\n",
    "    heapq.heapify(temp)\n",
    "\n",
    "    ans = []\n",
    "\n",
    "    for i in range(len(temp)):\n",
    "        ans.append(heapq.heappop(temp))\n",
    "    \n",
    "    return ans"
   ]
  },
  {
   "cell_type": "code",
   "execution_count": 13,
   "metadata": {},
   "outputs": [
    {
     "name": "stdout",
     "output_type": "stream",
     "text": [
      "[1, 1, 2, 2, 3, 4, 5, 6, 7]\n"
     ]
    }
   ],
   "source": [
    "ans = [[2, 4, 5, 6], [1, 3], [1, 2, 7]]\n",
    "print(mergeArr(ans))"
   ]
  }
 ],
 "metadata": {
  "kernelspec": {
   "display_name": "Python 3",
   "language": "python",
   "name": "python3"
  },
  "language_info": {
   "codemirror_mode": {
    "name": "ipython",
    "version": 3
   },
   "file_extension": ".py",
   "mimetype": "text/x-python",
   "name": "python",
   "nbconvert_exporter": "python",
   "pygments_lexer": "ipython3",
   "version": "3.12.3"
  }
 },
 "nbformat": 4,
 "nbformat_minor": 2
}
