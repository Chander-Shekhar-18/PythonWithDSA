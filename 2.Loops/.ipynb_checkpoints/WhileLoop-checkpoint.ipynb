{
 "cells": [
  {
   "cell_type": "code",
   "execution_count": 3,
   "id": "1e8cf5d3-f782-4b02-a237-6fb2978d3757",
   "metadata": {},
   "outputs": [
    {
     "name": "stdout",
     "output_type": "stream",
     "text": [
      "1\n",
      "2\n",
      "3\n",
      "4\n",
      "5\n",
      "6\n",
      "7\n",
      "8\n",
      "9\n",
      "10\n"
     ]
    }
   ],
   "source": [
    "# print the first natural numbers till n\n",
    "\n",
    "n = 10\n",
    "count = 1\n",
    "\n",
    "while count <= n:\n",
    "    print(count)\n",
    "    count += 1"
   ]
  },
  {
   "cell_type": "code",
   "execution_count": 7,
   "id": "75272df5-824a-4f2e-a580-46004f021327",
   "metadata": {},
   "outputs": [
    {
     "name": "stdout",
     "output_type": "stream",
     "text": [
      "6\n"
     ]
    }
   ],
   "source": [
    "# find the sum of first n natural numbers\n",
    "\n",
    "n = 3\n",
    "count = 1\n",
    "sum = 0\n",
    "\n",
    "while count <= n:\n",
    "    sum += count\n",
    "    count += 1\n",
    "print(sum)"
   ]
  },
  {
   "cell_type": "code",
   "execution_count": null,
   "id": "b8c2efae-35f6-4f40-8bd1-3bece39baea2",
   "metadata": {},
   "outputs": [],
   "source": [
    "# check if a nuumber is prime or not"
   ]
  }
 ],
 "metadata": {
  "kernelspec": {
   "display_name": "Python 3 (ipykernel)",
   "language": "python",
   "name": "python3"
  },
  "language_info": {
   "codemirror_mode": {
    "name": "ipython",
    "version": 3
   },
   "file_extension": ".py",
   "mimetype": "text/x-python",
   "name": "python",
   "nbconvert_exporter": "python",
   "pygments_lexer": "ipython3",
   "version": "3.10.12"
  }
 },
 "nbformat": 4,
 "nbformat_minor": 5
}
