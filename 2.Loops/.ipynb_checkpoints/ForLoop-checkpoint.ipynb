{
 "cells": [
  {
   "cell_type": "code",
   "execution_count": 2,
   "id": "09cf3cc3-d131-4491-90ee-bc99929b552b",
   "metadata": {},
   "outputs": [
    {
     "name": "stdout",
     "output_type": "stream",
     "text": [
      "C\n",
      "h\n",
      "a\n",
      "n\n",
      "d\n",
      "e\n",
      "r\n",
      "S\n",
      "h\n",
      "e\n",
      "k\n",
      "h\n",
      "a\n",
      "r\n"
     ]
    }
   ],
   "source": [
    "# Traversing through a string\n",
    "\n",
    "str = 'ChanderShekhar'\n",
    "\n",
    "for char in str:\n",
    "    print(char)"
   ]
  },
  {
   "cell_type": "code",
   "execution_count": 3,
   "id": "6007ab3a-e992-4927-ac15-4398109e86de",
   "metadata": {},
   "outputs": [
    {
     "name": "stdin",
     "output_type": "stream",
     "text": [
      "Enter a number : 5\n"
     ]
    },
    {
     "name": "stdout",
     "output_type": "stream",
     "text": [
      "1\n",
      "2\n",
      "3\n",
      "4\n",
      "5\n"
     ]
    }
   ],
   "source": [
    "# range() function\n",
    "\n",
    "# print number from 1 to n\n",
    "\n",
    "n = int(input('Enter a number :'))\n",
    "\n",
    "for i in range(1, n + 1, 1):\n",
    "    print(i)"
   ]
  },
  {
   "cell_type": "code",
   "execution_count": 5,
   "id": "0774e430-26ea-4e6c-84d1-c10b5b9c2503",
   "metadata": {},
   "outputs": [
    {
     "name": "stdin",
     "output_type": "stream",
     "text": [
      "Enter a number : 5\n"
     ]
    },
    {
     "name": "stdout",
     "output_type": "stream",
     "text": [
      "5\n",
      "4\n",
      "3\n",
      "2\n",
      "1\n"
     ]
    }
   ],
   "source": [
    "# print numbers from n to 1\n",
    "\n",
    "n = int(input('Enter a number :'))\n",
    "\n",
    "for i in range(n, 0, -1):\n",
    "    print(i)"
   ]
  },
  {
   "cell_type": "code",
   "execution_count": 7,
   "id": "43e9d5bb-ef9e-4163-8d24-1d4086b5e100",
   "metadata": {},
   "outputs": [
    {
     "name": "stdout",
     "output_type": "stream",
     "text": [
      "0\n",
      "1\n",
      "2\n",
      "3\n",
      "4\n"
     ]
    }
   ],
   "source": [
    "# one argument in range() function : it will consider lower limit as 0 and stride as 1 by default\n",
    "\n",
    "n = 4\n",
    "\n",
    "for i in range(n + 1):\n",
    "    print(i)"
   ]
  },
  {
   "cell_type": "code",
   "execution_count": 9,
   "id": "8759366a-3555-4062-865a-a838032c54c7",
   "metadata": {},
   "outputs": [
    {
     "name": "stdout",
     "output_type": "stream",
     "text": [
      "1\n",
      "2\n",
      "3\n",
      "4\n"
     ]
    }
   ],
   "source": [
    "# two arguments in range() function : it will consider first argument as start and second argument as end\n",
    "\n",
    "n = 4\n",
    "\n",
    "for i in range(1, n + 1):\n",
    "    print(i)"
   ]
  },
  {
   "cell_type": "code",
   "execution_count": 12,
   "id": "7dc2734c-423d-4739-bb86-c5e270043465",
   "metadata": {},
   "outputs": [
    {
     "name": "stdin",
     "output_type": "stream",
     "text": [
      "Enter first number : 3\n",
      "Enter secound number : 15\n"
     ]
    },
    {
     "name": "stdout",
     "output_type": "stream",
     "text": [
      "3\n",
      "6\n",
      "9\n",
      "12\n",
      "15\n"
     ]
    }
   ],
   "source": [
    "# print the multiple of 3 in a range from a to b\n",
    "\n",
    "# basic approach\n",
    "a = int(input('Enter first number :'))\n",
    "b = int(input('Enter secound number :'))\n",
    "\n",
    "for i in range(a, b + 1, 1):\n",
    "    if i % 3 == 0:\n",
    "        print(i)"
   ]
  },
  {
   "cell_type": "code",
   "execution_count": 16,
   "id": "5a006b02-cc49-4576-ae4d-2d6a115f8515",
   "metadata": {},
   "outputs": [
    {
     "name": "stdin",
     "output_type": "stream",
     "text": [
      "Enter first number : 10 \n",
      "Enter second number : 30\n"
     ]
    },
    {
     "name": "stdout",
     "output_type": "stream",
     "text": [
      "12\n",
      "15\n",
      "18\n",
      "21\n",
      "24\n",
      "27\n",
      "30\n"
     ]
    }
   ],
   "source": [
    "# print the multiple of 3 in a range from a to b\n",
    "\n",
    "# optimized approach\n",
    "\n",
    "i = int(input('Enter first number :'))\n",
    "end = int(input('Enter second number :'))\n",
    "\n",
    "if i % 3 == 0:\n",
    "    start = i\n",
    "elif i % 3 == 1:\n",
    "    start = i + 2\n",
    "else:\n",
    "    start = i + 1\n",
    "\n",
    "for s in range(start, end + 1, 3):\n",
    "    print(s)"
   ]
  },
  {
   "cell_type": "code",
   "execution_count": 32,
   "id": "38035f08-de08-4f3e-bf39-a31a2fe60a22",
   "metadata": {},
   "outputs": [
    {
     "name": "stdin",
     "output_type": "stream",
     "text": [
      "Enter a number : 7\n"
     ]
    },
    {
     "name": "stdout",
     "output_type": "stream",
     "text": [
      "Is prime\n"
     ]
    }
   ],
   "source": [
    "# check if a number is prime or not\n",
    "\n",
    "n = int(input('Enter a number :'))\n",
    "\n",
    "isPrime = True\n",
    "\n",
    "if n > 1:\n",
    "    for i in range(2, n):\n",
    "        if (n % i) == 0:\n",
    "            isPrime = False\n",
    "            break\n",
    "\n",
    "if n <= 1:\n",
    "    print('Is not prime')\n",
    "elif isPrime:\n",
    "    print('Is prime')\n",
    "else:\n",
    "    print('Is not prime')"
   ]
  }
 ],
 "metadata": {
  "kernelspec": {
   "display_name": "Python 3 (ipykernel)",
   "language": "python",
   "name": "python3"
  },
  "language_info": {
   "codemirror_mode": {
    "name": "ipython",
    "version": 3
   },
   "file_extension": ".py",
   "mimetype": "text/x-python",
   "name": "python",
   "nbconvert_exporter": "python",
   "pygments_lexer": "ipython3",
   "version": "3.10.12"
  }
 },
 "nbformat": 4,
 "nbformat_minor": 5
}
