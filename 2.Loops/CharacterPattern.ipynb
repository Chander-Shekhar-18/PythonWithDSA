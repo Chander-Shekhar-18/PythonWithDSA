{
 "cells": [
  {
   "cell_type": "code",
   "execution_count": 8,
   "id": "fb02c2be-55a2-4c28-80be-12e51ffd2024",
   "metadata": {},
   "outputs": [
    {
     "name": "stdout",
     "output_type": "stream",
     "text": [
      "ASCII value of a is : 97\n",
      "Character value of 65 is : A\n"
     ]
    }
   ],
   "source": [
    "# How to print ASCII value of a character\n",
    "\n",
    "print('ASCII value of a is :', ord('a'))\n",
    "\n",
    "print('Character value of 65 is :', chr(65))"
   ]
  },
  {
   "cell_type": "code",
   "execution_count": 14,
   "id": "89e460c1-5818-45d3-9196-de0f1847591f",
   "metadata": {},
   "outputs": [
    {
     "name": "stdout",
     "output_type": "stream",
     "text": [
      "ABCD\n",
      "ABCD\n",
      "ABCD\n",
      "ABCD\n"
     ]
    }
   ],
   "source": [
    "# ABCD\n",
    "# ABCD\n",
    "# ABCD\n",
    "# ABCD\n",
    "\n",
    "n = 4\n",
    "row = 1\n",
    "\n",
    "while row <= n:\n",
    "    col = 0\n",
    "    while col < n:\n",
    "        print(chr(ord('A') + col), end = '')\n",
    "        col = col + 1\n",
    "    print()\n",
    "    row = row + 1"
   ]
  },
  {
   "cell_type": "code",
   "execution_count": 45,
   "id": "40ed3302-ebb9-4b35-832b-485c3abe9f6c",
   "metadata": {},
   "outputs": [
    {
     "name": "stdout",
     "output_type": "stream",
     "text": [
      "ABCD\n",
      "BCDE\n",
      "CDEF\n",
      "DEFG\n"
     ]
    }
   ],
   "source": [
    "# ABCD\n",
    "# BCDE\n",
    "# CDEF\n",
    "# DEFG\n",
    "\n",
    "n = 4\n",
    "row = 1\n",
    "\n",
    "while row <= n:\n",
    "    col = 0\n",
    "    start = chr(ord('A') + row - 1)\n",
    "    while col < n:\n",
    "        print(chr(ord(start) + col ), end = '')\n",
    "        col = col + 1\n",
    "    print()\n",
    "    \n",
    "    row = row + 1"
   ]
  }
 ],
 "metadata": {
  "kernelspec": {
   "display_name": "Python 3 (ipykernel)",
   "language": "python",
   "name": "python3"
  },
  "language_info": {
   "codemirror_mode": {
    "name": "ipython",
    "version": 3
   },
   "file_extension": ".py",
   "mimetype": "text/x-python",
   "name": "python",
   "nbconvert_exporter": "python",
   "pygments_lexer": "ipython3",
   "version": "3.10.12"
  }
 },
 "nbformat": 4,
 "nbformat_minor": 5
}
